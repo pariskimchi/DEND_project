{
 "cells": [
  {
   "cell_type": "markdown",
   "id": "62df378e",
   "metadata": {},
   "source": [
    "## Part 1. ETL Pipeline for pre-processing the files"
   ]
  },
  {
   "cell_type": "code",
   "execution_count": 1,
   "id": "bcfa0760",
   "metadata": {},
   "outputs": [],
   "source": [
    "# import libraries \n",
    "import os \n",
    "import json \n",
    "import glob \n",
    "import numpy as np\n",
    "import pandas as pd \n",
    "import re\n",
    "import cassandra"
   ]
  },
  {
   "cell_type": "markdown",
   "id": "c4ce6853",
   "metadata": {},
   "source": [
    "### Creating list of filepaths to process original event csv data files"
   ]
  },
  {
   "cell_type": "code",
   "execution_count": 2,
   "id": "ef35a122",
   "metadata": {},
   "outputs": [
    {
     "name": "stdout",
     "output_type": "stream",
     "text": [
      "D:\\jupy\\Data Modeling with Apache Cassandra\n"
     ]
    }
   ],
   "source": [
    "# chekcing current directory \n",
    "print(os.getcwd())"
   ]
  },
  {
   "cell_type": "code",
   "execution_count": 3,
   "id": "c6cd665f",
   "metadata": {},
   "outputs": [],
   "source": [
    "# get dataset path \n",
    "filepath = os.getcwd()+'/event_data'"
   ]
  },
  {
   "cell_type": "code",
   "execution_count": 4,
   "id": "65962e0d",
   "metadata": {},
   "outputs": [],
   "source": [
    "# create a for loop to create a list of files and collect each filepath \n",
    "for root, dir, file in os.walk(filepath):\n",
    "    \n",
    "    # join the file path and roots with the subdirectory using glob \n",
    "    file_path_list = glob.glob(os.path.join(root,'*'))"
   ]
  },
  {
   "cell_type": "code",
   "execution_count": 5,
   "id": "acc17446",
   "metadata": {},
   "outputs": [
    {
     "name": "stdout",
     "output_type": "stream",
     "text": [
      "['D:\\\\jupy\\\\Data Modeling with Apache Cassandra/event_data\\\\2018-11-01-events.csv', 'D:\\\\jupy\\\\Data Modeling with Apache Cassandra/event_data\\\\2018-11-02-events.csv', 'D:\\\\jupy\\\\Data Modeling with Apache Cassandra/event_data\\\\2018-11-03-events.csv', 'D:\\\\jupy\\\\Data Modeling with Apache Cassandra/event_data\\\\2018-11-04-events.csv', 'D:\\\\jupy\\\\Data Modeling with Apache Cassandra/event_data\\\\2018-11-05-events.csv', 'D:\\\\jupy\\\\Data Modeling with Apache Cassandra/event_data\\\\2018-11-06-events.csv', 'D:\\\\jupy\\\\Data Modeling with Apache Cassandra/event_data\\\\2018-11-07-events.csv', 'D:\\\\jupy\\\\Data Modeling with Apache Cassandra/event_data\\\\2018-11-08-events.csv', 'D:\\\\jupy\\\\Data Modeling with Apache Cassandra/event_data\\\\2018-11-09-events.csv', 'D:\\\\jupy\\\\Data Modeling with Apache Cassandra/event_data\\\\2018-11-10-events.csv', 'D:\\\\jupy\\\\Data Modeling with Apache Cassandra/event_data\\\\2018-11-11-events.csv', 'D:\\\\jupy\\\\Data Modeling with Apache Cassandra/event_data\\\\2018-11-12-events.csv', 'D:\\\\jupy\\\\Data Modeling with Apache Cassandra/event_data\\\\2018-11-13-events.csv', 'D:\\\\jupy\\\\Data Modeling with Apache Cassandra/event_data\\\\2018-11-14-events.csv', 'D:\\\\jupy\\\\Data Modeling with Apache Cassandra/event_data\\\\2018-11-15-events.csv', 'D:\\\\jupy\\\\Data Modeling with Apache Cassandra/event_data\\\\2018-11-16-events.csv', 'D:\\\\jupy\\\\Data Modeling with Apache Cassandra/event_data\\\\2018-11-17-events.csv', 'D:\\\\jupy\\\\Data Modeling with Apache Cassandra/event_data\\\\2018-11-18-events.csv', 'D:\\\\jupy\\\\Data Modeling with Apache Cassandra/event_data\\\\2018-11-19-events.csv', 'D:\\\\jupy\\\\Data Modeling with Apache Cassandra/event_data\\\\2018-11-20-events.csv', 'D:\\\\jupy\\\\Data Modeling with Apache Cassandra/event_data\\\\2018-11-21-events.csv', 'D:\\\\jupy\\\\Data Modeling with Apache Cassandra/event_data\\\\2018-11-22-events.csv', 'D:\\\\jupy\\\\Data Modeling with Apache Cassandra/event_data\\\\2018-11-23-events.csv', 'D:\\\\jupy\\\\Data Modeling with Apache Cassandra/event_data\\\\2018-11-24-events.csv', 'D:\\\\jupy\\\\Data Modeling with Apache Cassandra/event_data\\\\2018-11-25-events.csv', 'D:\\\\jupy\\\\Data Modeling with Apache Cassandra/event_data\\\\2018-11-26-events.csv', 'D:\\\\jupy\\\\Data Modeling with Apache Cassandra/event_data\\\\2018-11-27-events.csv', 'D:\\\\jupy\\\\Data Modeling with Apache Cassandra/event_data\\\\2018-11-28-events.csv', 'D:\\\\jupy\\\\Data Modeling with Apache Cassandra/event_data\\\\2018-11-29-events.csv', 'D:\\\\jupy\\\\Data Modeling with Apache Cassandra/event_data\\\\2018-11-30-events.csv']\n"
     ]
    }
   ],
   "source": [
    "# checking \n",
    "print(file_path_list)"
   ]
  },
  {
   "cell_type": "markdown",
   "id": "0586c740",
   "metadata": {},
   "source": [
    "### Processing the files to create the datafile csv that will be used for Apache Cassandra tables"
   ]
  },
  {
   "cell_type": "code",
   "execution_count": 9,
   "id": "358402b5",
   "metadata": {},
   "outputs": [],
   "source": [
    "import csv"
   ]
  },
  {
   "cell_type": "code",
   "execution_count": 13,
   "id": "1530c2e5",
   "metadata": {},
   "outputs": [],
   "source": [
    "# initialize \n",
    "full_data_rows_list = []\n",
    "\n",
    "# for every filepath in the file path list \n",
    "for file in file_path_list:\n",
    "    #reading csv file \n",
    "    with open(file, 'r', encoding='utf8', newline='') as csvfile:\n",
    "        csv_reader = csv.reader(csvfile)\n",
    "        next(csv_reader)\n",
    "        \n",
    "        for line in csv_reader:\n",
    "            full_data_rows_list.append(line)\n",
    "            \n",
    "            "
   ]
  },
  {
   "cell_type": "code",
   "execution_count": 17,
   "id": "84fb40c2",
   "metadata": {},
   "outputs": [
    {
     "data": {
      "text/plain": [
       "['',\n",
       " 'Logged In',\n",
       " 'Walter',\n",
       " 'M',\n",
       " '0',\n",
       " 'Frye',\n",
       " '',\n",
       " 'free',\n",
       " 'San Francisco-Oakland-Hayward, CA',\n",
       " 'GET',\n",
       " 'Home',\n",
       " '1.54092E+12',\n",
       " '38',\n",
       " '',\n",
       " '200',\n",
       " '1.54111E+12',\n",
       " '39']"
      ]
     },
     "execution_count": 17,
     "metadata": {},
     "output_type": "execute_result"
    }
   ],
   "source": [
    "full_data_rows_list[0]"
   ]
  },
  {
   "cell_type": "code",
   "execution_count": 15,
   "id": "8d5769e6",
   "metadata": {},
   "outputs": [],
   "source": [
    "# creating a small event data csv file \n",
    "csv.register_dialect('myDialect',quoting=csv.QUOTE_ALL,skipinitialspace=True)"
   ]
  },
  {
   "cell_type": "code",
   "execution_count": 22,
   "id": "61265762",
   "metadata": {},
   "outputs": [],
   "source": [
    "with open('event_datafile_new.csv','w',encoding='utf8',newline='') as f:\n",
    "    csv_writer=csv.writer(f,dialect='myDialect')\n",
    "    csv_writer.writerow(['artist','firstName','gender','itemInSession','lastName','length',\\\n",
    "                     'level','location','sessionId','song','userId'])\n",
    "    for row in full_data_rows_list:\n",
    "        if (row[0] == ''):\n",
    "            continue\n",
    "        csv_writer.writerow((row[0],row[2],row[3],row[4],row[5],row[6],row[7],row[8],row[12],row[13],row[16]))"
   ]
  },
  {
   "cell_type": "code",
   "execution_count": 23,
   "id": "23b7059b",
   "metadata": {},
   "outputs": [
    {
     "name": "stdout",
     "output_type": "stream",
     "text": [
      "6821\n"
     ]
    }
   ],
   "source": [
    "# check the number of rows in new csv file \n",
    "with open('event_datafile_new.csv','r',encoding='utf8') as f:\n",
    "    print(sum(1 for line in f))"
   ]
  },
  {
   "cell_type": "markdown",
   "id": "d2bf3a7b",
   "metadata": {},
   "source": [
    "### Part 2 "
   ]
  },
  {
   "cell_type": "markdown",
   "id": "fe1b8fc5",
   "metadata": {},
   "source": [
    "#### creating cluster "
   ]
  },
  {
   "cell_type": "code",
   "execution_count": 25,
   "id": "0be5b823",
   "metadata": {},
   "outputs": [],
   "source": [
    "from cassandra.cluster import Cluster"
   ]
  },
  {
   "cell_type": "code",
   "execution_count": 26,
   "id": "4256d8bf",
   "metadata": {},
   "outputs": [
    {
     "ename": "NoHostAvailable",
     "evalue": "('Unable to connect to any servers', {'127.0.0.1:9042': ConnectionRefusedError(10061, \"Tried connecting to [('127.0.0.1', 9042)]. Last error: 대상 컴퓨터에서 연결을 거부했으므로 연결하지 못했습니다\")})",
     "output_type": "error",
     "traceback": [
      "\u001b[1;31m---------------------------------------------------------------------------\u001b[0m",
      "\u001b[1;31mNoHostAvailable\u001b[0m                           Traceback (most recent call last)",
      "\u001b[1;32m<ipython-input-26-3ab17e83758e>\u001b[0m in \u001b[0;36m<module>\u001b[1;34m\u001b[0m\n\u001b[0;32m      3\u001b[0m \u001b[1;33m\u001b[0m\u001b[0m\n\u001b[0;32m      4\u001b[0m \u001b[1;31m# establish connection\u001b[0m\u001b[1;33m\u001b[0m\u001b[1;33m\u001b[0m\u001b[1;33m\u001b[0m\u001b[0m\n\u001b[1;32m----> 5\u001b[1;33m \u001b[0msession\u001b[0m \u001b[1;33m=\u001b[0m \u001b[0mcluster\u001b[0m\u001b[1;33m.\u001b[0m\u001b[0mconnect\u001b[0m\u001b[1;33m(\u001b[0m\u001b[1;33m)\u001b[0m\u001b[1;33m\u001b[0m\u001b[1;33m\u001b[0m\u001b[0m\n\u001b[0m",
      "\u001b[1;32mC:\\ProgramData\\Anaconda3\\lib\\site-packages\\cassandra\\cluster.cp38-win_amd64.pyd\u001b[0m in \u001b[0;36mcassandra.cluster.Cluster.connect\u001b[1;34m()\u001b[0m\n",
      "\u001b[1;32mC:\\ProgramData\\Anaconda3\\lib\\site-packages\\cassandra\\cluster.cp38-win_amd64.pyd\u001b[0m in \u001b[0;36mcassandra.cluster.Cluster.connect\u001b[1;34m()\u001b[0m\n",
      "\u001b[1;32mC:\\ProgramData\\Anaconda3\\lib\\site-packages\\cassandra\\cluster.cp38-win_amd64.pyd\u001b[0m in \u001b[0;36mcassandra.cluster.Cluster.connect\u001b[1;34m()\u001b[0m\n",
      "\u001b[1;32mC:\\ProgramData\\Anaconda3\\lib\\site-packages\\cassandra\\cluster.cp38-win_amd64.pyd\u001b[0m in \u001b[0;36mcassandra.cluster.ControlConnection.connect\u001b[1;34m()\u001b[0m\n",
      "\u001b[1;32mC:\\ProgramData\\Anaconda3\\lib\\site-packages\\cassandra\\cluster.cp38-win_amd64.pyd\u001b[0m in \u001b[0;36mcassandra.cluster.ControlConnection._reconnect_internal\u001b[1;34m()\u001b[0m\n",
      "\u001b[1;31mNoHostAvailable\u001b[0m: ('Unable to connect to any servers', {'127.0.0.1:9042': ConnectionRefusedError(10061, \"Tried connecting to [('127.0.0.1', 9042)]. Last error: 대상 컴퓨터에서 연결을 거부했으므로 연결하지 못했습니다\")})"
     ]
    }
   ],
   "source": [
    "# make cluster \n",
    "cluster = Cluster()\n",
    "\n",
    "# establish connection \n",
    "session = cluster.connect()"
   ]
  },
  {
   "cell_type": "code",
   "execution_count": null,
   "id": "c0ef218b",
   "metadata": {},
   "outputs": [],
   "source": []
  }
 ],
 "metadata": {
  "kernelspec": {
   "display_name": "Python 3",
   "language": "python",
   "name": "python3"
  },
  "language_info": {
   "codemirror_mode": {
    "name": "ipython",
    "version": 3
   },
   "file_extension": ".py",
   "mimetype": "text/x-python",
   "name": "python",
   "nbconvert_exporter": "python",
   "pygments_lexer": "ipython3",
   "version": "3.8.8"
  }
 },
 "nbformat": 4,
 "nbformat_minor": 5
}
