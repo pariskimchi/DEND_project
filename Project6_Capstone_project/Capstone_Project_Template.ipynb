{
 "cells": [
  {
   "cell_type": "markdown",
   "metadata": {},
   "source": [
    "# Project Title\n",
    "### Data Engineering Capstone Project\n",
    "\n",
    "#### Project Summary\n",
    "\n",
    "This project is part of Udacity Data Engineering Nanodegree program. The idea is to take multiple disparate data sources, \n",
    "clean the data and process it through an ETL pipeline to produce a usable data set for analytics. \n",
    "\n",
    "The source data is I94 Immigration data, World Temperature Data and U.S. City Demographic Data.The plan is to enrich this data using the other data sources suggested and create a working data warehouse which can be used for analytics.\n",
    "\n",
    "Plan:\n",
    "* upload the source datasets on a data lake on AWS s3 \n",
    "* Data will be extracted, transformed and stored into a data warehouse on another aws s3 as parquet files\n",
    "    to be used Fact-Dimension tables.\n",
    "* The stored data on a data warehouse will be used for specific analytics.\n",
    "\n",
    "Ideas on questions we could explore with the final dataset:\n",
    "* For a given port city and state, how many immigrants enter from which countries?\n",
    "* Which visa is most used for immigration ? and which city or state is where these visa most used?\n",
    "* Which airline is most used for US immigration? and is there any relation between airline, state and visa_type?\n",
    "* which city is where foreign-born citizens live ? and Is there any relation between immigration and foreign-born citizens?\n",
    "\n",
    "\n",
    "\n",
    "The project follows the follow steps:\n",
    "* Step 1: Scope the Project and Gather Data\n",
    "* Step 2: Explore and Assess the Data\n",
    "* Step 3: Define the Data Model\n",
    "* Step 4: Run ETL to Model the Data\n",
    "* Step 5: Complete Project Write Up"
   ]
  },
  {
   "cell_type": "code",
   "execution_count": 1,
   "metadata": {},
   "outputs": [],
   "source": [
    "import findspark\n",
    "findspark.init()"
   ]
  },
  {
   "cell_type": "code",
   "execution_count": 4,
   "metadata": {},
   "outputs": [],
   "source": [
    "# Do all imports and installs here\n",
    "import pandas as pd\n",
    "import numpy as np\n",
    "import matplotlib.pyplot as plt\n",
    "import seaborn as sns\n",
    "\n",
    "import pyspark \n",
    "from pyspark.sql import SparkSession\n",
    "import pyspark.sql.functions as F\n",
    "from pyspark.sql.functions import udf,isnan, col, upper\n",
    "from pyspark.sql.functions import monotonically_increasing_id\n",
    "from pyspark.sql.types import DateType\n",
    "from pyspark.sql.functions import to_date,year,month"
   ]
  },
  {
   "cell_type": "code",
   "execution_count": 5,
   "metadata": {},
   "outputs": [],
   "source": [
    "import os\n",
    "from pyspark.sql import SparkSession\n",
    "spark = SparkSession.builder.getOrCreate()\n",
    "from pyspark.sql import SparkSession\n",
    "# os.environ[\"JAVA_HOME\"] = \"/usr/lib/jvm/java-8-openjdk-amd64\"\n",
    "# os.environ[\"PATH\"] = \"/opt/conda/bin:/opt/spark-2.4.3-bin-hadoop2.7/bin:/opt/conda/bin:/usr/local/sbin:/usr/local/bin:/usr/sbin:/usr/bin:/sbin:/bin:/usr/lib/jvm/java-8-openjdk-amd64/bin\"\n",
    "# os.environ[\"SPARK_HOME\"] = \"/opt/spark-2.4.3-bin-hadoop2.7\"\n",
    "# os.environ[\"HADOOP_HOME\"] = \"/opt/spark-2.4.3-bin-hadoop2.7\"\n",
    "spark = SparkSession.builder.\\\n",
    "config(\"spark.jars.packages\",\"saurfang:spark-sas7bdat:2.0.0-s_2.11\")\\\n",
    ".enableHiveSupport().getOrCreate()"
   ]
  },
  {
   "cell_type": "markdown",
   "metadata": {},
   "source": [
    "### Step 1: Scope the Project and Gather Data\n"
   ]
  },
  {
   "cell_type": "markdown",
   "metadata": {},
   "source": [
    "### Scope \n",
    "This project will integrate I94 immigration data, World temperature data and US demographic data to setup a data warehouse with fact and dimension tables"
   ]
  },
  {
   "cell_type": "markdown",
   "metadata": {},
   "source": [
    "- Datsasets:\n",
    "\n",
    "    1. I94 Immigration Data\n",
    "    2. World Temperature Data\n",
    "    3. U.S City Demographic Data\n",
    "    \n",
    "    \n",
    "- Tools:\n",
    "    \n",
    "    - AWS S3: Data storage \n",
    "    - Python for data processing:\n",
    "        1. pandas - exploratory data analysis on small data set \n",
    "        2. PySpark - data processing on larget dataset"
   ]
  },
  {
   "cell_type": "markdown",
   "metadata": {},
   "source": [
    "#### Describe and Gather Data \n",
    "\n",
    "| Data Set | Format | Description |\n",
    "| ---      | ---    | ---         |\n",
    "|[I94 Immigration Data](https://travel.trade.gov/research/reports/i94/historical/2016.html)| SAS | Data contains international visitor arrival statistics by world regions and select countries (including top 20), type of visa, mode of transportation, age groups, states visited (first intended address only), and the top ports of entry (for select countries).|\n",
    "|[World Temperature Data](https://www.kaggle.com/berkeleyearth/climate-change-earth-surface-temperature-data)| CSV | This dataset is from Kaggle and contains monthly average temperature data at different country in the world wide.|\n",
    "|[U.S. City Demographic Data](https://public.opendatasoft.com/explore/dataset/us-cities-demographics/export/)| CSV | This dataset contains information about the demographics of all US cities and census-designated places with a population greater or equal to 65,000.|\n"
   ]
  },
  {
   "cell_type": "code",
   "execution_count": null,
   "metadata": {},
   "outputs": [],
   "source": []
  },
  {
   "cell_type": "code",
   "execution_count": null,
   "metadata": {},
   "outputs": [],
   "source": []
  },
  {
   "cell_type": "markdown",
   "metadata": {},
   "source": [
    "### Data load and Description: I94 Immigration Data"
   ]
  },
  {
   "cell_type": "markdown",
   "metadata": {},
   "source": [
    "#### Load I94 Immigration Dataset"
   ]
  },
  {
   "cell_type": "code",
   "execution_count": 6,
   "metadata": {},
   "outputs": [],
   "source": [
    "# read parquet \n",
    "immigration_df = spark.read.parquet(\"./sas_data\")"
   ]
  },
  {
   "cell_type": "code",
   "execution_count": 7,
   "metadata": {
    "scrolled": true
   },
   "outputs": [
    {
     "data": {
      "text/plain": [
       "2200708"
      ]
     },
     "execution_count": 7,
     "metadata": {},
     "output_type": "execute_result"
    }
   ],
   "source": [
    "# check num of row \n",
    "immigration_df.count()"
   ]
  },
  {
   "cell_type": "code",
   "execution_count": 8,
   "metadata": {},
   "outputs": [
    {
     "data": {
      "text/html": [
       "<div>\n",
       "<style scoped>\n",
       "    .dataframe tbody tr th:only-of-type {\n",
       "        vertical-align: middle;\n",
       "    }\n",
       "\n",
       "    .dataframe tbody tr th {\n",
       "        vertical-align: top;\n",
       "    }\n",
       "\n",
       "    .dataframe thead th {\n",
       "        text-align: right;\n",
       "    }\n",
       "</style>\n",
       "<table border=\"1\" class=\"dataframe\">\n",
       "  <thead>\n",
       "    <tr style=\"text-align: right;\">\n",
       "      <th></th>\n",
       "      <th>cicid</th>\n",
       "      <th>i94yr</th>\n",
       "      <th>i94mon</th>\n",
       "      <th>i94cit</th>\n",
       "      <th>i94res</th>\n",
       "      <th>i94port</th>\n",
       "      <th>arrdate</th>\n",
       "      <th>i94mode</th>\n",
       "      <th>i94addr</th>\n",
       "      <th>depdate</th>\n",
       "      <th>...</th>\n",
       "      <th>entdepu</th>\n",
       "      <th>matflag</th>\n",
       "      <th>biryear</th>\n",
       "      <th>dtaddto</th>\n",
       "      <th>gender</th>\n",
       "      <th>insnum</th>\n",
       "      <th>airline</th>\n",
       "      <th>admnum</th>\n",
       "      <th>fltno</th>\n",
       "      <th>visatype</th>\n",
       "    </tr>\n",
       "  </thead>\n",
       "  <tbody>\n",
       "    <tr>\n",
       "      <th>0</th>\n",
       "      <td>459651.0</td>\n",
       "      <td>2016.0</td>\n",
       "      <td>4.0</td>\n",
       "      <td>135.0</td>\n",
       "      <td>135.0</td>\n",
       "      <td>ATL</td>\n",
       "      <td>20547.0</td>\n",
       "      <td>1.0</td>\n",
       "      <td>FL</td>\n",
       "      <td>20559.0</td>\n",
       "      <td>...</td>\n",
       "      <td>None</td>\n",
       "      <td>M</td>\n",
       "      <td>1962.0</td>\n",
       "      <td>07012016</td>\n",
       "      <td>None</td>\n",
       "      <td>None</td>\n",
       "      <td>VS</td>\n",
       "      <td>5.555625e+10</td>\n",
       "      <td>00115</td>\n",
       "      <td>WT</td>\n",
       "    </tr>\n",
       "    <tr>\n",
       "      <th>1</th>\n",
       "      <td>459652.0</td>\n",
       "      <td>2016.0</td>\n",
       "      <td>4.0</td>\n",
       "      <td>135.0</td>\n",
       "      <td>135.0</td>\n",
       "      <td>ATL</td>\n",
       "      <td>20547.0</td>\n",
       "      <td>1.0</td>\n",
       "      <td>FL</td>\n",
       "      <td>20555.0</td>\n",
       "      <td>...</td>\n",
       "      <td>None</td>\n",
       "      <td>M</td>\n",
       "      <td>1942.0</td>\n",
       "      <td>07012016</td>\n",
       "      <td>F</td>\n",
       "      <td>None</td>\n",
       "      <td>VS</td>\n",
       "      <td>6.744065e+08</td>\n",
       "      <td>103</td>\n",
       "      <td>WT</td>\n",
       "    </tr>\n",
       "    <tr>\n",
       "      <th>2</th>\n",
       "      <td>459653.0</td>\n",
       "      <td>2016.0</td>\n",
       "      <td>4.0</td>\n",
       "      <td>135.0</td>\n",
       "      <td>135.0</td>\n",
       "      <td>ATL</td>\n",
       "      <td>20547.0</td>\n",
       "      <td>1.0</td>\n",
       "      <td>FL</td>\n",
       "      <td>20557.0</td>\n",
       "      <td>...</td>\n",
       "      <td>None</td>\n",
       "      <td>M</td>\n",
       "      <td>1972.0</td>\n",
       "      <td>10022016</td>\n",
       "      <td>M</td>\n",
       "      <td>None</td>\n",
       "      <td>VS</td>\n",
       "      <td>6.749482e+08</td>\n",
       "      <td>109</td>\n",
       "      <td>B2</td>\n",
       "    </tr>\n",
       "    <tr>\n",
       "      <th>3</th>\n",
       "      <td>459654.0</td>\n",
       "      <td>2016.0</td>\n",
       "      <td>4.0</td>\n",
       "      <td>135.0</td>\n",
       "      <td>135.0</td>\n",
       "      <td>ATL</td>\n",
       "      <td>20547.0</td>\n",
       "      <td>1.0</td>\n",
       "      <td>G</td>\n",
       "      <td>20555.0</td>\n",
       "      <td>...</td>\n",
       "      <td>None</td>\n",
       "      <td>M</td>\n",
       "      <td>1978.0</td>\n",
       "      <td>07012016</td>\n",
       "      <td>None</td>\n",
       "      <td>None</td>\n",
       "      <td>VS</td>\n",
       "      <td>5.554176e+10</td>\n",
       "      <td>00103</td>\n",
       "      <td>WT</td>\n",
       "    </tr>\n",
       "    <tr>\n",
       "      <th>4</th>\n",
       "      <td>459655.0</td>\n",
       "      <td>2016.0</td>\n",
       "      <td>4.0</td>\n",
       "      <td>135.0</td>\n",
       "      <td>135.0</td>\n",
       "      <td>ATL</td>\n",
       "      <td>20547.0</td>\n",
       "      <td>1.0</td>\n",
       "      <td>GA</td>\n",
       "      <td>NaN</td>\n",
       "      <td>...</td>\n",
       "      <td>None</td>\n",
       "      <td>None</td>\n",
       "      <td>1952.0</td>\n",
       "      <td>07012016</td>\n",
       "      <td>F</td>\n",
       "      <td>None</td>\n",
       "      <td>VS</td>\n",
       "      <td>5.554133e+10</td>\n",
       "      <td>00103</td>\n",
       "      <td>WT</td>\n",
       "    </tr>\n",
       "  </tbody>\n",
       "</table>\n",
       "<p>5 rows × 28 columns</p>\n",
       "</div>"
      ],
      "text/plain": [
       "      cicid   i94yr  i94mon  i94cit  i94res i94port  arrdate  i94mode i94addr  \\\n",
       "0  459651.0  2016.0     4.0   135.0   135.0     ATL  20547.0      1.0      FL   \n",
       "1  459652.0  2016.0     4.0   135.0   135.0     ATL  20547.0      1.0      FL   \n",
       "2  459653.0  2016.0     4.0   135.0   135.0     ATL  20547.0      1.0      FL   \n",
       "3  459654.0  2016.0     4.0   135.0   135.0     ATL  20547.0      1.0       G   \n",
       "4  459655.0  2016.0     4.0   135.0   135.0     ATL  20547.0      1.0      GA   \n",
       "\n",
       "   depdate  ...  entdepu  matflag  biryear   dtaddto gender insnum airline  \\\n",
       "0  20559.0  ...     None        M   1962.0  07012016   None   None      VS   \n",
       "1  20555.0  ...     None        M   1942.0  07012016      F   None      VS   \n",
       "2  20557.0  ...     None        M   1972.0  10022016      M   None      VS   \n",
       "3  20555.0  ...     None        M   1978.0  07012016   None   None      VS   \n",
       "4      NaN  ...     None     None   1952.0  07012016      F   None      VS   \n",
       "\n",
       "         admnum  fltno visatype  \n",
       "0  5.555625e+10  00115       WT  \n",
       "1  6.744065e+08    103       WT  \n",
       "2  6.749482e+08    109       B2  \n",
       "3  5.554176e+10  00103       WT  \n",
       "4  5.554133e+10  00103       WT  \n",
       "\n",
       "[5 rows x 28 columns]"
      ]
     },
     "execution_count": 8,
     "metadata": {},
     "output_type": "execute_result"
    }
   ],
   "source": [
    "# check head \n",
    "immigration_df.limit(5).toPandas()"
   ]
  },
  {
   "cell_type": "code",
   "execution_count": 9,
   "metadata": {},
   "outputs": [
    {
     "data": {
      "text/plain": [
       "['cicid',\n",
       " 'i94yr',\n",
       " 'i94mon',\n",
       " 'i94cit',\n",
       " 'i94res',\n",
       " 'i94port',\n",
       " 'arrdate',\n",
       " 'i94mode',\n",
       " 'i94addr',\n",
       " 'depdate',\n",
       " 'i94bir',\n",
       " 'i94visa',\n",
       " 'count',\n",
       " 'dtadfile',\n",
       " 'visapost',\n",
       " 'occup',\n",
       " 'entdepa',\n",
       " 'entdepd',\n",
       " 'entdepu',\n",
       " 'matflag',\n",
       " 'biryear',\n",
       " 'dtaddto',\n",
       " 'gender',\n",
       " 'insnum',\n",
       " 'airline',\n",
       " 'admnum',\n",
       " 'fltno',\n",
       " 'visatype']"
      ]
     },
     "execution_count": 9,
     "metadata": {},
     "output_type": "execute_result"
    }
   ],
   "source": [
    "# check columns \n",
    "immigration_df.columns"
   ]
  },
  {
   "cell_type": "markdown",
   "metadata": {},
   "source": [
    "### Data Dictionary: I94 Immigration Dataset "
   ]
  },
  {
   "cell_type": "markdown",
   "metadata": {},
   "source": [
    "- `i94yr` = 4 digit year \n",
    "- `i94mon` = month \n",
    "- `i94cit` = 3 digit code of origin city \n",
    "- `i94res` = \t3 digit code for immigrant country of residence\n",
    "- `i94port` = port of admission\n",
    "- `arrdate` = arrival date in the USA \n",
    "- `i94mode` = 1 digit travel code \n",
    "- `i94addr` = state of arrival\n",
    "- `depdate` = departure date from the USA \n",
    "- `i94bir` = Age of Respondent in Years\n",
    "- `i94visa` = reason for immigration\n",
    "- `count` = field used for summary statistics\n",
    "- `dtadfile` = Character Date field - date added to i-94 files \n",
    "- `visapost` = Department of state where visa was issued \n",
    "- `occup`  = occupation that will be performed in u.s\n",
    "- `entdepa` = Arrival flag - admitted or paroled into the u.s\n",
    "- `entdepd` = Departure flag - departed, lost I-94 or is deceased \n",
    "- `entdepu` = Update flag \n",
    "- `matflag` = Match flag - Match of arrival and departure records \n",
    "- `biryear` = 4 digit year of birth\n",
    "- `dtaddto` = Character Date field - date to which admitted to us.\n",
    "- `gender` = non-immigrant sex \n",
    "- `insnum` = INS number \n",
    "- `airline` = Airline used to arrive in us \n",
    "- `admnum` = admission number \n",
    "- `fltno` = flight number of airline used to arrive in u.s\n",
    "- `visatype` = class of admission "
   ]
  },
  {
   "cell_type": "markdown",
   "metadata": {},
   "source": [
    "#### Load I94 Immigration data's Label dataset to understand dataset"
   ]
  },
  {
   "cell_type": "code",
   "execution_count": 10,
   "metadata": {},
   "outputs": [],
   "source": [
    "# load label dataset\n",
    "with open(\"./I94_SAS_Labels_Descriptions.SAS\") as f:\n",
    "    f_content = f.read()\n",
    "    f_content = f_content.replace('\\t','')\n",
    "\n",
    "def code_mapper(f_content, idx):\n",
    "    \"\"\"\n",
    "        function to load SAS data \n",
    "    \"\"\"\n",
    "    \n",
    "    f_content2 = f_content[f_content.index(idx):]\n",
    "    f_content2 = f_content2[:f_content2.index(';')].split('\\n')\n",
    "    f_content2 = [i.replace(\"'\",\"\") for i in f_content2]\n",
    "    \n",
    "    dic = [i.split('=') for i in f_content2[1:]]\n",
    "    dic = dict([i[0].strip(), i[1].strip()] for i in dic if len(i) == 2)\n",
    "    \n",
    "    return dic"
   ]
  },
  {
   "cell_type": "code",
   "execution_count": 11,
   "metadata": {},
   "outputs": [],
   "source": [
    "# load \n",
    "i94cit_res = code_mapper(f_content, \"i94cntyl\")\n",
    "i94port = code_mapper(f_content, \"i94prtl\")\n",
    "i94mode = code_mapper(f_content, \"i94model\")\n",
    "i94addr = code_mapper(f_content, \"i94addrl\")\n",
    "i94visa = {'1':'Business',\n",
    "'2': 'Pleasure',\n",
    "'3' : 'Student'}"
   ]
  },
  {
   "cell_type": "code",
   "execution_count": 12,
   "metadata": {},
   "outputs": [
    {
     "data": {
      "text/plain": [
       "{'582': 'MEXICO Air Sea, and Not Reported (I-94, no land arrivals)',\n",
       " '236': 'AFGHANISTAN',\n",
       " '101': 'ALBANIA',\n",
       " '316': 'ALGERIA',\n",
       " '102': 'ANDORRA',\n",
       " '324': 'ANGOLA',\n",
       " '529': 'ANGUILLA',\n",
       " '518': 'ANTIGUA-BARBUDA',\n",
       " '687': 'ARGENTINA',\n",
       " '151': 'ARMENIA',\n",
       " '532': 'ARUBA',\n",
       " '438': 'AUSTRALIA',\n",
       " '103': 'AUSTRIA',\n",
       " '152': 'AZERBAIJAN',\n",
       " '512': 'BAHAMAS',\n",
       " '298': 'BAHRAIN',\n",
       " '274': 'BANGLADESH',\n",
       " '513': 'BARBADOS',\n",
       " '104': 'BELGIUM',\n",
       " '581': 'BELIZE',\n",
       " '386': 'BENIN',\n",
       " '509': 'BERMUDA',\n",
       " '153': 'BELARUS',\n",
       " '242': 'BHUTAN',\n",
       " '688': 'BOLIVIA',\n",
       " '717': 'BONAIRE, ST EUSTATIUS, SABA',\n",
       " '164': 'BOSNIA-HERZEGOVINA',\n",
       " '336': 'BOTSWANA',\n",
       " '689': 'BRAZIL',\n",
       " '525': 'BRITISH VIRGIN ISLANDS',\n",
       " '217': 'BRUNEI',\n",
       " '105': 'BULGARIA',\n",
       " '393': 'BURKINA FASO',\n",
       " '243': 'BURMA',\n",
       " '375': 'BURUNDI',\n",
       " '310': 'CAMEROON',\n",
       " '326': 'CAPE VERDE',\n",
       " '526': 'CAYMAN ISLANDS',\n",
       " '383': 'CENTRAL AFRICAN REPUBLIC',\n",
       " '384': 'CHAD',\n",
       " '690': 'CHILE',\n",
       " '245': 'CHINA, PRC',\n",
       " '721': 'CURACAO',\n",
       " '270': 'CHRISTMAS ISLAND',\n",
       " '271': 'COCOS ISLANDS',\n",
       " '691': 'COLOMBIA',\n",
       " '317': 'COMOROS',\n",
       " '385': 'CONGO',\n",
       " '467': 'COOK ISLANDS',\n",
       " '575': 'COSTA RICA',\n",
       " '165': 'CROATIA',\n",
       " '584': 'CUBA',\n",
       " '218': 'CYPRUS',\n",
       " '140': 'CZECH REPUBLIC',\n",
       " '723': 'FAROE ISLANDS (PART OF DENMARK)',\n",
       " '108': 'DENMARK',\n",
       " '322': 'DJIBOUTI',\n",
       " '519': 'DOMINICA',\n",
       " '585': 'DOMINICAN REPUBLIC',\n",
       " '240': 'EAST TIMOR',\n",
       " '692': 'ECUADOR',\n",
       " '368': 'EGYPT',\n",
       " '576': 'EL SALVADOR',\n",
       " '399': 'EQUATORIAL GUINEA',\n",
       " '372': 'ERITREA',\n",
       " '109': 'ESTONIA',\n",
       " '369': 'ETHIOPIA',\n",
       " '604': 'FALKLAND ISLANDS',\n",
       " '413': 'FIJI',\n",
       " '110': 'FINLAND',\n",
       " '111': 'FRANCE',\n",
       " '601': 'FRENCH GUIANA',\n",
       " '411': 'FRENCH POLYNESIA',\n",
       " '387': 'GABON',\n",
       " '338': 'GAMBIA',\n",
       " '758': 'GAZA STRIP',\n",
       " '154': 'GEORGIA',\n",
       " '112': 'GERMANY',\n",
       " '339': 'GHANA',\n",
       " '143': 'GIBRALTAR',\n",
       " '113': 'GREECE',\n",
       " '520': 'GRENADA',\n",
       " '507': 'GUADELOUPE',\n",
       " '577': 'GUATEMALA',\n",
       " '382': 'GUINEA',\n",
       " '327': 'GUINEA-BISSAU',\n",
       " '603': 'GUYANA',\n",
       " '586': 'HAITI',\n",
       " '726': 'HEARD AND MCDONALD IS.',\n",
       " '149': 'HOLY SEE/VATICAN',\n",
       " '528': 'HONDURAS',\n",
       " '206': 'HONG KONG',\n",
       " '114': 'HUNGARY',\n",
       " '115': 'ICELAND',\n",
       " '213': 'INDIA',\n",
       " '759': 'INDIAN OCEAN AREAS (FRENCH)',\n",
       " '729': 'INDIAN OCEAN TERRITORY',\n",
       " '204': 'INDONESIA',\n",
       " '249': 'IRAN',\n",
       " '250': 'IRAQ',\n",
       " '116': 'IRELAND',\n",
       " '251': 'ISRAEL',\n",
       " '117': 'ITALY',\n",
       " '388': 'IVORY COAST',\n",
       " '514': 'JAMAICA',\n",
       " '209': 'JAPAN',\n",
       " '253': 'JORDAN',\n",
       " '201': 'KAMPUCHEA',\n",
       " '155': 'KAZAKHSTAN',\n",
       " '340': 'KENYA',\n",
       " '414': 'KIRIBATI',\n",
       " '732': 'KOSOVO',\n",
       " '272': 'KUWAIT',\n",
       " '156': 'KYRGYZSTAN',\n",
       " '203': 'LAOS',\n",
       " '118': 'LATVIA',\n",
       " '255': 'LEBANON',\n",
       " '335': 'LESOTHO',\n",
       " '370': 'LIBERIA',\n",
       " '381': 'LIBYA',\n",
       " '119': 'LIECHTENSTEIN',\n",
       " '120': 'LITHUANIA',\n",
       " '121': 'LUXEMBOURG',\n",
       " '214': 'MACAU',\n",
       " '167': 'MACEDONIA',\n",
       " '320': 'MADAGASCAR',\n",
       " '345': 'MALAWI',\n",
       " '273': 'MALAYSIA',\n",
       " '220': 'MALDIVES',\n",
       " '392': 'MALI',\n",
       " '145': 'MALTA',\n",
       " '472': 'MARSHALL ISLANDS',\n",
       " '511': 'MARTINIQUE',\n",
       " '389': 'MAURITANIA',\n",
       " '342': 'MAURITIUS',\n",
       " '760': 'MAYOTTE (AFRICA - FRENCH)',\n",
       " '473': 'MICRONESIA, FED. STATES OF',\n",
       " '157': 'MOLDOVA',\n",
       " '122': 'MONACO',\n",
       " '299': 'MONGOLIA',\n",
       " '735': 'MONTENEGRO',\n",
       " '521': 'MONTSERRAT',\n",
       " '332': 'MOROCCO',\n",
       " '329': 'MOZAMBIQUE',\n",
       " '371': 'NAMIBIA',\n",
       " '440': 'NAURU',\n",
       " '257': 'NEPAL',\n",
       " '123': 'NETHERLANDS',\n",
       " '508': 'NETHERLANDS ANTILLES',\n",
       " '409': 'NEW CALEDONIA',\n",
       " '464': 'NEW ZEALAND',\n",
       " '579': 'NICARAGUA',\n",
       " '390': 'NIGER',\n",
       " '343': 'NIGERIA',\n",
       " '470': 'NIUE',\n",
       " '275': 'NORTH KOREA',\n",
       " '124': 'NORWAY',\n",
       " '256': 'OMAN',\n",
       " '258': 'PAKISTAN',\n",
       " '474': 'PALAU',\n",
       " '743': 'PALESTINE',\n",
       " '504': 'PANAMA',\n",
       " '441': 'PAPUA NEW GUINEA',\n",
       " '693': 'PARAGUAY',\n",
       " '694': 'PERU',\n",
       " '260': 'PHILIPPINES',\n",
       " '416': 'PITCAIRN ISLANDS',\n",
       " '107': 'POLAND',\n",
       " '126': 'PORTUGAL',\n",
       " '297': 'QATAR',\n",
       " '748': 'REPUBLIC OF SOUTH SUDAN',\n",
       " '321': 'REUNION',\n",
       " '127': 'ROMANIA',\n",
       " '158': 'RUSSIA',\n",
       " '376': 'RWANDA',\n",
       " '128': 'SAN MARINO',\n",
       " '330': 'SAO TOME AND PRINCIPE',\n",
       " '261': 'SAUDI ARABIA',\n",
       " '391': 'SENEGAL',\n",
       " '142': 'SERBIA AND MONTENEGRO',\n",
       " '745': 'SERBIA',\n",
       " '347': 'SEYCHELLES',\n",
       " '348': 'SIERRA LEONE',\n",
       " '207': 'SINGAPORE',\n",
       " '141': 'SLOVAKIA',\n",
       " '166': 'SLOVENIA',\n",
       " '412': 'SOLOMON ISLANDS',\n",
       " '397': 'SOMALIA',\n",
       " '373': 'SOUTH AFRICA',\n",
       " '276': 'SOUTH KOREA',\n",
       " '129': 'SPAIN',\n",
       " '244': 'SRI LANKA',\n",
       " '346': 'ST. HELENA',\n",
       " '522': 'ST. KITTS-NEVIS',\n",
       " '523': 'ST. LUCIA',\n",
       " '502': 'ST. PIERRE AND MIQUELON',\n",
       " '524': 'ST. VINCENT-GRENADINES',\n",
       " '716': 'SAINT BARTHELEMY',\n",
       " '736': 'SAINT MARTIN',\n",
       " '749': 'SAINT MAARTEN',\n",
       " '350': 'SUDAN',\n",
       " '602': 'SURINAME',\n",
       " '351': 'SWAZILAND',\n",
       " '130': 'SWEDEN',\n",
       " '131': 'SWITZERLAND',\n",
       " '262': 'SYRIA',\n",
       " '268': 'TAIWAN',\n",
       " '159': 'TAJIKISTAN',\n",
       " '353': 'TANZANIA',\n",
       " '263': 'THAILAND',\n",
       " '304': 'TOGO',\n",
       " '417': 'TONGA',\n",
       " '516': 'TRINIDAD AND TOBAGO',\n",
       " '323': 'TUNISIA',\n",
       " '264': 'TURKEY',\n",
       " '161': 'TURKMENISTAN',\n",
       " '527': 'TURKS AND CAICOS ISLANDS',\n",
       " '420': 'TUVALU',\n",
       " '352': 'UGANDA',\n",
       " '162': 'UKRAINE',\n",
       " '296': 'UNITED ARAB EMIRATES',\n",
       " '135': 'UNITED KINGDOM',\n",
       " '695': 'URUGUAY',\n",
       " '163': 'UZBEKISTAN',\n",
       " '410': 'VANUATU',\n",
       " '696': 'VENEZUELA',\n",
       " '266': 'VIETNAM',\n",
       " '469': 'WALLIS AND FUTUNA ISLANDS',\n",
       " '757': 'WEST INDIES (FRENCH)',\n",
       " '333': 'WESTERN SAHARA',\n",
       " '465': 'WESTERN SAMOA',\n",
       " '216': 'YEMEN',\n",
       " '139': 'YUGOSLAVIA',\n",
       " '301': 'ZAIRE',\n",
       " '344': 'ZAMBIA',\n",
       " '315': 'ZIMBABWE',\n",
       " '403': 'INVALID: AMERICAN SAMOA',\n",
       " '712': 'INVALID: ANTARCTICA',\n",
       " '700': 'INVALID: BORN ON BOARD SHIP',\n",
       " '719': 'INVALID: BOUVET ISLAND (ANTARCTICA/NORWAY TERR.)',\n",
       " '574': 'INVALID: CANADA',\n",
       " '720': 'INVALID: CANTON AND ENDERBURY ISLS',\n",
       " '106': 'INVALID: CZECHOSLOVAKIA',\n",
       " '739': 'INVALID: DRONNING MAUD LAND (ANTARCTICA-NORWAY)',\n",
       " '394': 'INVALID: FRENCH SOUTHERN AND ANTARCTIC',\n",
       " '501': 'INVALID: GREENLAND',\n",
       " '404': 'INVALID: GUAM',\n",
       " '730': 'INVALID: INTERNATIONAL WATERS',\n",
       " '731': 'INVALID: JOHNSON ISLAND',\n",
       " '471': 'INVALID: MARIANA ISLANDS, NORTHERN',\n",
       " '737': 'INVALID: MIDWAY ISLANDS',\n",
       " '753': 'INVALID: MINOR OUTLYING ISLANDS - USA',\n",
       " '740': 'INVALID: NEUTRAL ZONE (S. ARABIA/IRAQ)',\n",
       " '710': 'INVALID: NON-QUOTA IMMIGRANT',\n",
       " '505': 'INVALID: PUERTO RICO',\n",
       " '0': 'INVALID: STATELESS',\n",
       " '705': 'INVALID: STATELESS',\n",
       " '583': 'INVALID: UNITED STATES',\n",
       " '407': 'INVALID: UNITED STATES',\n",
       " '999': 'INVALID: UNKNOWN',\n",
       " '239': 'INVALID: UNKNOWN COUNTRY',\n",
       " '134': 'INVALID: USSR',\n",
       " '506': 'INVALID: U.S. VIRGIN ISLANDS',\n",
       " '755': 'INVALID: WAKE ISLAND',\n",
       " '311': 'Collapsed Tanzania (should not show)',\n",
       " '741': 'Collapsed Curacao (should not show)',\n",
       " '54': 'No Country Code (54)',\n",
       " '100': 'No Country Code (100)',\n",
       " '187': 'No Country Code (187)',\n",
       " '190': 'No Country Code (190)',\n",
       " '200': 'No Country Code (200)',\n",
       " '219': 'No Country Code (219)',\n",
       " '238': 'No Country Code (238)',\n",
       " '277': 'No Country Code (277)',\n",
       " '293': 'No Country Code (293)',\n",
       " '300': 'No Country Code (300)',\n",
       " '319': 'No Country Code (319)',\n",
       " '365': 'No Country Code (365)',\n",
       " '395': 'No Country Code (395)',\n",
       " '400': 'No Country Code (400)',\n",
       " '485': 'No Country Code (485)',\n",
       " '503': 'No Country Code (503)',\n",
       " '589': 'No Country Code (589)',\n",
       " '592': 'No Country Code (592)',\n",
       " '791': 'No Country Code (791)',\n",
       " '849': 'No Country Code (849)',\n",
       " '914': 'No Country Code (914)',\n",
       " '944': 'No Country Code (944)',\n",
       " '996': 'No Country Code (996)'}"
      ]
     },
     "execution_count": 12,
     "metadata": {},
     "output_type": "execute_result"
    }
   ],
   "source": [
    "i94cit_res"
   ]
  },
  {
   "cell_type": "code",
   "execution_count": 13,
   "metadata": {},
   "outputs": [],
   "source": [
    "# create country_df \n",
    "df_country_code = pd.DataFrame(list(i94cit_res.items()), columns=['code','country'])"
   ]
  },
  {
   "cell_type": "code",
   "execution_count": 14,
   "metadata": {},
   "outputs": [
    {
     "data": {
      "text/html": [
       "<div>\n",
       "<style scoped>\n",
       "    .dataframe tbody tr th:only-of-type {\n",
       "        vertical-align: middle;\n",
       "    }\n",
       "\n",
       "    .dataframe tbody tr th {\n",
       "        vertical-align: top;\n",
       "    }\n",
       "\n",
       "    .dataframe thead th {\n",
       "        text-align: right;\n",
       "    }\n",
       "</style>\n",
       "<table border=\"1\" class=\"dataframe\">\n",
       "  <thead>\n",
       "    <tr style=\"text-align: right;\">\n",
       "      <th></th>\n",
       "      <th>code</th>\n",
       "      <th>country</th>\n",
       "    </tr>\n",
       "  </thead>\n",
       "  <tbody>\n",
       "    <tr>\n",
       "      <th>0</th>\n",
       "      <td>582</td>\n",
       "      <td>MEXICO Air Sea, and Not Reported (I-94, no lan...</td>\n",
       "    </tr>\n",
       "    <tr>\n",
       "      <th>1</th>\n",
       "      <td>236</td>\n",
       "      <td>AFGHANISTAN</td>\n",
       "    </tr>\n",
       "    <tr>\n",
       "      <th>2</th>\n",
       "      <td>101</td>\n",
       "      <td>ALBANIA</td>\n",
       "    </tr>\n",
       "    <tr>\n",
       "      <th>3</th>\n",
       "      <td>316</td>\n",
       "      <td>ALGERIA</td>\n",
       "    </tr>\n",
       "    <tr>\n",
       "      <th>4</th>\n",
       "      <td>102</td>\n",
       "      <td>ANDORRA</td>\n",
       "    </tr>\n",
       "  </tbody>\n",
       "</table>\n",
       "</div>"
      ],
      "text/plain": [
       "  code                                            country\n",
       "0  582  MEXICO Air Sea, and Not Reported (I-94, no lan...\n",
       "1  236                                        AFGHANISTAN\n",
       "2  101                                            ALBANIA\n",
       "3  316                                            ALGERIA\n",
       "4  102                                            ANDORRA"
      ]
     },
     "execution_count": 14,
     "metadata": {},
     "output_type": "execute_result"
    }
   ],
   "source": [
    "df_country_code.head()"
   ]
  },
  {
   "cell_type": "code",
   "execution_count": 15,
   "metadata": {},
   "outputs": [
    {
     "data": {
      "text/plain": [
       "code       289\n",
       "country    289\n",
       "dtype: int64"
      ]
     },
     "execution_count": 15,
     "metadata": {},
     "output_type": "execute_result"
    }
   ],
   "source": [
    "df_country_code.count()"
   ]
  },
  {
   "cell_type": "code",
   "execution_count": 16,
   "metadata": {},
   "outputs": [
    {
     "data": {
      "text/plain": [
       "{'ALC': 'ALCAN, AK',\n",
       " 'ANC': 'ANCHORAGE, AK',\n",
       " 'BAR': 'BAKER AAF - BAKER ISLAND, AK',\n",
       " 'DAC': 'DALTONS CACHE, AK',\n",
       " 'PIZ': 'DEW STATION PT LAY DEW, AK',\n",
       " 'DTH': 'DUTCH HARBOR, AK',\n",
       " 'EGL': 'EAGLE, AK',\n",
       " 'FRB': 'FAIRBANKS, AK',\n",
       " 'HOM': 'HOMER, AK',\n",
       " 'HYD': 'HYDER, AK',\n",
       " 'JUN': 'JUNEAU, AK',\n",
       " '5KE': 'KETCHIKAN, AK',\n",
       " 'KET': 'KETCHIKAN, AK',\n",
       " 'MOS': 'MOSES POINT INTERMEDIATE, AK',\n",
       " 'NIK': 'NIKISKI, AK',\n",
       " 'NOM': 'NOM, AK',\n",
       " 'PKC': 'POKER CREEK, AK',\n",
       " 'ORI': 'PORT LIONS SPB, AK',\n",
       " 'SKA': 'SKAGWAY, AK',\n",
       " 'SNP': 'ST. PAUL ISLAND, AK',\n",
       " 'TKI': 'TOKEEN, AK',\n",
       " 'WRA': 'WRANGELL, AK',\n",
       " 'HSV': 'MADISON COUNTY - HUNTSVILLE, AL',\n",
       " 'MOB': 'MOBILE, AL',\n",
       " 'LIA': 'LITTLE ROCK, AR (BPS)',\n",
       " 'ROG': 'ROGERS ARPT, AR',\n",
       " 'DOU': 'DOUGLAS, AZ',\n",
       " 'LUK': 'LUKEVILLE, AZ',\n",
       " 'MAP': 'MARIPOSA AZ',\n",
       " 'NAC': 'NACO, AZ',\n",
       " 'NOG': 'NOGALES, AZ',\n",
       " 'PHO': 'PHOENIX, AZ',\n",
       " 'POR': 'PORTAL, AZ',\n",
       " 'SLU': 'SAN LUIS, AZ',\n",
       " 'SAS': 'SASABE, AZ',\n",
       " 'TUC': 'TUCSON, AZ',\n",
       " 'YUI': 'YUMA, AZ',\n",
       " 'AND': 'ANDRADE, CA',\n",
       " 'BUR': 'BURBANK, CA',\n",
       " 'CAL': 'CALEXICO, CA',\n",
       " 'CAO': 'CAMPO, CA',\n",
       " 'FRE': 'FRESNO, CA',\n",
       " 'ICP': 'IMPERIAL COUNTY, CA',\n",
       " 'LNB': 'LONG BEACH, CA',\n",
       " 'LOS': 'LOS ANGELES, CA',\n",
       " 'BFL': 'MEADOWS FIELD - BAKERSFIELD, CA',\n",
       " 'OAK': 'OAKLAND, CA',\n",
       " 'ONT': 'ONTARIO, CA',\n",
       " 'OTM': 'OTAY MESA, CA',\n",
       " 'BLT': 'PACIFIC, HWY. STATION, CA',\n",
       " 'PSP': 'PALM SPRINGS, CA',\n",
       " 'SAC': 'SACRAMENTO, CA',\n",
       " 'SLS': 'SALINAS, CA (BPS)',\n",
       " 'SDP': 'SAN DIEGO, CA',\n",
       " 'SFR': 'SAN FRANCISCO, CA',\n",
       " 'SNJ': 'SAN JOSE, CA',\n",
       " 'SLO': 'SAN LUIS OBISPO, CA',\n",
       " 'SLI': 'SAN LUIS OBISPO, CA (BPS)',\n",
       " 'SPC': 'SAN PEDRO, CA',\n",
       " 'SYS': 'SAN YSIDRO, CA',\n",
       " 'SAA': 'SANTA ANA, CA',\n",
       " 'STO': 'STOCKTON, CA (BPS)',\n",
       " 'TEC': 'TECATE, CA',\n",
       " 'TRV': 'TRAVIS-AFB, CA',\n",
       " 'APA': 'ARAPAHOE COUNTY, CO',\n",
       " 'ASE': 'ASPEN, CO #ARPT',\n",
       " 'COS': 'COLORADO SPRINGS, CO',\n",
       " 'DEN': 'DENVER, CO',\n",
       " 'DRO': 'LA PLATA - DURANGO, CO',\n",
       " 'BDL': 'BRADLEY INTERNATIONAL, CT',\n",
       " 'BGC': 'BRIDGEPORT, CT',\n",
       " 'GRT': 'GROTON, CT',\n",
       " 'HAR': 'HARTFORD, CT',\n",
       " 'NWH': 'NEW HAVEN, CT',\n",
       " 'NWL': 'NEW LONDON, CT',\n",
       " 'TST': 'NEWINGTON DATA CENTER TEST, CT',\n",
       " 'WAS': 'WASHINGTON DC',\n",
       " 'DOV': 'DOVER AFB, DE',\n",
       " 'DVD': 'DOVER-AFB, DE',\n",
       " 'WLL': 'WILMINGTON, DE',\n",
       " 'BOC': 'BOCAGRANDE, FL',\n",
       " 'SRQ': 'BRADENTON - SARASOTA, FL',\n",
       " 'CAN': 'CAPE CANAVERAL, FL',\n",
       " 'DAB': 'DAYTONA BEACH INTERNATIONAL, FL',\n",
       " 'FRN': 'FERNANDINA, FL',\n",
       " 'FTL': 'FORT LAUDERDALE, FL',\n",
       " 'FMY': 'FORT MYERS, FL',\n",
       " 'FPF': 'FORT PIERCE, FL',\n",
       " 'HUR': 'HURLBURT FIELD, FL',\n",
       " 'GNV': 'J R ALISON MUNI - GAINESVILLE, FL',\n",
       " 'JAC': 'JACKSONVILLE, FL',\n",
       " 'KEY': 'KEY WEST, FL',\n",
       " 'LEE': 'LEESBURG MUNICIPAL AIRPORT, FL',\n",
       " 'MLB': 'MELBOURNE, FL',\n",
       " 'MIA': 'MIAMI, FL',\n",
       " 'APF': 'NAPLES, FL #ARPT',\n",
       " 'OPF': 'OPA LOCKA, FL',\n",
       " 'ORL': 'ORLANDO, FL',\n",
       " 'PAN': 'PANAMA CITY, FL',\n",
       " 'PEN': 'PENSACOLA, FL',\n",
       " 'PCF': 'PORT CANAVERAL, FL',\n",
       " 'PEV': 'PORT EVERGLADES, FL',\n",
       " 'PSJ': 'PORT ST JOE, FL',\n",
       " 'SFB': 'SANFORD, FL',\n",
       " 'SGJ': 'ST AUGUSTINE ARPT, FL',\n",
       " 'SAU': 'ST AUGUSTINE, FL',\n",
       " 'FPR': 'ST LUCIE COUNTY, FL',\n",
       " 'SPE': 'ST PETERSBURG, FL',\n",
       " 'TAM': 'TAMPA, FL',\n",
       " 'WPB': 'WEST PALM BEACH, FL',\n",
       " 'ATL': 'ATLANTA, GA',\n",
       " 'BRU': 'BRUNSWICK, GA',\n",
       " 'AGS': 'BUSH FIELD - AUGUSTA, GA',\n",
       " 'SAV': 'SAVANNAH, GA',\n",
       " 'AGA': 'AGANA, GU',\n",
       " 'HHW': 'HONOLULU, HI',\n",
       " 'OGG': 'KAHULUI - MAUI, HI',\n",
       " 'KOA': 'KEAHOLE-KONA, HI',\n",
       " 'LIH': 'LIHUE, HI',\n",
       " 'CID': 'CEDAR RAPIDS/IOWA CITY, IA',\n",
       " 'DSM': 'DES MOINES, IA',\n",
       " 'BOI': 'AIR TERM. (GOWEN FLD) BOISE, ID',\n",
       " 'EPI': 'EASTPORT, ID',\n",
       " 'IDA': 'FANNING FIELD - IDAHO FALLS, ID',\n",
       " 'PTL': 'PORTHILL, ID',\n",
       " 'SPI': 'CAPITAL - SPRINGFIELD, IL',\n",
       " 'CHI': 'CHICAGO, IL',\n",
       " 'DPA': 'DUPAGE COUNTY, IL',\n",
       " 'PIA': 'GREATER PEORIA, IL',\n",
       " 'RFD': 'GREATER ROCKFORD, IL',\n",
       " 'UGN': 'MEMORIAL - WAUKEGAN, IL',\n",
       " 'GAR': 'GARY, IN',\n",
       " 'HMM': 'HAMMOND, IN',\n",
       " 'INP': 'INDIANAPOLIS, IN',\n",
       " 'MRL': 'MERRILLVILLE, IN',\n",
       " 'SBN': 'SOUTH BEND, IN',\n",
       " 'ICT': 'MID-CONTINENT - WITCHITA, KS',\n",
       " 'LEX': 'BLUE GRASS - LEXINGTON, KY',\n",
       " 'LOU': 'LOUISVILLE, KY',\n",
       " 'BTN': 'BATON ROUGE, LA',\n",
       " 'LKC': 'LAKE CHARLES, LA',\n",
       " 'LAK': 'LAKE CHARLES, LA (BPS)',\n",
       " 'MLU': 'MONROE, LA',\n",
       " 'MGC': 'MORGAN CITY, LA',\n",
       " 'NOL': 'NEW ORLEANS, LA',\n",
       " 'BOS': 'BOSTON, MA',\n",
       " 'GLO': 'GLOUCESTER, MA',\n",
       " 'BED': 'HANSCOM FIELD - BEDFORD, MA',\n",
       " 'LYN': 'LYNDEN, WA',\n",
       " 'ADW': 'ANDREWS AFB, MD',\n",
       " 'BAL': 'BALTIMORE, MD',\n",
       " 'MKG': 'MUSKEGON, MD',\n",
       " 'PAX': 'PATUXENT RIVER, MD',\n",
       " 'BGM': 'BANGOR, ME',\n",
       " 'BOO': 'BOOTHBAY HARBOR, ME',\n",
       " 'BWM': 'BRIDGEWATER, ME',\n",
       " 'BCK': 'BUCKPORT, ME',\n",
       " 'CLS': 'CALAIS, ME',\n",
       " 'CRB': 'CARIBOU, ME',\n",
       " 'COB': 'COBURN GORE, ME',\n",
       " 'EST': 'EASTCOURT, ME',\n",
       " 'EPT': 'EASTPORT MUNICIPAL, ME',\n",
       " 'EPM': 'EASTPORT, ME',\n",
       " 'FOR': 'FOREST CITY, ME',\n",
       " 'FTF': 'FORT FAIRFIELD, ME',\n",
       " 'FTK': 'FORT KENT, ME',\n",
       " 'HML': 'HAMIIN, ME',\n",
       " 'HTM': 'HOULTON, ME',\n",
       " 'JKM': 'JACKMAN, ME',\n",
       " 'KAL': 'KALISPEL, MT',\n",
       " 'LIM': 'LIMESTONE, ME',\n",
       " 'LUB': 'LUBEC, ME',\n",
       " 'MAD': 'MADAWASKA, ME',\n",
       " 'POM': 'PORTLAND, ME',\n",
       " 'RGM': 'RANGELEY, ME (BPS)',\n",
       " 'SBR': 'SOUTH BREWER, ME',\n",
       " 'SRL': 'ST AURELIE, ME',\n",
       " 'SPA': 'ST PAMPILE, ME',\n",
       " 'VNB': 'VAN BUREN, ME',\n",
       " 'VCB': 'VANCEBORO, ME',\n",
       " 'AGN': 'ALGONAC, MI',\n",
       " 'ALP': 'ALPENA, MI',\n",
       " 'BCY': 'BAY CITY, MI',\n",
       " 'DET': 'DETROIT, MI',\n",
       " 'GRP': 'GRAND RAPIDS, MI',\n",
       " 'GRO': 'GROSSE ISLE, MI',\n",
       " 'ISL': 'ISLE ROYALE, MI',\n",
       " 'MRC': 'MARINE CITY, MI',\n",
       " 'MRY': 'MARYSVILLE, MI',\n",
       " 'PTK': 'OAKLAND COUNTY - PONTIAC, MI',\n",
       " 'PHU': 'PORT HURON, MI',\n",
       " 'RBT': 'ROBERTS LANDING, MI',\n",
       " 'SAG': 'SAGINAW, MI',\n",
       " 'SSM': 'SAULT STE. MARIE, MI',\n",
       " 'SCL': 'ST CLAIR, MI',\n",
       " 'YIP': 'WILLOW RUN - YPSILANTI, MI',\n",
       " 'BAU': 'BAUDETTE, MN',\n",
       " 'CAR': 'CARIBOU MUNICIPAL AIRPORT, MN',\n",
       " 'GTF': 'Collapsed into INT, MN',\n",
       " 'INL': 'Collapsed into INT, MN',\n",
       " 'CRA': 'CRANE LAKE, MN',\n",
       " 'MIC': 'CRYSTAL MUNICIPAL AIRPORT, MN',\n",
       " 'DUL': 'DULUTH, MN',\n",
       " 'ELY': 'ELY, MN',\n",
       " 'GPM': 'GRAND PORTAGE, MN',\n",
       " 'SVC': 'GRANT COUNTY - SILVER CITY, MN',\n",
       " 'INT': 'INTL FALLS, MN',\n",
       " 'LAN': 'LANCASTER, MN',\n",
       " 'MSP': 'MINN./ST PAUL, MN',\n",
       " 'LIN': 'NORTHERN SVC CENTER, MN',\n",
       " 'NOY': 'NOYES, MN',\n",
       " 'PIN': 'PINE CREEK, MN',\n",
       " '48Y': 'PINECREEK BORDER ARPT, MN',\n",
       " 'RAN': 'RAINER, MN',\n",
       " 'RST': 'ROCHESTER, MN',\n",
       " 'ROS': 'ROSEAU, MN',\n",
       " 'SPM': 'ST PAUL, MN',\n",
       " 'WSB': 'WARROAD INTL, SPB, MN',\n",
       " 'WAR': 'WARROAD, MN',\n",
       " 'KAN': 'KANSAS CITY, MO',\n",
       " 'SGF': 'SPRINGFIELD-BRANSON, MO',\n",
       " 'STL': 'ST LOUIS, MO',\n",
       " 'WHI': 'WHITETAIL, MT',\n",
       " 'WHM': 'WILD HORSE, MT',\n",
       " 'GPT': 'BILOXI REGIONAL, MS',\n",
       " 'GTR': 'GOLDEN TRIANGLE LOWNDES CNTY, MS',\n",
       " 'GUL': 'GULFPORT, MS',\n",
       " 'PAS': 'PASCAGOULA, MS',\n",
       " 'JAN': 'THOMPSON FIELD - JACKSON, MS',\n",
       " 'BIL': 'BILLINGS, MT',\n",
       " 'BTM': 'BUTTE, MT',\n",
       " 'CHF': 'CHIEF MT, MT',\n",
       " 'CTB': 'CUT BANK MUNICIPAL, MT',\n",
       " 'CUT': 'CUT BANK, MT',\n",
       " 'DLB': 'DEL BONITA, MT',\n",
       " 'EUR': 'EUREKA, MT (BPS)',\n",
       " 'BZN': 'GALLATIN FIELD - BOZEMAN, MT',\n",
       " 'FCA': 'GLACIER NATIONAL PARK, MT',\n",
       " 'GGW': 'GLASGOW, MT',\n",
       " 'GRE': 'GREAT FALLS, MT',\n",
       " 'HVR': 'HAVRE, MT',\n",
       " 'HEL': 'HELENA, MT',\n",
       " 'LWT': 'LEWISTON, MT',\n",
       " 'MGM': 'MORGAN, MT',\n",
       " 'OPH': 'OPHEIM, MT',\n",
       " 'PIE': 'PIEGAN, MT',\n",
       " 'RAY': 'RAYMOND, MT',\n",
       " 'ROO': 'ROOSVILLE, MT',\n",
       " 'SCO': 'SCOBEY, MT',\n",
       " 'SWE': 'SWEETGTASS, MT',\n",
       " 'TRL': 'TRIAL CREEK, MT',\n",
       " 'TUR': 'TURNER, MT',\n",
       " 'WCM': 'WILLOW CREEK, MT',\n",
       " 'CLT': 'CHARLOTTE, NC',\n",
       " 'FAY': 'FAYETTEVILLE, NC',\n",
       " 'MRH': 'MOREHEAD CITY, NC',\n",
       " 'FOP': 'MORRIS FIELDS AAF, NC',\n",
       " 'GSO': 'PIEDMONT TRIAD INTL AIRPORT, NC',\n",
       " 'RDU': 'RALEIGH/DURHAM, NC',\n",
       " 'SSC': 'SHAW AFB - SUMTER, NC',\n",
       " 'WIL': 'WILMINGTON, NC',\n",
       " 'AMB': 'AMBROSE, ND',\n",
       " 'ANT': 'ANTLER, ND',\n",
       " 'CRY': 'CARBURY, ND',\n",
       " 'DNS': 'DUNSEITH, ND',\n",
       " 'FAR': 'FARGO, ND',\n",
       " 'FRT': 'FORTUNA, ND',\n",
       " 'GRF': 'GRAND FORKS, ND',\n",
       " 'HNN': 'HANNAH, ND',\n",
       " 'HNS': 'HANSBORO, ND',\n",
       " 'MAI': 'MAIDA, ND',\n",
       " 'MND': 'MINOT, ND',\n",
       " 'NEC': 'NECHE, ND',\n",
       " 'NOO': 'NOONAN, ND',\n",
       " 'NRG': 'NORTHGATE, ND',\n",
       " 'PEM': 'PEMBINA, ND',\n",
       " 'SAR': 'SARLES, ND',\n",
       " 'SHR': 'SHERWOOD, ND',\n",
       " 'SJO': 'ST JOHN, ND',\n",
       " 'WAL': 'WALHALLA, ND',\n",
       " 'WHO': 'WESTHOPE, ND',\n",
       " 'WND': 'WILLISTON, ND',\n",
       " 'OMA': 'OMAHA, NE',\n",
       " 'LEB': 'LEBANON, NH',\n",
       " 'MHT': 'MANCHESTER, NH',\n",
       " 'PNH': 'PITTSBURG, NH',\n",
       " 'PSM': 'PORTSMOUTH, NH',\n",
       " 'BYO': 'BAYONNE, NJ',\n",
       " 'CNJ': 'CAMDEN, NJ',\n",
       " 'HOB': 'HOBOKEN, NJ',\n",
       " 'JER': 'JERSEY CITY, NJ',\n",
       " 'WRI': 'MC GUIRE AFB - WRIGHTSOWN, NJ',\n",
       " 'MMU': 'MORRISTOWN, NJ',\n",
       " 'NEW': 'NEWARK/TETERBORO, NJ',\n",
       " 'PER': 'PERTH AMBOY, NJ',\n",
       " 'ACY': 'POMONA FIELD - ATLANTIC CITY, NJ',\n",
       " 'ALA': 'ALAMAGORDO, NM (BPS)',\n",
       " 'ABQ': 'ALBUQUERQUE, NM',\n",
       " 'ANP': 'ANTELOPE WELLS, NM',\n",
       " 'CRL': 'CARLSBAD, NM',\n",
       " 'COL': 'COLUMBUS, NM',\n",
       " 'CDD': 'CRANE LAKE - ST. LOUIS CNTY, NM',\n",
       " 'DNM': 'DEMING, NM (BPS)',\n",
       " 'LAS': 'LAS CRUCES, NM',\n",
       " 'LOB': 'LORDSBURG, NM (BPS)',\n",
       " 'RUI': 'RUIDOSO, NM',\n",
       " 'STR': 'SANTA TERESA, NM',\n",
       " 'RNO': 'CANNON INTL - RENO/TAHOE, NV',\n",
       " 'FLX': 'FALLON MUNICIPAL AIRPORT, NV',\n",
       " 'LVG': 'LAS VEGAS, NV',\n",
       " 'REN': 'RENO, NV',\n",
       " 'ALB': 'ALBANY, NY',\n",
       " 'AXB': 'ALEXANDRIA BAY, NY',\n",
       " 'BUF': 'BUFFALO, NY',\n",
       " 'CNH': 'CANNON CORNERS, NY',\n",
       " 'CAP': 'CAPE VINCENT, NY',\n",
       " 'CHM': 'CHAMPLAIN, NY',\n",
       " 'CHT': 'CHATEAUGAY, NY',\n",
       " 'CLA': 'CLAYTON, NY',\n",
       " 'FTC': 'FORT COVINGTON, NY',\n",
       " 'LAG': 'LA GUARDIA, NY',\n",
       " 'LEW': 'LEWISTON, NY',\n",
       " 'MAS': 'MASSENA, NY',\n",
       " 'MAG': 'MCGUIRE AFB, NY',\n",
       " 'MOO': 'MOORES, NY',\n",
       " 'MRR': 'MORRISTOWN, NY',\n",
       " 'NYC': 'NEW YORK, NY',\n",
       " 'NIA': 'NIAGARA FALLS, NY',\n",
       " 'OGD': 'OGDENSBURG, NY',\n",
       " 'OSW': 'OSWEGO, NY',\n",
       " 'ELM': 'REGIONAL ARPT - HORSEHEAD, NY',\n",
       " 'ROC': 'ROCHESTER, NY',\n",
       " 'ROU': 'ROUSES POINT, NY',\n",
       " 'SWF': 'STEWART - ORANGE CNTY, NY',\n",
       " 'SYR': 'SYRACUSE, NY',\n",
       " 'THO': 'THOUSAND ISLAND BRIDGE, NY',\n",
       " 'TRO': 'TROUT RIVER, NY',\n",
       " 'WAT': 'WATERTOWN, NY',\n",
       " 'HPN': 'WESTCHESTER - WHITE PLAINS, NY',\n",
       " 'WRB': 'WHIRLPOOL BRIDGE, NY',\n",
       " 'YOU': 'YOUNGSTOWN, NY',\n",
       " 'AKR': 'AKRON, OH',\n",
       " 'ATB': 'ASHTABULA, OH',\n",
       " 'CIN': 'CINCINNATI, OH',\n",
       " 'CLE': 'CLEVELAND, OH',\n",
       " 'CLM': 'COLUMBUS, OH',\n",
       " 'LOR': 'LORAIN, OH',\n",
       " 'MBO': 'MARBLE HEADS, OH',\n",
       " 'SDY': 'SANDUSKY, OH',\n",
       " 'TOL': 'TOLEDO, OH',\n",
       " 'OKC': 'OKLAHOMA CITY, OK',\n",
       " 'TUL': 'TULSA, OK',\n",
       " 'AST': 'ASTORIA, OR',\n",
       " 'COO': 'COOS BAY, OR',\n",
       " 'HIO': 'HILLSBORO, OR',\n",
       " 'MED': 'MEDFORD, OR',\n",
       " 'NPT': 'NEWPORT, OR',\n",
       " 'POO': 'PORTLAND, OR',\n",
       " 'PUT': 'PUT-IN-BAY, OH',\n",
       " 'RDM': 'ROBERTS FIELDS - REDMOND, OR',\n",
       " 'ERI': 'ERIE, PA',\n",
       " 'MDT': 'HARRISBURG, PA',\n",
       " 'HSB': 'HARRISONBURG, PA',\n",
       " 'PHI': 'PHILADELPHIA, PA',\n",
       " 'PIT': 'PITTSBURG, PA',\n",
       " 'AGU': 'AGUADILLA, PR',\n",
       " 'BQN': 'BORINQUEN - AGUADILLO, PR',\n",
       " 'JCP': 'CULEBRA - BENJAMIN RIVERA, PR',\n",
       " 'ENS': 'ENSENADA, PR',\n",
       " 'FAJ': 'FAJARDO, PR',\n",
       " 'HUM': 'HUMACAO, PR',\n",
       " 'JOB': 'JOBOS, PR',\n",
       " 'MAY': 'MAYAGUEZ, PR',\n",
       " 'PON': 'PONCE, PR',\n",
       " 'PSE': 'PONCE-MERCEDITA, PR',\n",
       " 'SAJ': 'SAN JUAN, PR',\n",
       " 'VQS': 'VIEQUES-ARPT, PR',\n",
       " 'PRO': 'PROVIDENCE, RI',\n",
       " 'PVD': 'THEODORE FRANCIS - WARWICK, RI',\n",
       " 'CHL': 'CHARLESTON, SC',\n",
       " 'CAE': 'COLUMBIA, SC #ARPT',\n",
       " 'GEO': 'GEORGETOWN, SC',\n",
       " 'GSP': 'GREENVILLE, SC',\n",
       " 'GRR': 'GREER, SC',\n",
       " 'MYR': 'MYRTLE BEACH, SC',\n",
       " 'SPF': 'BLACK HILLS, SPEARFISH, SD',\n",
       " 'HON': 'HOWES REGIONAL ARPT - HURON, SD',\n",
       " 'SAI': 'SAIPAN, SPN',\n",
       " 'TYS': 'MC GHEE TYSON - ALCOA, TN',\n",
       " 'MEM': 'MEMPHIS, TN',\n",
       " 'NSV': 'NASHVILLE, TN',\n",
       " 'TRI': 'TRI CITY ARPT, TN',\n",
       " 'ADS': 'ADDISON AIRPORT- ADDISON, TX',\n",
       " 'ADT': 'AMISTAD DAM, TX',\n",
       " 'ANZ': 'ANZALDUAS, TX',\n",
       " 'AUS': 'AUSTIN, TX',\n",
       " 'BEA': 'BEAUMONT, TX',\n",
       " 'BBP': 'BIG BEND PARK, TX (BPS)',\n",
       " 'SCC': 'BP SPEC COORD. CTR, TX',\n",
       " 'BTC': 'BP TACTICAL UNIT, TX',\n",
       " 'BOA': 'BRIDGE OF AMERICAS, TX',\n",
       " 'BRO': 'BROWNSVILLE, TX',\n",
       " 'CRP': 'CORPUS CHRISTI, TX',\n",
       " 'DAL': 'DALLAS, TX',\n",
       " 'DLR': 'DEL RIO, TX',\n",
       " 'DNA': 'DONNA, TX',\n",
       " 'EGP': 'EAGLE PASS, TX',\n",
       " 'ELP': 'EL PASO, TX',\n",
       " 'FAB': 'FABENS, TX',\n",
       " 'FAL': 'FALCON HEIGHTS, TX',\n",
       " 'FTH': 'FORT HANCOCK, TX',\n",
       " 'AFW': 'FORT WORTH ALLIANCE, TX',\n",
       " 'FPT': 'FREEPORT, TX',\n",
       " 'GAL': 'GALVESTON, TX',\n",
       " 'HLG': 'HARLINGEN, TX',\n",
       " 'HID': 'HIDALGO, TX',\n",
       " 'HOU': 'HOUSTON, TX',\n",
       " 'SGR': 'HULL FIELD, SUGAR LAND ARPT, TX',\n",
       " 'LLB': 'JUAREZ-LINCOLN BRIDGE, TX',\n",
       " 'LCB': 'LAREDO COLUMBIA BRIDGE, TX',\n",
       " 'LRN': 'LAREDO NORTH, TX',\n",
       " 'LAR': 'LAREDO, TX',\n",
       " 'LSE': 'LOS EBANOS, TX',\n",
       " 'IND': 'LOS INDIOS, TX',\n",
       " 'LOI': 'LOS INDIOS, TX',\n",
       " 'MRS': 'MARFA, TX (BPS)',\n",
       " 'MCA': 'MCALLEN, TX',\n",
       " 'MAF': 'ODESSA REGIONAL, TX',\n",
       " 'PDN': 'PASO DEL NORTE,TX',\n",
       " 'PBB': 'PEACE BRIDGE, NY',\n",
       " 'PHR': 'PHARR, TX',\n",
       " 'PAR': 'PORT ARTHUR, TX',\n",
       " 'ISB': 'PORT ISABEL, TX',\n",
       " 'POE': 'PORT OF EL PASO, TX',\n",
       " 'PRE': 'PRESIDIO, TX',\n",
       " 'PGR': 'PROGRESO, TX',\n",
       " 'RIO': 'RIO GRANDE CITY, TX',\n",
       " 'ROM': 'ROMA, TX',\n",
       " 'SNA': 'SAN ANTONIO, TX',\n",
       " 'SNN': 'SANDERSON, TX',\n",
       " 'VIB': 'VETERAN INTL BRIDGE, TX',\n",
       " 'YSL': 'YSLETA, TX',\n",
       " 'CHA': 'CHARLOTTE AMALIE, VI',\n",
       " 'CHR': 'CHRISTIANSTED, VI',\n",
       " 'CRU': 'CRUZ BAY, ST JOHN, VI',\n",
       " 'FRK': 'FREDERIKSTED, VI',\n",
       " 'STT': 'ST THOMAS, VI',\n",
       " 'LGU': 'CACHE AIRPORT - LOGAN, UT',\n",
       " 'SLC': 'SALT LAKE CITY, UT',\n",
       " 'CHO': 'ALBEMARLE CHARLOTTESVILLE, VA',\n",
       " 'DAA': 'DAVISON AAF - FAIRFAX CNTY, VA',\n",
       " 'HOP': 'HOPEWELL, VA',\n",
       " 'HEF': 'MANASSAS, VA #ARPT',\n",
       " 'NWN': 'NEWPORT, VA',\n",
       " 'NOR': 'NORFOLK, VA',\n",
       " 'RCM': 'RICHMOND, VA',\n",
       " 'ABS': 'ALBURG SPRINGS, VT',\n",
       " 'ABG': 'ALBURG, VT',\n",
       " 'BEB': 'BEEBE PLAIN, VT',\n",
       " 'BEE': 'BEECHER FALLS, VT',\n",
       " 'BRG': 'BURLINGTON, VT',\n",
       " 'CNA': 'CANAAN, VT',\n",
       " 'DER': 'DERBY LINE, VT (I-91)',\n",
       " 'DLV': 'DERBY LINE, VT (RT. 5)',\n",
       " 'ERC': 'EAST RICHFORD, VT',\n",
       " 'HIG': 'HIGHGATE SPRINGS, VT',\n",
       " 'MOR': 'MORSES LINE, VT',\n",
       " 'NPV': 'NEWPORT, VT',\n",
       " 'NRT': 'NORTH TROY, VT',\n",
       " 'NRN': 'NORTON, VT',\n",
       " 'PIV': 'PINNACLE ROAD, VT',\n",
       " 'RIF': 'RICHFORT, VT',\n",
       " 'STA': 'ST ALBANS, VT',\n",
       " 'SWB': 'SWANTON, VT (BP - SECTOR HQ)',\n",
       " 'WBE': 'WEST BERKSHIRE, VT',\n",
       " 'ABE': 'ABERDEEN, WA',\n",
       " 'ANA': 'ANACORTES, WA',\n",
       " 'BEL': 'BELLINGHAM, WA',\n",
       " 'BLI': 'BELLINGHAM, WASHINGTON #INTL',\n",
       " 'BLA': 'BLAINE, WA',\n",
       " 'BWA': 'BOUNDARY, WA',\n",
       " 'CUR': 'CURLEW, WA (BPS)',\n",
       " 'DVL': 'DANVILLE, WA',\n",
       " 'EVE': 'EVERETT, WA',\n",
       " 'FER': 'FERRY, WA',\n",
       " 'FRI': 'FRIDAY HARBOR, WA',\n",
       " 'FWA': 'FRONTIER, WA',\n",
       " 'KLM': 'KALAMA, WA',\n",
       " 'LAU': 'LAURIER, WA',\n",
       " 'LON': 'LONGVIEW, WA',\n",
       " 'MET': 'METALINE FALLS, WA',\n",
       " 'MWH': 'MOSES LAKE GRANT COUNTY ARPT, WA',\n",
       " 'NEA': 'NEAH BAY, WA',\n",
       " 'NIG': 'NIGHTHAWK, WA',\n",
       " 'OLY': 'OLYMPIA, WA',\n",
       " 'ORO': 'OROVILLE, WA',\n",
       " 'PWB': 'PASCO, WA',\n",
       " 'PIR': 'POINT ROBERTS, WA',\n",
       " 'PNG': 'PORT ANGELES, WA',\n",
       " 'PTO': 'PORT TOWNSEND, WA',\n",
       " 'SEA': 'SEATTLE, WA',\n",
       " 'SPO': 'SPOKANE, WA',\n",
       " 'SUM': 'SUMAS, WA',\n",
       " 'TAC': 'TACOMA, WA',\n",
       " 'PSC': 'TRI-CITIES - PASCO, WA',\n",
       " 'VAN': 'VANCOUVER, WA',\n",
       " 'AGM': 'ALGOMA, WI',\n",
       " 'BAY': 'BAYFIELD, WI',\n",
       " 'GRB': 'GREEN BAY, WI',\n",
       " 'MNW': 'MANITOWOC, WI',\n",
       " 'MIL': 'MILWAUKEE, WI',\n",
       " 'MSN': 'TRUAX FIELD - DANE COUNTY, WI',\n",
       " 'CHS': 'CHARLESTON, WV',\n",
       " 'CLK': 'CLARKSBURG, WV',\n",
       " 'BLF': 'MERCER COUNTY, WV',\n",
       " 'CSP': 'CASPER, WY',\n",
       " 'XXX': 'NOT REPORTED/UNKNOWN',\n",
       " '888': 'UNIDENTIFED AIR / SEAPORT',\n",
       " 'UNK': 'UNKNOWN POE',\n",
       " 'CLG': 'CALGARY, CANADA',\n",
       " 'EDA': 'EDMONTON, CANADA',\n",
       " 'YHC': 'HAKAI PASS, CANADA',\n",
       " 'HAL': 'Halifax, NS, Canada',\n",
       " 'MON': 'MONTREAL, CANADA',\n",
       " 'OTT': 'OTTAWA, CANADA',\n",
       " 'YXE': 'SASKATOON, CANADA',\n",
       " 'TOR': 'TORONTO, CANADA',\n",
       " 'VCV': 'VANCOUVER, CANADA',\n",
       " 'VIC': 'VICTORIA, CANADA',\n",
       " 'WIN': 'WINNIPEG, CANADA',\n",
       " 'AMS': 'AMSTERDAM-SCHIPHOL, NETHERLANDS',\n",
       " 'ARB': 'ARUBA, NETH ANTILLES',\n",
       " 'BAN': 'BANKOK, THAILAND',\n",
       " 'BEI': 'BEICA #ARPT, ETHIOPIA',\n",
       " 'PEK': 'BEIJING CAPITAL INTL, PRC',\n",
       " 'BDA': 'KINDLEY FIELD, BERMUDA',\n",
       " 'BOG': 'BOGOTA, EL DORADO #ARPT, COLOMBIA',\n",
       " 'EZE': 'BUENOS AIRES, MINISTRO PIST, ARGENTINA',\n",
       " 'CUN': 'CANCUN, MEXICO',\n",
       " 'CRQ': 'CARAVELAS, BA #ARPT, BRAZIL',\n",
       " 'MVD': 'CARRASCO, URUGUAY',\n",
       " 'DUB': 'DUBLIN, IRELAND',\n",
       " 'FOU': 'FOUGAMOU #ARPT, GABON',\n",
       " 'FBA': 'FREEPORT, BAHAMAS',\n",
       " 'MTY': 'GEN M. ESCOBEDO, Monterrey, MX',\n",
       " 'HMO': 'GEN PESQUEIRA GARCIA, MX',\n",
       " 'GCM': 'GRAND CAYMAN, CAYMAN ISLAND',\n",
       " 'GDL': 'GUADALAJARA, MIGUEL HIDAL, MX',\n",
       " 'HAM': 'HAMILTON, BERMUDA',\n",
       " 'ICN': 'INCHON, SEOUL KOREA',\n",
       " 'IWA': 'INVALID - IWAKUNI, JAPAN',\n",
       " 'CND': 'KOGALNICEANU, ROMANIA',\n",
       " 'LAH': 'LABUHA ARPT, INDONESIA',\n",
       " 'DUR': 'LOUIS BOTHA, SOUTH AFRICA',\n",
       " 'MAL': 'MANGOLE ARPT, INDONESIA',\n",
       " 'MDE': 'MEDELLIN, COLOMBIA',\n",
       " 'MEX': 'JUAREZ INTL, MEXICO CITY, MX',\n",
       " 'LHR': 'MIDDLESEX, ENGLAND',\n",
       " 'NBO': 'NAIROBI, KENYA',\n",
       " 'NAS': 'NASSAU, BAHAMAS',\n",
       " 'NCA': 'NORTH CAICOS, TURK & CAIMAN',\n",
       " 'PTY': 'OMAR TORRIJOS, PANAMA',\n",
       " 'SPV': 'PAPUA, NEW GUINEA',\n",
       " 'UIO': 'QUITO (MARISCAL SUCR), ECUADOR',\n",
       " 'RIT': 'ROME, ITALY',\n",
       " 'SNO': 'SAKON NAKHON #ARPT, THAILAND',\n",
       " 'SLP': 'SAN LUIS POTOSI #ARPT, MEXICO',\n",
       " 'SAN': 'SAN SALVADOR, EL SALVADOR',\n",
       " 'SRO': 'SANTANA RAMOS #ARPT, COLOMBIA',\n",
       " 'GRU': 'GUARULHOS INTL, SAO PAULO, BRAZIL',\n",
       " 'SHA': 'SHANNON, IRELAND',\n",
       " 'HIL': 'SHILLAVO, ETHIOPIA',\n",
       " 'TOK': 'TOROKINA #ARPT, PAPUA, NEW GUINEA',\n",
       " 'VER': 'VERACRUZ, MEXICO',\n",
       " 'LGW': 'WEST SUSSEX, ENGLAND',\n",
       " 'ZZZ': 'MEXICO Land (Banco de Mexico)',\n",
       " 'CHN': 'No PORT Code (CHN)',\n",
       " 'CNC': 'CANNON CORNERS, NY',\n",
       " 'MAA': 'Abu Dhabi',\n",
       " 'AG0': 'MAGNOLIA, AR',\n",
       " 'BHM': 'BAR HARBOR, ME',\n",
       " 'BHX': 'BIRMINGHAM, AL',\n",
       " 'CAK': 'AKRON, OH',\n",
       " 'FOK': 'SUFFOLK COUNTY, NY',\n",
       " 'LND': 'LANDER, WY',\n",
       " 'MAR': 'MARFA, TX',\n",
       " 'MLI': 'MOLINE, IL',\n",
       " 'RIV': 'RIVERSIDE, CA',\n",
       " 'RME': 'ROME, NY',\n",
       " 'VNY': 'VAN NUYS, CA',\n",
       " 'YUM': 'YUMA, AZ',\n",
       " 'FRG': 'Collapsed (FOK) 06/15',\n",
       " 'HRL': 'Collapsed (HLG) 06/15',\n",
       " 'ISP': 'Collapsed (FOK) 06/15',\n",
       " 'JSJ': 'Collapsed (SAJ) 06/15',\n",
       " 'BUS': 'Collapsed (BUF) 06/15',\n",
       " 'IAG': 'Collapsed (NIA) 06/15',\n",
       " 'PHN': 'Collapsed (PHU) 06/15',\n",
       " 'STN': 'Collapsed (STR) 06/15',\n",
       " 'VMB': 'Collapsed (VNB) 06/15',\n",
       " 'T01': 'Collapsed (SEA) 06/15',\n",
       " 'PHF': 'No PORT Code (PHF)',\n",
       " 'DRV': 'No PORT Code (DRV)',\n",
       " 'FTB': 'No PORT Code (FTB)',\n",
       " 'GAC': 'No PORT Code (GAC)',\n",
       " 'GMT': 'No PORT Code (GMT)',\n",
       " 'JFA': 'No PORT Code (JFA)',\n",
       " 'JMZ': 'No PORT Code (JMZ)',\n",
       " 'NC8': 'No PORT Code (NC8)',\n",
       " 'NYL': 'No PORT Code (NYL)',\n",
       " 'OAI': 'No PORT Code (OAI)',\n",
       " 'PCW': 'No PORT Code (PCW)',\n",
       " 'WA5': 'No PORT Code (WAS)',\n",
       " 'WTR': 'No PORT Code (WTR)',\n",
       " 'X96': 'No PORT Code (X96)',\n",
       " 'XNA': 'No PORT Code (XNA)',\n",
       " 'YGF': 'No PORT Code (YGF)',\n",
       " '5T6': 'No PORT Code (5T6)',\n",
       " '060': 'No PORT Code (60)',\n",
       " 'SP0': 'No PORT Code (SP0)',\n",
       " 'W55': 'No PORT Code (W55)',\n",
       " 'X44': 'No PORT Code (X44)',\n",
       " 'AUH': 'No PORT Code (AUH)',\n",
       " 'RYY': 'No PORT Code (RYY)',\n",
       " 'SUS': 'No PORT Code (SUS)',\n",
       " '74S': 'No PORT Code (74S)',\n",
       " 'ATW': 'No PORT Code (ATW)',\n",
       " 'CPX': 'No PORT Code (CPX)',\n",
       " 'MTH': 'No PORT Code (MTH)',\n",
       " 'PFN': 'No PORT Code (PFN)',\n",
       " 'SCH': 'No PORT Code (SCH)',\n",
       " 'ASI': 'No PORT Code (ASI)',\n",
       " 'BKF': 'No PORT Code (BKF)',\n",
       " 'DAY': 'No PORT Code (DAY)',\n",
       " 'Y62': 'No PORT Code (Y62)',\n",
       " 'AG': 'No PORT Code (AG)',\n",
       " 'BCM': 'No PORT Code (BCM)',\n",
       " 'DEC': 'No PORT Code (DEC)',\n",
       " 'PLB': 'No PORT Code (PLB)',\n",
       " 'CXO': 'No PORT Code (CXO)',\n",
       " 'JBQ': 'No PORT Code (JBQ)',\n",
       " 'JIG': 'No PORT Code (JIG)',\n",
       " 'OGS': 'No PORT Code (OGS)',\n",
       " 'TIW': 'No PORT Code (TIW)',\n",
       " 'OTS': 'No PORT Code (OTS)',\n",
       " 'AMT': 'No PORT Code (AMT)',\n",
       " 'EGE': 'No PORT Code (EGE)',\n",
       " 'GPI': 'No PORT Code (GPI)',\n",
       " 'NGL': 'No PORT Code (NGL)',\n",
       " 'OLM': 'No PORT Code (OLM)',\n",
       " '.GA': 'No PORT Code (.GA)',\n",
       " 'CLX': 'No PORT Code (CLX)',\n",
       " 'CP': 'No PORT Code (CP)',\n",
       " 'FSC': 'No PORT Code (FSC)',\n",
       " 'NK': 'No PORT Code (NK)',\n",
       " 'ADU': 'No PORT Code (ADU)',\n",
       " 'AKT': 'No PORT Code (AKT)',\n",
       " 'LIT': 'No PORT Code (LIT)',\n",
       " 'A2A': 'No PORT Code (A2A)',\n",
       " 'OSN': 'No PORT Code (OSN)'}"
      ]
     },
     "execution_count": 16,
     "metadata": {},
     "output_type": "execute_result"
    }
   ],
   "source": [
    "# check i94port => us city code \n",
    "i94port"
   ]
  },
  {
   "cell_type": "code",
   "execution_count": 17,
   "metadata": {},
   "outputs": [
    {
     "data": {
      "text/html": [
       "<div>\n",
       "<style scoped>\n",
       "    .dataframe tbody tr th:only-of-type {\n",
       "        vertical-align: middle;\n",
       "    }\n",
       "\n",
       "    .dataframe tbody tr th {\n",
       "        vertical-align: top;\n",
       "    }\n",
       "\n",
       "    .dataframe thead th {\n",
       "        text-align: right;\n",
       "    }\n",
       "</style>\n",
       "<table border=\"1\" class=\"dataframe\">\n",
       "  <thead>\n",
       "    <tr style=\"text-align: right;\">\n",
       "      <th></th>\n",
       "      <th>code</th>\n",
       "      <th>city</th>\n",
       "    </tr>\n",
       "  </thead>\n",
       "  <tbody>\n",
       "    <tr>\n",
       "      <th>0</th>\n",
       "      <td>ALC</td>\n",
       "      <td>ALCAN, AK</td>\n",
       "    </tr>\n",
       "    <tr>\n",
       "      <th>1</th>\n",
       "      <td>ANC</td>\n",
       "      <td>ANCHORAGE, AK</td>\n",
       "    </tr>\n",
       "    <tr>\n",
       "      <th>2</th>\n",
       "      <td>BAR</td>\n",
       "      <td>BAKER AAF - BAKER ISLAND, AK</td>\n",
       "    </tr>\n",
       "    <tr>\n",
       "      <th>3</th>\n",
       "      <td>DAC</td>\n",
       "      <td>DALTONS CACHE, AK</td>\n",
       "    </tr>\n",
       "    <tr>\n",
       "      <th>4</th>\n",
       "      <td>PIZ</td>\n",
       "      <td>DEW STATION PT LAY DEW, AK</td>\n",
       "    </tr>\n",
       "  </tbody>\n",
       "</table>\n",
       "</div>"
      ],
      "text/plain": [
       "  code                          city\n",
       "0  ALC                     ALCAN, AK\n",
       "1  ANC                 ANCHORAGE, AK\n",
       "2  BAR  BAKER AAF - BAKER ISLAND, AK\n",
       "3  DAC             DALTONS CACHE, AK\n",
       "4  PIZ    DEW STATION PT LAY DEW, AK"
      ]
     },
     "execution_count": 17,
     "metadata": {},
     "output_type": "execute_result"
    }
   ],
   "source": [
    "# create city_code_df\n",
    "df_city_code = pd.DataFrame(list(i94port.items()), columns=['code','city'])\n",
    "df_city_code.head()"
   ]
  },
  {
   "cell_type": "code",
   "execution_count": 18,
   "metadata": {},
   "outputs": [
    {
     "data": {
      "text/plain": [
       "code    660\n",
       "city    660\n",
       "dtype: int64"
      ]
     },
     "execution_count": 18,
     "metadata": {},
     "output_type": "execute_result"
    }
   ],
   "source": [
    "# cheking city_code number of rows\n",
    "df_city_code.count()"
   ]
  },
  {
   "cell_type": "code",
   "execution_count": 19,
   "metadata": {},
   "outputs": [
    {
     "data": {
      "text/plain": [
       "{'1': 'Air', '2': 'Sea', '3': 'Land', '9': 'Not reported'}"
      ]
     },
     "execution_count": 19,
     "metadata": {},
     "output_type": "execute_result"
    }
   ],
   "source": [
    "# check i94mode \n",
    "i94mode"
   ]
  },
  {
   "cell_type": "code",
   "execution_count": 20,
   "metadata": {},
   "outputs": [
    {
     "data": {
      "text/plain": [
       "{'AL': 'ALABAMA',\n",
       " 'AK': 'ALASKA',\n",
       " 'AZ': 'ARIZONA',\n",
       " 'AR': 'ARKANSAS',\n",
       " 'CA': 'CALIFORNIA',\n",
       " 'CO': 'COLORADO',\n",
       " 'CT': 'CONNECTICUT',\n",
       " 'DE': 'DELAWARE',\n",
       " 'DC': 'DIST. OF COLUMBIA',\n",
       " 'FL': 'FLORIDA',\n",
       " 'GA': 'GEORGIA',\n",
       " 'GU': 'GUAM',\n",
       " 'HI': 'HAWAII',\n",
       " 'ID': 'IDAHO',\n",
       " 'IL': 'ILLINOIS',\n",
       " 'IN': 'INDIANA',\n",
       " 'IA': 'IOWA',\n",
       " 'KS': 'KANSAS',\n",
       " 'KY': 'KENTUCKY',\n",
       " 'LA': 'LOUISIANA',\n",
       " 'ME': 'MAINE',\n",
       " 'MD': 'MARYLAND',\n",
       " 'MA': 'MASSACHUSETTS',\n",
       " 'MI': 'MICHIGAN',\n",
       " 'MN': 'MINNESOTA',\n",
       " 'MS': 'MISSISSIPPI',\n",
       " 'MO': 'MISSOURI',\n",
       " 'MT': 'MONTANA',\n",
       " 'NC': 'N. CAROLINA',\n",
       " 'ND': 'N. DAKOTA',\n",
       " 'NE': 'NEBRASKA',\n",
       " 'NV': 'NEVADA',\n",
       " 'NH': 'NEW HAMPSHIRE',\n",
       " 'NJ': 'NEW JERSEY',\n",
       " 'NM': 'NEW MEXICO',\n",
       " 'NY': 'NEW YORK',\n",
       " 'OH': 'OHIO',\n",
       " 'OK': 'OKLAHOMA',\n",
       " 'OR': 'OREGON',\n",
       " 'PA': 'PENNSYLVANIA',\n",
       " 'PR': 'PUERTO RICO',\n",
       " 'RI': 'RHODE ISLAND',\n",
       " 'SC': 'S. CAROLINA',\n",
       " 'SD': 'S. DAKOTA',\n",
       " 'TN': 'TENNESSEE',\n",
       " 'TX': 'TEXAS',\n",
       " 'UT': 'UTAH',\n",
       " 'VT': 'VERMONT',\n",
       " 'VI': 'VIRGIN ISLANDS',\n",
       " 'VA': 'VIRGINIA',\n",
       " 'WV': 'W. VIRGINIA',\n",
       " 'WA': 'WASHINGTON',\n",
       " 'WI': 'WISCONSON',\n",
       " 'WY': 'WYOMING',\n",
       " '99': 'All Other Codes'}"
      ]
     },
     "execution_count": 20,
     "metadata": {},
     "output_type": "execute_result"
    }
   ],
   "source": [
    "# check i94addr => state \n",
    "i94addr"
   ]
  },
  {
   "cell_type": "code",
   "execution_count": 21,
   "metadata": {},
   "outputs": [
    {
     "data": {
      "text/html": [
       "<div>\n",
       "<style scoped>\n",
       "    .dataframe tbody tr th:only-of-type {\n",
       "        vertical-align: middle;\n",
       "    }\n",
       "\n",
       "    .dataframe tbody tr th {\n",
       "        vertical-align: top;\n",
       "    }\n",
       "\n",
       "    .dataframe thead th {\n",
       "        text-align: right;\n",
       "    }\n",
       "</style>\n",
       "<table border=\"1\" class=\"dataframe\">\n",
       "  <thead>\n",
       "    <tr style=\"text-align: right;\">\n",
       "      <th></th>\n",
       "      <th>code</th>\n",
       "      <th>state</th>\n",
       "    </tr>\n",
       "  </thead>\n",
       "  <tbody>\n",
       "    <tr>\n",
       "      <th>0</th>\n",
       "      <td>AL</td>\n",
       "      <td>ALABAMA</td>\n",
       "    </tr>\n",
       "    <tr>\n",
       "      <th>1</th>\n",
       "      <td>AK</td>\n",
       "      <td>ALASKA</td>\n",
       "    </tr>\n",
       "    <tr>\n",
       "      <th>2</th>\n",
       "      <td>AZ</td>\n",
       "      <td>ARIZONA</td>\n",
       "    </tr>\n",
       "    <tr>\n",
       "      <th>3</th>\n",
       "      <td>AR</td>\n",
       "      <td>ARKANSAS</td>\n",
       "    </tr>\n",
       "    <tr>\n",
       "      <th>4</th>\n",
       "      <td>CA</td>\n",
       "      <td>CALIFORNIA</td>\n",
       "    </tr>\n",
       "  </tbody>\n",
       "</table>\n",
       "</div>"
      ],
      "text/plain": [
       "  code       state\n",
       "0   AL     ALABAMA\n",
       "1   AK      ALASKA\n",
       "2   AZ     ARIZONA\n",
       "3   AR    ARKANSAS\n",
       "4   CA  CALIFORNIA"
      ]
     },
     "execution_count": 21,
     "metadata": {},
     "output_type": "execute_result"
    }
   ],
   "source": [
    "# create state_df  \n",
    "df_state_code = pd.DataFrame(list(i94addr.items()), columns=['code','state'])\n",
    "df_state_code.head()"
   ]
  },
  {
   "cell_type": "code",
   "execution_count": 22,
   "metadata": {},
   "outputs": [
    {
     "data": {
      "text/plain": [
       "code     55\n",
       "state    55\n",
       "dtype: int64"
      ]
     },
     "execution_count": 22,
     "metadata": {},
     "output_type": "execute_result"
    }
   ],
   "source": [
    "df_state_code.count()"
   ]
  },
  {
   "cell_type": "code",
   "execution_count": 23,
   "metadata": {},
   "outputs": [
    {
     "data": {
      "text/plain": [
       "{'1': 'Business', '2': 'Pleasure', '3': 'Student'}"
      ]
     },
     "execution_count": 23,
     "metadata": {},
     "output_type": "execute_result"
    }
   ],
   "source": [
    "# check visa \n",
    "i94visa"
   ]
  },
  {
   "cell_type": "markdown",
   "metadata": {},
   "source": [
    "### Data Load and Description:  U.S City demography dataset"
   ]
  },
  {
   "cell_type": "markdown",
   "metadata": {},
   "source": [
    "This data comes from OpenSoft and contains information about the demographics of all US cities and census-designated places with a population greater or equal to 65,000. Original data comes from the US Census Bureau's 2015 American Community Survey."
   ]
  },
  {
   "cell_type": "code",
   "execution_count": 24,
   "metadata": {},
   "outputs": [],
   "source": [
    "demog_path = \"./us-cities-demographics.csv\"\n",
    "\n",
    "demog_df = spark.read\\\n",
    "    .option(\"delimiter\",\";\")\\\n",
    "    .option(\"header\",\"True\")\\\n",
    "    .csv(demog_path)"
   ]
  },
  {
   "cell_type": "code",
   "execution_count": 25,
   "metadata": {},
   "outputs": [
    {
     "data": {
      "text/html": [
       "<div>\n",
       "<style scoped>\n",
       "    .dataframe tbody tr th:only-of-type {\n",
       "        vertical-align: middle;\n",
       "    }\n",
       "\n",
       "    .dataframe tbody tr th {\n",
       "        vertical-align: top;\n",
       "    }\n",
       "\n",
       "    .dataframe thead th {\n",
       "        text-align: right;\n",
       "    }\n",
       "</style>\n",
       "<table border=\"1\" class=\"dataframe\">\n",
       "  <thead>\n",
       "    <tr style=\"text-align: right;\">\n",
       "      <th></th>\n",
       "      <th>City</th>\n",
       "      <th>State</th>\n",
       "      <th>Median Age</th>\n",
       "      <th>Male Population</th>\n",
       "      <th>Female Population</th>\n",
       "      <th>Total Population</th>\n",
       "      <th>Number of Veterans</th>\n",
       "      <th>Foreign-born</th>\n",
       "      <th>Average Household Size</th>\n",
       "      <th>State Code</th>\n",
       "      <th>Race</th>\n",
       "      <th>Count</th>\n",
       "    </tr>\n",
       "  </thead>\n",
       "  <tbody>\n",
       "    <tr>\n",
       "      <th>0</th>\n",
       "      <td>Silver Spring</td>\n",
       "      <td>Maryland</td>\n",
       "      <td>33.8</td>\n",
       "      <td>40601</td>\n",
       "      <td>41862</td>\n",
       "      <td>82463</td>\n",
       "      <td>1562</td>\n",
       "      <td>30908</td>\n",
       "      <td>2.6</td>\n",
       "      <td>MD</td>\n",
       "      <td>Hispanic or Latino</td>\n",
       "      <td>25924</td>\n",
       "    </tr>\n",
       "    <tr>\n",
       "      <th>1</th>\n",
       "      <td>Quincy</td>\n",
       "      <td>Massachusetts</td>\n",
       "      <td>41.0</td>\n",
       "      <td>44129</td>\n",
       "      <td>49500</td>\n",
       "      <td>93629</td>\n",
       "      <td>4147</td>\n",
       "      <td>32935</td>\n",
       "      <td>2.39</td>\n",
       "      <td>MA</td>\n",
       "      <td>White</td>\n",
       "      <td>58723</td>\n",
       "    </tr>\n",
       "    <tr>\n",
       "      <th>2</th>\n",
       "      <td>Hoover</td>\n",
       "      <td>Alabama</td>\n",
       "      <td>38.5</td>\n",
       "      <td>38040</td>\n",
       "      <td>46799</td>\n",
       "      <td>84839</td>\n",
       "      <td>4819</td>\n",
       "      <td>8229</td>\n",
       "      <td>2.58</td>\n",
       "      <td>AL</td>\n",
       "      <td>Asian</td>\n",
       "      <td>4759</td>\n",
       "    </tr>\n",
       "    <tr>\n",
       "      <th>3</th>\n",
       "      <td>Rancho Cucamonga</td>\n",
       "      <td>California</td>\n",
       "      <td>34.5</td>\n",
       "      <td>88127</td>\n",
       "      <td>87105</td>\n",
       "      <td>175232</td>\n",
       "      <td>5821</td>\n",
       "      <td>33878</td>\n",
       "      <td>3.18</td>\n",
       "      <td>CA</td>\n",
       "      <td>Black or African-American</td>\n",
       "      <td>24437</td>\n",
       "    </tr>\n",
       "    <tr>\n",
       "      <th>4</th>\n",
       "      <td>Newark</td>\n",
       "      <td>New Jersey</td>\n",
       "      <td>34.6</td>\n",
       "      <td>138040</td>\n",
       "      <td>143873</td>\n",
       "      <td>281913</td>\n",
       "      <td>5829</td>\n",
       "      <td>86253</td>\n",
       "      <td>2.73</td>\n",
       "      <td>NJ</td>\n",
       "      <td>White</td>\n",
       "      <td>76402</td>\n",
       "    </tr>\n",
       "  </tbody>\n",
       "</table>\n",
       "</div>"
      ],
      "text/plain": [
       "               City          State Median Age Male Population  \\\n",
       "0     Silver Spring       Maryland       33.8           40601   \n",
       "1            Quincy  Massachusetts       41.0           44129   \n",
       "2            Hoover        Alabama       38.5           38040   \n",
       "3  Rancho Cucamonga     California       34.5           88127   \n",
       "4            Newark     New Jersey       34.6          138040   \n",
       "\n",
       "  Female Population Total Population Number of Veterans Foreign-born  \\\n",
       "0             41862            82463               1562        30908   \n",
       "1             49500            93629               4147        32935   \n",
       "2             46799            84839               4819         8229   \n",
       "3             87105           175232               5821        33878   \n",
       "4            143873           281913               5829        86253   \n",
       "\n",
       "  Average Household Size State Code                       Race  Count  \n",
       "0                    2.6         MD         Hispanic or Latino  25924  \n",
       "1                   2.39         MA                      White  58723  \n",
       "2                   2.58         AL                      Asian   4759  \n",
       "3                   3.18         CA  Black or African-American  24437  \n",
       "4                   2.73         NJ                      White  76402  "
      ]
     },
     "execution_count": 25,
     "metadata": {},
     "output_type": "execute_result"
    }
   ],
   "source": [
    "demog_df.limit(5).toPandas()"
   ]
  },
  {
   "cell_type": "code",
   "execution_count": 26,
   "metadata": {},
   "outputs": [
    {
     "data": {
      "text/plain": [
       "2891"
      ]
     },
     "execution_count": 26,
     "metadata": {},
     "output_type": "execute_result"
    }
   ],
   "source": [
    "# check num of row \n",
    "demog_df.count()"
   ]
  },
  {
   "cell_type": "code",
   "execution_count": 27,
   "metadata": {},
   "outputs": [
    {
     "data": {
      "text/plain": [
       "['City',\n",
       " 'State',\n",
       " 'Median Age',\n",
       " 'Male Population',\n",
       " 'Female Population',\n",
       " 'Total Population',\n",
       " 'Number of Veterans',\n",
       " 'Foreign-born',\n",
       " 'Average Household Size',\n",
       " 'State Code',\n",
       " 'Race',\n",
       " 'Count']"
      ]
     },
     "execution_count": 27,
     "metadata": {},
     "output_type": "execute_result"
    }
   ],
   "source": [
    "demog_df.columns"
   ]
  },
  {
   "cell_type": "markdown",
   "metadata": {},
   "source": [
    "##### Data Dictionary: Demography dataset"
   ]
  },
  {
   "cell_type": "markdown",
   "metadata": {},
   "source": [
    "- `city` = City Name \n",
    "- `State` = US state \n",
    "- ` Median age` = Median age of the population \n",
    "- `Male Population` = Count of male population \n",
    "- `Female population` = count of female population \n",
    "- `Total population` = Count of total population\n",
    "- `Number of Veterans` = Count of total veterans \n",
    "- `Foreign born` = Count of residents of the city that were not born in the city \n",
    "- `Average Household Size` = Average city household size \n",
    "- `State Code` = Code of the US state \n",
    "- `Race` = Respondent race \n",
    "- `Count` = Count of city's individual per race"
   ]
  },
  {
   "cell_type": "markdown",
   "metadata": {},
   "source": [
    "### Data Load and Description: World Temperature Dataset"
   ]
  },
  {
   "cell_type": "markdown",
   "metadata": {},
   "source": [
    "The World Temperature dataset comes from Kaggle and represents global land temperatures by city."
   ]
  },
  {
   "cell_type": "markdown",
   "metadata": {},
   "source": [
    "#### Load World Temperature dataset"
   ]
  },
  {
   "cell_type": "code",
   "execution_count": 28,
   "metadata": {},
   "outputs": [],
   "source": [
    "# load world temperature dataset \n",
    "temp_path = \"./GlobalLandTemperaturesByCity.csv\"\n",
    "\n",
    "# read csv \n",
    "temp_df = spark.read\\\n",
    "    .option(\"delimiter\",\",\")\\\n",
    "    .option(\"header\",\"True\")\\\n",
    "    .csv(temp_path)"
   ]
  },
  {
   "cell_type": "code",
   "execution_count": 29,
   "metadata": {},
   "outputs": [
    {
     "data": {
      "text/html": [
       "<div>\n",
       "<style scoped>\n",
       "    .dataframe tbody tr th:only-of-type {\n",
       "        vertical-align: middle;\n",
       "    }\n",
       "\n",
       "    .dataframe tbody tr th {\n",
       "        vertical-align: top;\n",
       "    }\n",
       "\n",
       "    .dataframe thead th {\n",
       "        text-align: right;\n",
       "    }\n",
       "</style>\n",
       "<table border=\"1\" class=\"dataframe\">\n",
       "  <thead>\n",
       "    <tr style=\"text-align: right;\">\n",
       "      <th></th>\n",
       "      <th>dt</th>\n",
       "      <th>AverageTemperature</th>\n",
       "      <th>AverageTemperatureUncertainty</th>\n",
       "      <th>City</th>\n",
       "      <th>Country</th>\n",
       "      <th>Latitude</th>\n",
       "      <th>Longitude</th>\n",
       "    </tr>\n",
       "  </thead>\n",
       "  <tbody>\n",
       "    <tr>\n",
       "      <th>0</th>\n",
       "      <td>1743-11-01</td>\n",
       "      <td>6.068</td>\n",
       "      <td>1.7369999999999999</td>\n",
       "      <td>Århus</td>\n",
       "      <td>Denmark</td>\n",
       "      <td>57.05N</td>\n",
       "      <td>10.33E</td>\n",
       "    </tr>\n",
       "    <tr>\n",
       "      <th>1</th>\n",
       "      <td>1743-12-01</td>\n",
       "      <td>None</td>\n",
       "      <td>None</td>\n",
       "      <td>Århus</td>\n",
       "      <td>Denmark</td>\n",
       "      <td>57.05N</td>\n",
       "      <td>10.33E</td>\n",
       "    </tr>\n",
       "    <tr>\n",
       "      <th>2</th>\n",
       "      <td>1744-01-01</td>\n",
       "      <td>None</td>\n",
       "      <td>None</td>\n",
       "      <td>Århus</td>\n",
       "      <td>Denmark</td>\n",
       "      <td>57.05N</td>\n",
       "      <td>10.33E</td>\n",
       "    </tr>\n",
       "    <tr>\n",
       "      <th>3</th>\n",
       "      <td>1744-02-01</td>\n",
       "      <td>None</td>\n",
       "      <td>None</td>\n",
       "      <td>Århus</td>\n",
       "      <td>Denmark</td>\n",
       "      <td>57.05N</td>\n",
       "      <td>10.33E</td>\n",
       "    </tr>\n",
       "    <tr>\n",
       "      <th>4</th>\n",
       "      <td>1744-03-01</td>\n",
       "      <td>None</td>\n",
       "      <td>None</td>\n",
       "      <td>Århus</td>\n",
       "      <td>Denmark</td>\n",
       "      <td>57.05N</td>\n",
       "      <td>10.33E</td>\n",
       "    </tr>\n",
       "  </tbody>\n",
       "</table>\n",
       "</div>"
      ],
      "text/plain": [
       "           dt AverageTemperature AverageTemperatureUncertainty   City  \\\n",
       "0  1743-11-01              6.068            1.7369999999999999  Århus   \n",
       "1  1743-12-01               None                          None  Århus   \n",
       "2  1744-01-01               None                          None  Århus   \n",
       "3  1744-02-01               None                          None  Århus   \n",
       "4  1744-03-01               None                          None  Århus   \n",
       "\n",
       "   Country Latitude Longitude  \n",
       "0  Denmark   57.05N    10.33E  \n",
       "1  Denmark   57.05N    10.33E  \n",
       "2  Denmark   57.05N    10.33E  \n",
       "3  Denmark   57.05N    10.33E  \n",
       "4  Denmark   57.05N    10.33E  "
      ]
     },
     "execution_count": 29,
     "metadata": {},
     "output_type": "execute_result"
    }
   ],
   "source": [
    "# check temp_df \n",
    "temp_df.limit(5).toPandas()"
   ]
  },
  {
   "cell_type": "code",
   "execution_count": 30,
   "metadata": {},
   "outputs": [
    {
     "data": {
      "text/plain": [
       "['dt',\n",
       " 'AverageTemperature',\n",
       " 'AverageTemperatureUncertainty',\n",
       " 'City',\n",
       " 'Country',\n",
       " 'Latitude',\n",
       " 'Longitude']"
      ]
     },
     "execution_count": 30,
     "metadata": {},
     "output_type": "execute_result"
    }
   ],
   "source": [
    "# check columns \n",
    "temp_df.columns"
   ]
  },
  {
   "cell_type": "code",
   "execution_count": 31,
   "metadata": {},
   "outputs": [
    {
     "data": {
      "text/plain": [
       "8599212"
      ]
     },
     "execution_count": 31,
     "metadata": {},
     "output_type": "execute_result"
    }
   ],
   "source": [
    "# check num row \n",
    "temp_df.count()"
   ]
  },
  {
   "cell_type": "markdown",
   "metadata": {},
   "source": [
    "#### Data Dictionary: World Temperature Dataset"
   ]
  },
  {
   "cell_type": "markdown",
   "metadata": {},
   "source": [
    "- `dt` = Date \n",
    "- `AverageTemperature` = Global average land temperature in celsius \n",
    "- `AverageTemperatureUncertainty` = 95% confidence interval around the average \n",
    "- `City` = name of city \n",
    "- `Country` = name of country \n",
    "- `Latitude` = city latitude \n",
    "- `Longitude` = city Longitude"
   ]
  },
  {
   "cell_type": "markdown",
   "metadata": {},
   "source": [
    "## Step 2: Explore and Assess the Data\n",
    "\n",
    "#### Explore the data \n",
    "1. Use pandas and pyspark for exploratory data analysis to understand on datasets\n",
    "2. split datasets to Fact-dimension tables and checking missing values"
   ]
  },
  {
   "cell_type": "markdown",
   "metadata": {},
   "source": [
    "### Explore Data: Immigration dataset"
   ]
  },
  {
   "cell_type": "code",
   "execution_count": 43,
   "metadata": {},
   "outputs": [
    {
     "name": "stdout",
     "output_type": "stream",
     "text": [
      "root\n",
      " |-- cicid: double (nullable = true)\n",
      " |-- i94yr: double (nullable = true)\n",
      " |-- i94mon: double (nullable = true)\n",
      " |-- i94cit: double (nullable = true)\n",
      " |-- i94res: double (nullable = true)\n",
      " |-- i94port: string (nullable = true)\n",
      " |-- arrdate: double (nullable = true)\n",
      " |-- i94mode: double (nullable = true)\n",
      " |-- i94addr: string (nullable = true)\n",
      " |-- depdate: double (nullable = true)\n",
      " |-- i94bir: double (nullable = true)\n",
      " |-- i94visa: double (nullable = true)\n",
      " |-- count: double (nullable = true)\n",
      " |-- dtadfile: string (nullable = true)\n",
      " |-- entdepa: string (nullable = true)\n",
      " |-- entdepd: string (nullable = true)\n",
      " |-- entdepu: string (nullable = true)\n",
      " |-- matflag: string (nullable = true)\n",
      " |-- biryear: double (nullable = true)\n",
      " |-- dtaddto: string (nullable = true)\n",
      " |-- gender: string (nullable = true)\n",
      " |-- airline: string (nullable = true)\n",
      " |-- admnum: double (nullable = true)\n",
      " |-- fltno: string (nullable = true)\n",
      " |-- visatype: string (nullable = true)\n",
      "\n"
     ]
    }
   ],
   "source": [
    "# check schema \n",
    "immigration_df.printSchema()"
   ]
  },
  {
   "cell_type": "markdown",
   "metadata": {},
   "source": [
    "#### Missing values"
   ]
  },
  {
   "cell_type": "code",
   "execution_count": 44,
   "metadata": {},
   "outputs": [],
   "source": [
    "# checking total number of rows\n",
    "total = immigration_df.count()"
   ]
  },
  {
   "cell_type": "code",
   "execution_count": 45,
   "metadata": {},
   "outputs": [],
   "source": [
    "# create missing_df to count missing values\n",
    "df_agg = immigration_df.agg(*[\n",
    "    F.count(F.when(F.isnull(c), c)).alias(c) for c in immigration_df.columns\n",
    "])\n",
    "\n",
    "df_agg_pd = df_agg.toPandas()\n",
    "\n",
    "df_agg_pd = pd.melt(df_agg_pd, var_name='cols',value_name='values')\n",
    "df_agg_pd['%_missing_values'] = 100 * df_agg_pd['values']/total"
   ]
  },
  {
   "cell_type": "code",
   "execution_count": 46,
   "metadata": {},
   "outputs": [
    {
     "data": {
      "image/png": "[encoded data removed]",
      "text/plain": [
       "<Figure size 1080x360 with 1 Axes>"
      ]
     },
     "metadata": {
      "needs_background": "light"
     },
     "output_type": "display_data"
    }
   ],
   "source": [
    "# visualize\n",
    "plt.figure(figsize=(15,5))\n",
    "ax = sns.barplot(x='cols',y='%_missing_values', data=df_agg_pd)\n",
    "ax.set_ylim(0,100)\n",
    "# rotation x key\n",
    "ax.set_xticklabels(ax.get_xticklabels(), rotation=90)\n",
    "plt.show()"
   ]
  },
  {
   "cell_type": "code",
   "execution_count": 47,
   "metadata": {},
   "outputs": [],
   "source": [
    "# drop columns\n",
    "drop_cols = ['visapost','occup','entredepu','insnum']\n",
    "\n",
    "immigration_df = immigration_df.drop(*drop_cols)\n",
    "\n",
    "# drop duplicates \n",
    "immigration_df = immigration_df.drop_duplicates(['cicid'])"
   ]
  },
  {
   "cell_type": "code",
   "execution_count": 48,
   "metadata": {
    "scrolled": true
   },
   "outputs": [
    {
     "data": {
      "text/plain": [
       "2200708"
      ]
     },
     "execution_count": 48,
     "metadata": {},
     "output_type": "execute_result"
    }
   ],
   "source": [
    "immigration_df.count()"
   ]
  },
  {
   "cell_type": "code",
   "execution_count": null,
   "metadata": {},
   "outputs": [],
   "source": []
  },
  {
   "cell_type": "markdown",
   "metadata": {},
   "source": [
    "## Explore Dataset: Demography dataset"
   ]
  },
  {
   "cell_type": "code",
   "execution_count": 49,
   "metadata": {},
   "outputs": [
    {
     "data": {
      "text/plain": [
       "2891"
      ]
     },
     "execution_count": 49,
     "metadata": {},
     "output_type": "execute_result"
    }
   ],
   "source": [
    "# check count\n",
    "demog_df.count()"
   ]
  },
  {
   "cell_type": "code",
   "execution_count": 50,
   "metadata": {},
   "outputs": [
    {
     "name": "stdout",
     "output_type": "stream",
     "text": [
      "root\n",
      " |-- City: string (nullable = true)\n",
      " |-- State: string (nullable = true)\n",
      " |-- Median Age: string (nullable = true)\n",
      " |-- Male Population: string (nullable = true)\n",
      " |-- Female Population: string (nullable = true)\n",
      " |-- Total Population: string (nullable = true)\n",
      " |-- Number of Veterans: string (nullable = true)\n",
      " |-- Foreign-born: string (nullable = true)\n",
      " |-- Average Household Size: string (nullable = true)\n",
      " |-- State Code: string (nullable = true)\n",
      " |-- Race: string (nullable = true)\n",
      " |-- Count: string (nullable = true)\n",
      "\n"
     ]
    }
   ],
   "source": [
    "# print dmog_df schema \n",
    "demog_df.printSchema()"
   ]
  },
  {
   "cell_type": "markdown",
   "metadata": {},
   "source": [
    "#### Checking missing values: Demography"
   ]
  },
  {
   "cell_type": "code",
   "execution_count": 51,
   "metadata": {},
   "outputs": [],
   "source": [
    "# create missing_df_demog\n",
    "demog_df_missing = demog_df.agg(*[\n",
    "        F.count(F.when(F.isnull(c), c)).alias(c) for c in demog_df.columns\n",
    "])"
   ]
  },
  {
   "cell_type": "code",
   "execution_count": 52,
   "metadata": {},
   "outputs": [
    {
     "data": {
      "text/html": [
       "<div>\n",
       "<style scoped>\n",
       "    .dataframe tbody tr th:only-of-type {\n",
       "        vertical-align: middle;\n",
       "    }\n",
       "\n",
       "    .dataframe tbody tr th {\n",
       "        vertical-align: top;\n",
       "    }\n",
       "\n",
       "    .dataframe thead th {\n",
       "        text-align: right;\n",
       "    }\n",
       "</style>\n",
       "<table border=\"1\" class=\"dataframe\">\n",
       "  <thead>\n",
       "    <tr style=\"text-align: right;\">\n",
       "      <th></th>\n",
       "      <th>City</th>\n",
       "      <th>State</th>\n",
       "      <th>Median Age</th>\n",
       "      <th>Male Population</th>\n",
       "      <th>Female Population</th>\n",
       "      <th>Total Population</th>\n",
       "      <th>Number of Veterans</th>\n",
       "      <th>Foreign-born</th>\n",
       "      <th>Average Household Size</th>\n",
       "      <th>State Code</th>\n",
       "      <th>Race</th>\n",
       "      <th>Count</th>\n",
       "    </tr>\n",
       "  </thead>\n",
       "  <tbody>\n",
       "    <tr>\n",
       "      <th>0</th>\n",
       "      <td>0</td>\n",
       "      <td>0</td>\n",
       "      <td>0</td>\n",
       "      <td>3</td>\n",
       "      <td>3</td>\n",
       "      <td>0</td>\n",
       "      <td>13</td>\n",
       "      <td>13</td>\n",
       "      <td>16</td>\n",
       "      <td>0</td>\n",
       "      <td>0</td>\n",
       "      <td>0</td>\n",
       "    </tr>\n",
       "  </tbody>\n",
       "</table>\n",
       "</div>"
      ],
      "text/plain": [
       "   City  State  Median Age  Male Population  Female Population  \\\n",
       "0     0      0           0                3                  3   \n",
       "\n",
       "   Total Population  Number of Veterans  Foreign-born  Average Household Size  \\\n",
       "0                 0                  13            13                      16   \n",
       "\n",
       "   State Code  Race  Count  \n",
       "0           0     0      0  "
      ]
     },
     "execution_count": 52,
     "metadata": {},
     "output_type": "execute_result"
    }
   ],
   "source": [
    "demog_df_missing.toPandas().head()"
   ]
  },
  {
   "cell_type": "code",
   "execution_count": 53,
   "metadata": {},
   "outputs": [],
   "source": [
    "# drop missing values \n",
    "\n",
    "drop_cols = ['Male Population','Female Population','Number of Veterans','Foreign-born','Average Household Size']\n",
    "\n",
    "\n",
    "demog_df = demog_df.dropna(subset=drop_cols)\n",
    "demog_df = demog_df.drop_duplicates(subset=['City','State','State Code','Race'])"
   ]
  },
  {
   "cell_type": "markdown",
   "metadata": {},
   "source": [
    "## Explore Dataset: Temperature dataset"
   ]
  },
  {
   "cell_type": "code",
   "execution_count": 54,
   "metadata": {},
   "outputs": [
    {
     "name": "stdout",
     "output_type": "stream",
     "text": [
      "+----------+------------------+-----------------------------+-----+-------+--------+---------+\n",
      "|        dt|AverageTemperature|AverageTemperatureUncertainty| City|Country|Latitude|Longitude|\n",
      "+----------+------------------+-----------------------------+-----+-------+--------+---------+\n",
      "|1743-11-01|             6.068|           1.7369999999999999|Århus|Denmark|  57.05N|   10.33E|\n",
      "|1743-12-01|              null|                         null|Århus|Denmark|  57.05N|   10.33E|\n",
      "|1744-01-01|              null|                         null|Århus|Denmark|  57.05N|   10.33E|\n",
      "|1744-02-01|              null|                         null|Århus|Denmark|  57.05N|   10.33E|\n",
      "|1744-03-01|              null|                         null|Århus|Denmark|  57.05N|   10.33E|\n",
      "+----------+------------------+-----------------------------+-----+-------+--------+---------+\n",
      "only showing top 5 rows\n",
      "\n"
     ]
    }
   ],
   "source": [
    "temp_df.show(5)"
   ]
  },
  {
   "cell_type": "code",
   "execution_count": 55,
   "metadata": {},
   "outputs": [
    {
     "data": {
      "text/plain": [
       "8599212"
      ]
     },
     "execution_count": 55,
     "metadata": {},
     "output_type": "execute_result"
    }
   ],
   "source": [
    "# count total count of temperature dataset\n",
    "total_temp = temp_df.count()\n",
    "total_temp"
   ]
  },
  {
   "cell_type": "code",
   "execution_count": 56,
   "metadata": {},
   "outputs": [
    {
     "name": "stdout",
     "output_type": "stream",
     "text": [
      "root\n",
      " |-- dt: string (nullable = true)\n",
      " |-- AverageTemperature: string (nullable = true)\n",
      " |-- AverageTemperatureUncertainty: string (nullable = true)\n",
      " |-- City: string (nullable = true)\n",
      " |-- Country: string (nullable = true)\n",
      " |-- Latitude: string (nullable = true)\n",
      " |-- Longitude: string (nullable = true)\n",
      "\n"
     ]
    }
   ],
   "source": [
    "# check schema \n",
    "temp_df.printSchema()"
   ]
  },
  {
   "cell_type": "markdown",
   "metadata": {},
   "source": [
    "#### checking missing values: temperature dataset"
   ]
  },
  {
   "cell_type": "code",
   "execution_count": 57,
   "metadata": {},
   "outputs": [],
   "source": [
    "# create temp_df_missing\n",
    "temp_df_missing = temp_df.agg(*[\n",
    "        F.count(F.when(F.isnull(c), c)).alias(c) for c in temp_df.columns\n",
    "])"
   ]
  },
  {
   "cell_type": "code",
   "execution_count": 58,
   "metadata": {},
   "outputs": [
    {
     "data": {
      "text/html": [
       "<div>\n",
       "<style scoped>\n",
       "    .dataframe tbody tr th:only-of-type {\n",
       "        vertical-align: middle;\n",
       "    }\n",
       "\n",
       "    .dataframe tbody tr th {\n",
       "        vertical-align: top;\n",
       "    }\n",
       "\n",
       "    .dataframe thead th {\n",
       "        text-align: right;\n",
       "    }\n",
       "</style>\n",
       "<table border=\"1\" class=\"dataframe\">\n",
       "  <thead>\n",
       "    <tr style=\"text-align: right;\">\n",
       "      <th></th>\n",
       "      <th>dt</th>\n",
       "      <th>AverageTemperature</th>\n",
       "      <th>AverageTemperatureUncertainty</th>\n",
       "      <th>City</th>\n",
       "      <th>Country</th>\n",
       "      <th>Latitude</th>\n",
       "      <th>Longitude</th>\n",
       "    </tr>\n",
       "  </thead>\n",
       "  <tbody>\n",
       "    <tr>\n",
       "      <th>0</th>\n",
       "      <td>0</td>\n",
       "      <td>364130</td>\n",
       "      <td>364130</td>\n",
       "      <td>0</td>\n",
       "      <td>0</td>\n",
       "      <td>0</td>\n",
       "      <td>0</td>\n",
       "    </tr>\n",
       "  </tbody>\n",
       "</table>\n",
       "</div>"
      ],
      "text/plain": [
       "   dt  AverageTemperature  AverageTemperatureUncertainty  City  Country  \\\n",
       "0   0              364130                         364130     0        0   \n",
       "\n",
       "   Latitude  Longitude  \n",
       "0         0          0  "
      ]
     },
     "execution_count": 58,
     "metadata": {},
     "output_type": "execute_result"
    }
   ],
   "source": [
    "temp_df_missing.toPandas().head()"
   ]
  },
  {
   "cell_type": "code",
   "execution_count": 59,
   "metadata": {},
   "outputs": [],
   "source": [
    "# convert temp_df_missing to pandas df\n",
    "temp_df_pd = temp_df_missing.toPandas()\n",
    "temp_df_pd = pd.melt(temp_df_pd, var_name='cols',value_name='values')\n",
    "\n",
    "temp_df_pd['%_missing_values'] = 100 * temp_df_pd['values']/total_temp"
   ]
  },
  {
   "cell_type": "code",
   "execution_count": 60,
   "metadata": {},
   "outputs": [
    {
     "data": {
      "image/png": "[encoded data removed]",
      "text/plain": [
       "<Figure size 1080x360 with 1 Axes>"
      ]
     },
     "metadata": {
      "needs_background": "light"
     },
     "output_type": "display_data"
    }
   ],
   "source": [
    "# visualize\n",
    "plt.figure(figsize=(15,5))\n",
    "ax = sns.barplot(x='cols',y='%_missing_values', data=temp_df_pd)\n",
    "ax.set_ylim(0,100)\n",
    "# rotation x key\n",
    "ax.set_xticklabels(ax.get_xticklabels(), rotation=90)\n",
    "plt.show()"
   ]
  },
  {
   "cell_type": "code",
   "execution_count": 61,
   "metadata": {},
   "outputs": [],
   "source": [
    "# set drop columns list \n",
    "drop_cols = ['AverageTemperature','AverageTemperatureUncertainty']\n",
    "\n",
    "# drop \n",
    "temp_df = temp_df.dropna(subset=drop_cols)"
   ]
  },
  {
   "cell_type": "code",
   "execution_count": 62,
   "metadata": {},
   "outputs": [
    {
     "data": {
      "text/plain": [
       "8235082"
      ]
     },
     "execution_count": 62,
     "metadata": {},
     "output_type": "execute_result"
    }
   ],
   "source": [
    "# checking count\n",
    "temp_df.count()"
   ]
  },
  {
   "cell_type": "code",
   "execution_count": 63,
   "metadata": {},
   "outputs": [
    {
     "name": "stdout",
     "output_type": "stream",
     "text": [
      "+----------+-------------------+-----------------------------+-----+-------+--------+---------+\n",
      "|        dt| AverageTemperature|AverageTemperatureUncertainty| City|Country|Latitude|Longitude|\n",
      "+----------+-------------------+-----------------------------+-----+-------+--------+---------+\n",
      "|1743-11-01|              6.068|           1.7369999999999999|Århus|Denmark|  57.05N|   10.33E|\n",
      "|1744-04-01| 5.7879999999999985|           3.6239999999999997|Århus|Denmark|  57.05N|   10.33E|\n",
      "|1744-05-01|             10.644|           1.2830000000000001|Århus|Denmark|  57.05N|   10.33E|\n",
      "|1744-06-01| 14.050999999999998|                        1.347|Århus|Denmark|  57.05N|   10.33E|\n",
      "|1744-07-01|             16.082|                        1.396|Århus|Denmark|  57.05N|   10.33E|\n",
      "|1744-09-01| 12.780999999999999|                        1.454|Århus|Denmark|  57.05N|   10.33E|\n",
      "|1744-10-01|               7.95|                         1.63|Århus|Denmark|  57.05N|   10.33E|\n",
      "|1744-11-01|  4.638999999999999|           1.3019999999999998|Århus|Denmark|  57.05N|   10.33E|\n",
      "|1744-12-01|0.12199999999999987|                        1.756|Århus|Denmark|  57.05N|   10.33E|\n",
      "|1745-01-01|-1.3330000000000002|                        1.642|Århus|Denmark|  57.05N|   10.33E|\n",
      "|1745-02-01|             -2.732|                        1.358|Århus|Denmark|  57.05N|   10.33E|\n",
      "|1745-03-01|              0.129|                        1.088|Århus|Denmark|  57.05N|   10.33E|\n",
      "|1745-04-01|              4.042|                        1.138|Århus|Denmark|  57.05N|   10.33E|\n",
      "|1750-01-01|              1.699|                        1.013|Århus|Denmark|  57.05N|   10.33E|\n",
      "|1750-02-01| 3.9610000000000003|           2.3609999999999998|Århus|Denmark|  57.05N|   10.33E|\n",
      "|1750-03-01|              5.182|                         3.48|Århus|Denmark|  57.05N|   10.33E|\n",
      "|1750-04-01|              7.197|                        0.732|Århus|Denmark|  57.05N|   10.33E|\n",
      "|1750-05-01|             10.634|                        1.351|Århus|Denmark|  57.05N|   10.33E|\n",
      "|1750-06-01|             14.913|                        1.181|Århus|Denmark|  57.05N|   10.33E|\n",
      "|1750-07-01|             17.831|                         1.22|Århus|Denmark|  57.05N|   10.33E|\n",
      "+----------+-------------------+-----------------------------+-----+-------+--------+---------+\n",
      "only showing top 20 rows\n",
      "\n"
     ]
    }
   ],
   "source": [
    "temp_df.show()"
   ]
  },
  {
   "cell_type": "code",
   "execution_count": 64,
   "metadata": {},
   "outputs": [],
   "source": [
    "# drop duplicates row \n",
    "temp_df = temp_df.drop_duplicates(subset=['dt','City','Country'])"
   ]
  },
  {
   "cell_type": "code",
   "execution_count": null,
   "metadata": {},
   "outputs": [],
   "source": []
  },
  {
   "cell_type": "code",
   "execution_count": null,
   "metadata": {},
   "outputs": [],
   "source": []
  },
  {
   "cell_type": "markdown",
   "metadata": {},
   "source": [
    "### Step 3: Define the Data Model\n"
   ]
  },
  {
   "cell_type": "markdown",
   "metadata": {},
   "source": [
    "##### 3.1 Conceptual Data Model"
   ]
  },
  {
   "cell_type": "markdown",
   "metadata": {},
   "source": [
    "![nn](./capstone_star_schema.png)"
   ]
  },
  {
   "cell_type": "markdown",
   "metadata": {},
   "source": [
    "#### Data Pipeline Build Up steps"
   ]
  },
  {
   "cell_type": "markdown",
   "metadata": {},
   "source": [
    "1. Load datasets \n",
    "2. clean the i94 immigration dataset to create spark dataframe for each month\n",
    "    and create Fact-immigration table.\n",
    "3. create airline dataframe from i94 immigration dataset and clean, then create\n",
    "    airline dimensional table, save as parquet.\n",
    "4. clean us-demograph dataset and create demograhpy dimensional table, save as parquet.\n",
    "5. clean global temperature dataset and create temperature dimensional table, save as parquet"
   ]
  },
  {
   "cell_type": "code",
   "execution_count": null,
   "metadata": {},
   "outputs": [],
   "source": []
  },
  {
   "cell_type": "markdown",
   "metadata": {},
   "source": [
    "### Step 4: Run Pipelines to Model the Data \n",
    "#### 4.1 Create the data model\n",
    "Build the data pipelines to create the data model."
   ]
  },
  {
   "cell_type": "markdown",
   "metadata": {},
   "source": [
    "### Create the data model: fact-immigration-table"
   ]
  },
  {
   "cell_type": "code",
   "execution_count": 244,
   "metadata": {},
   "outputs": [],
   "source": [
    "# rename columns function \n",
    "def rename_columns(table, new_columns):\n",
    "    \"\"\"\n",
    "        rename column name on spark dataframe\n",
    "        \n",
    "        input:\n",
    "            - table: df to rename\n",
    "            - new_colmns: new name of columns list\n",
    "        output:\n",
    "            - renamed df\n",
    "    \"\"\"\n",
    "    \n",
    "    for original, new in zip(table.columns, new_columns):\n",
    "        table = table.withColumnRenamed(original, new)\n",
    "    return table"
   ]
  },
  {
   "cell_type": "code",
   "execution_count": 245,
   "metadata": {},
   "outputs": [],
   "source": [
    "# convert to datetime Type\n",
    "def SAS_to_date(date):\n",
    "    if date is not None:\n",
    "        return pd.to_timedelta(date, unit='D') + pd.Timestamp('1960-1-1')"
   ]
  },
  {
   "cell_type": "code",
   "execution_count": 246,
   "metadata": {},
   "outputs": [],
   "source": [
    "# set udf \n",
    "SAS_to_date_udf = udf(SAS_to_date, DateType())"
   ]
  },
  {
   "cell_type": "code",
   "execution_count": 247,
   "metadata": {},
   "outputs": [],
   "source": [
    "# Select columns to create Fact table \n",
    "target_cols = ['cicid','i94yr','i94mon','i94res','i94port','arrdate','depdate','i94addr','gender','visatype','fltno']\n",
    "\n",
    "# new column name list\n",
    "# new cos \n",
    "new_cols = ['cic_id','year','month','country_code','city_code','arrive_date','depart_date','state_code','gender','visa_type','flight_num']"
   ]
  },
  {
   "cell_type": "code",
   "execution_count": 248,
   "metadata": {},
   "outputs": [],
   "source": [
    "# create fact_immigration table \n",
    "fact_immigration_df = immigration_df.select(target_cols).distinct()\\\n",
    "    .filter(immigration_df.depdate.isNotNull())\\\n",
    "    .filter(immigration_df.gender.isNotNull())\\\n",
    "    .filter(immigration_df.i94addr.isNotNull())\\\n",
    "    .filter(immigration_df.fltno.isNotNull())\\\n",
    "    .withColumn('immigration_id', monotonically_increasing_id())"
   ]
  },
  {
   "cell_type": "code",
   "execution_count": 249,
   "metadata": {},
   "outputs": [],
   "source": [
    "# rename columns on fact_immigration_df \n",
    "fact_immigration_df = rename_columns(fact_immigration_df,new_cols)"
   ]
  },
  {
   "cell_type": "code",
   "execution_count": 250,
   "metadata": {},
   "outputs": [
    {
     "data": {
      "text/plain": [
       "DataFrame[cic_id: double, year: double, month: double, country_code: double, city_code: string, arrive_date: double, depart_date: double, state_code: string, gender: string, visa_type: string, flight_num: string, immigration_id: bigint]"
      ]
     },
     "execution_count": 250,
     "metadata": {},
     "output_type": "execute_result"
    }
   ],
   "source": [
    "# checking \n",
    "fact_immigration_df"
   ]
  },
  {
   "cell_type": "code",
   "execution_count": 251,
   "metadata": {},
   "outputs": [],
   "source": [
    "# apply convert date \n",
    "fact_immigration_df = fact_immigration_df.withColumn('arrive_date',\\\n",
    "                                                     SAS_to_date_udf(col('arrive_date')))\n",
    "fact_immigration_df = fact_immigration_df.withColumn('depart_date',\\\n",
    "                                                    SAS_to_date_udf(col('depart_date')))"
   ]
  },
  {
   "cell_type": "code",
   "execution_count": 252,
   "metadata": {},
   "outputs": [],
   "source": [
    "# convert country code , year, month to integer\n",
    "fact_immigration_df = fact_immigration_df.withColumn('country_code',F.col('country_code').cast('integer'))\n",
    "fact_immigration_df = fact_immigration_df.withColumn('year',F.col('year').cast('integer'))\n",
    "fact_immigration_df = fact_immigration_df.withColumn('month',F.col('month').cast('integer'))\n"
   ]
  },
  {
   "cell_type": "code",
   "execution_count": 253,
   "metadata": {},
   "outputs": [
    {
     "data": {
      "text/plain": [
       "DataFrame[cic_id: double, year: int, month: int, country_code: int, city_code: string, arrive_date: date, depart_date: date, state_code: string, gender: string, visa_type: string, flight_num: string, immigration_id: bigint]"
      ]
     },
     "execution_count": 253,
     "metadata": {},
     "output_type": "execute_result"
    }
   ],
   "source": [
    "# drop \n",
    "fact_immigration_df"
   ]
  },
  {
   "cell_type": "code",
   "execution_count": 254,
   "metadata": {},
   "outputs": [
    {
     "name": "stdout",
     "output_type": "stream",
     "text": [
      "+------+----+-----+------------+---------+-----------+-----------+----------+------+---------+----------+--------------+\n",
      "|cic_id|year|month|country_code|city_code|arrive_date|depart_date|state_code|gender|visa_type|flight_num|immigration_id|\n",
      "+------+----+-----+------------+---------+-----------+-----------+----------+------+---------+----------+--------------+\n",
      "| 108.0|2016|    4|         103|      DET| 2016-04-01| 2016-04-12|        MI|     M|       WT|     00442|             0|\n",
      "| 124.0|2016|    4|         103|      NEW| 2016-04-01| 2016-04-10|        NJ|     M|       WT|     00408|             1|\n",
      "| 128.0|2016|    4|         103|      NEW| 2016-04-01| 2016-04-08|        NJ|     F|       WT|     00089|             2|\n",
      "| 142.0|2016|    4|         103|      NEW| 2016-04-01| 2016-04-06|        NY|     M|       WB|     01066|             3|\n",
      "| 147.0|2016|    4|         103|      NEW| 2016-04-01| 2016-04-08|        NY|     M|       WT|     00089|             4|\n",
      "| 154.0|2016|    4|         103|      NEW| 2016-04-01| 2016-04-10|        NY|     M|       WT|     00089|             5|\n",
      "| 160.0|2016|    4|         103|      NEW| 2016-04-01| 2016-04-12|        NY|     M|       WT|     00031|             6|\n",
      "| 168.0|2016|    4|         103|      WAS| 2016-04-01| 2016-04-03|        DC|     M|       WT|     00093|             7|\n",
      "| 169.0|2016|    4|         103|      WAS| 2016-04-01| 2016-04-06|        DC|     M|       WB|     00093|             8|\n",
      "| 170.0|2016|    4|         103|      WAS| 2016-04-01| 2016-04-16|        DC|     F|       WT|     00107|             9|\n",
      "| 180.0|2016|    4|         103|      WAS| 2016-04-01| 2016-04-23|        MD|     M|       WT|     00107|            10|\n",
      "| 184.0|2016|    4|         103|      WAS| 2016-04-01| 2016-04-09|        PA|     M|       WB|     00093|            11|\n",
      "| 206.0|2016|    4|         103|      NYC| 2016-04-01| 2016-04-09|        CO|     M|       WT|     00009|            12|\n",
      "| 232.0|2016|    4|         103|      NYC| 2016-04-01| 2016-04-07|        NY|     F|       WT|     00087|            13|\n",
      "| 234.0|2016|    4|         103|      NYC| 2016-04-01| 2016-04-07|        NY|     F|       WT|     00087|            14|\n",
      "| 235.0|2016|    4|         103|      NYC| 2016-04-01| 2016-04-07|        NY|     F|       WT|     00087|            15|\n",
      "| 249.0|2016|    4|         103|      NYC| 2016-04-01| 2016-04-08|        NY|     M|       WT|     00065|            16|\n",
      "| 253.0|2016|    4|         103|      NYC| 2016-04-01| 2016-04-09|        NY|     F|       WT|     00087|            17|\n",
      "| 255.0|2016|    4|         103|      NYC| 2016-04-01| 2016-04-09|        NY|     F|       WT|     00105|            18|\n",
      "| 271.0|2016|    4|         103|      NYC| 2016-04-01| 2016-04-16|        NY|     F|       WT|     00410|            19|\n",
      "+------+----+-----+------------+---------+-----------+-----------+----------+------+---------+----------+--------------+\n",
      "only showing top 20 rows\n",
      "\n"
     ]
    }
   ],
   "source": [
    "fact_immigration_df.show()"
   ]
  },
  {
   "cell_type": "code",
   "execution_count": 255,
   "metadata": {},
   "outputs": [],
   "source": [
    "# write parquet \n",
    "fact_immigration_df.write.parquet(\"./fact_immigration\",mode=\"overwrite\")"
   ]
  },
  {
   "cell_type": "markdown",
   "metadata": {},
   "source": [
    "### Create Data model: Dimension-airline-table"
   ]
  },
  {
   "cell_type": "code",
   "execution_count": 256,
   "metadata": {},
   "outputs": [
    {
     "data": {
      "text/plain": [
       "DataFrame[cicid: double, i94yr: double, i94mon: double, i94cit: double, i94res: double, i94port: string, arrdate: double, i94mode: double, i94addr: string, depdate: double, i94bir: double, i94visa: double, count: double, dtadfile: string, entdepa: string, entdepd: string, entdepu: string, matflag: string, biryear: double, dtaddto: string, gender: string, airline: string, admnum: double, fltno: string, visatype: string]"
      ]
     },
     "execution_count": 256,
     "metadata": {},
     "output_type": "execute_result"
    }
   ],
   "source": [
    "immigration_df"
   ]
  },
  {
   "cell_type": "code",
   "execution_count": 257,
   "metadata": {},
   "outputs": [
    {
     "name": "stdout",
     "output_type": "stream",
     "text": [
      "+-----+------+------+------+------+-------+-------+-------+-------+-------+------+-------+-----+--------+-------+-------+-------+-------+-------+--------+------+-------+---------------+-----+--------+\n",
      "|cicid| i94yr|i94mon|i94cit|i94res|i94port|arrdate|i94mode|i94addr|depdate|i94bir|i94visa|count|dtadfile|entdepa|entdepd|entdepu|matflag|biryear| dtaddto|gender|airline|         admnum|fltno|visatype|\n",
      "+-----+------+------+------+------+-------+-------+-------+-------+-------+------+-------+-----+--------+-------+-------+-------+-------+-------+--------+------+-------+---------------+-----+--------+\n",
      "|  7.0|2016.0|   4.0| 254.0| 276.0|    ATL|20551.0|    1.0|     AL|   null|  25.0|    3.0|  1.0|20130811|      G|   null|      Y|   null| 1991.0|     D/S|     M|   null|   3.73679633E9|00296|      F1|\n",
      "| 67.0|2016.0|   4.0| 103.0| 103.0|    ATL|20545.0|    1.0|     AL|20580.0|  64.0|    2.0|  1.0|20160401|      O|      O|   null|      M| 1952.0|06292016|  null|     DL|5.5435153733E10|00131|      WT|\n",
      "| 69.0|2016.0|   4.0| 103.0| 103.0|    ATL|20545.0|    1.0|     FL|20560.0|  27.0|    2.0|  1.0|20160401|      O|      O|   null|      M| 1989.0|06292016|  null|     DL|5.5431877533E10|00131|      WT|\n",
      "+-----+------+------+------+------+-------+-------+-------+-------+-------+------+-------+-----+--------+-------+-------+-------+-------+-------+--------+------+-------+---------------+-----+--------+\n",
      "only showing top 3 rows\n",
      "\n"
     ]
    }
   ],
   "source": [
    "immigration_df.show(3)"
   ]
  },
  {
   "cell_type": "code",
   "execution_count": 258,
   "metadata": {},
   "outputs": [],
   "source": [
    "# create airline_df \n",
    "target_cols = ['cicid','airline','admnum','fltno','visatype']\n",
    "\n",
    "dim_airline_df = immigration_df.select(target_cols)\\\n",
    "    .filter(immigration_df.airline.isNotNull())\\\n",
    "    .filter(immigration_df.fltno.isNotNull())\\\n",
    "    .withColumn('immi_airline_id',monotonically_increasing_id())"
   ]
  },
  {
   "cell_type": "code",
   "execution_count": 259,
   "metadata": {},
   "outputs": [],
   "source": [
    "# rename columns \n",
    "new_cols = ['cic_id','airline','admission_num','flight_num','visa_type']\n",
    "\n",
    "dim_immi_airline = rename_columns(dim_airline_df, new_cols)"
   ]
  },
  {
   "cell_type": "code",
   "execution_count": 260,
   "metadata": {},
   "outputs": [
    {
     "name": "stdout",
     "output_type": "stream",
     "text": [
      "+------+-------+---------------+----------+---------+---------------+\n",
      "|cic_id|airline|  admission_num|flight_num|visa_type|immi_airline_id|\n",
      "+------+-------+---------------+----------+---------+---------------+\n",
      "|  67.0|     DL|5.5435153733E10|     00131|       WT|              0|\n",
      "|  69.0|     DL|5.5431877533E10|     00131|       WT|              1|\n",
      "|  70.0|     DL|5.5445916233E10|     00075|       WT|              2|\n",
      "+------+-------+---------------+----------+---------+---------------+\n",
      "only showing top 3 rows\n",
      "\n"
     ]
    }
   ],
   "source": [
    "#checking \n",
    "dim_immi_airline.show(3)"
   ]
  },
  {
   "cell_type": "code",
   "execution_count": 261,
   "metadata": {},
   "outputs": [
    {
     "data": {
      "text/plain": [
       "DataFrame[cic_id: double, airline: string, admission_num: double, flight_num: string, visa_type: string, immi_airline_id: bigint]"
      ]
     },
     "execution_count": 261,
     "metadata": {},
     "output_type": "execute_result"
    }
   ],
   "source": [
    "dim_immi_airline"
   ]
  },
  {
   "cell_type": "code",
   "execution_count": 262,
   "metadata": {},
   "outputs": [],
   "source": [
    "# write dim_immi_airline table as parquet \n",
    "dim_immi_airline.write.parquet(\"./dim_immi_airline\",mode='overwrite')"
   ]
  },
  {
   "cell_type": "code",
   "execution_count": null,
   "metadata": {},
   "outputs": [],
   "source": []
  },
  {
   "cell_type": "markdown",
   "metadata": {},
   "source": [
    "- - -"
   ]
  },
  {
   "cell_type": "markdown",
   "metadata": {},
   "source": [
    "### Create Data model: dimension-demography-table"
   ]
  },
  {
   "cell_type": "code",
   "execution_count": 84,
   "metadata": {
    "scrolled": true
   },
   "outputs": [
    {
     "data": {
      "text/plain": [
       "DataFrame[City: string, State: string, Median Age: string, Male Population: string, Female Population: string, Total Population: string, Number of Veterans: string, Foreign-born: string, Average Household Size: string, State Code: string, Race: string, Count: string]"
      ]
     },
     "execution_count": 84,
     "metadata": {},
     "output_type": "execute_result"
    }
   ],
   "source": [
    "demog_df"
   ]
  },
  {
   "cell_type": "code",
   "execution_count": 85,
   "metadata": {},
   "outputs": [
    {
     "data": {
      "text/plain": [
       "['City',\n",
       " 'State',\n",
       " 'Median Age',\n",
       " 'Male Population',\n",
       " 'Female Population',\n",
       " 'Total Population',\n",
       " 'Number of Veterans',\n",
       " 'Foreign-born',\n",
       " 'Average Household Size',\n",
       " 'State Code',\n",
       " 'Race',\n",
       " 'Count']"
      ]
     },
     "execution_count": 85,
     "metadata": {},
     "output_type": "execute_result"
    }
   ],
   "source": [
    "demog_df.columns"
   ]
  },
  {
   "cell_type": "code",
   "execution_count": 86,
   "metadata": {},
   "outputs": [],
   "source": [
    "# rename columns\n",
    "new_cols = ['city','state','median_age','male','female','total','veteran','foreign_born','avg_house_size','state_code','race','count']\n",
    "\n",
    "dim_demog_df= rename_columns(demog_df,new_cols)\n",
    "\n",
    "# add id pk column \n",
    "dim_demog_df = dim_demog_df.withColumn('demog_id',monotonically_increasing_id())"
   ]
  },
  {
   "cell_type": "code",
   "execution_count": 87,
   "metadata": {},
   "outputs": [],
   "source": [
    "int_cols = ['male', 'female', 'total',\n",
    "                'veteran', 'foreign_born', 'count']\n",
    "float_cols = ['median_age','avg_house_size']\n"
   ]
  },
  {
   "cell_type": "code",
   "execution_count": 88,
   "metadata": {},
   "outputs": [],
   "source": [
    "def convert_to_target_type(df, cols,target_type=\"\"):\n",
    "    \"\"\"\n",
    "    Convert the column to datatype you want \n",
    "    Args:\n",
    "        df : Spark dataframe to be processed.\n",
    "        cols : List of column names that should be converted to datatype\n",
    "        tartget_type : target type to convert to \n",
    "    Returns:\n",
    "        df : Processed Spark dataframe\n",
    "    \"\"\"\n",
    "\n",
    "    for col in [col for col in cols if col in df.columns]:\n",
    "        df = df.withColumn(col, df[col].cast(target_type))\n",
    "    return df"
   ]
  },
  {
   "cell_type": "code",
   "execution_count": 89,
   "metadata": {},
   "outputs": [],
   "source": [
    "dim_demog_df = convert_to_target_type(dim_demog_df, int_cols, \"integer\")\n",
    "dim_demog_df = convert_to_target_type(dim_demog_df, float_cols, \"float\")"
   ]
  },
  {
   "cell_type": "code",
   "execution_count": 91,
   "metadata": {},
   "outputs": [],
   "source": [
    "# convert to uppercase \n",
    "dim_demog_df = dim_demog_df.withColumn('city',upper(F.col('city')))\\\n",
    "    .withColumn('state',upper(F.col('state')))"
   ]
  },
  {
   "cell_type": "code",
   "execution_count": 92,
   "metadata": {},
   "outputs": [
    {
     "data": {
      "text/plain": [
       "DataFrame[city: string, state: string, median_age: float, male: int, female: int, total: int, veteran: int, foreign_born: int, avg_house_size: float, state_code: string, race: string, count: int, demog_id: bigint]"
      ]
     },
     "execution_count": 92,
     "metadata": {},
     "output_type": "execute_result"
    }
   ],
   "source": [
    "dim_demog_df"
   ]
  },
  {
   "cell_type": "code",
   "execution_count": 93,
   "metadata": {},
   "outputs": [
    {
     "name": "stdout",
     "output_type": "stream",
     "text": [
      "+-------+-----+----------+-----+------+------+-------+------------+--------------+----------+--------------------+-----+--------+\n",
      "|   city|state|median_age| male|female| total|veteran|foreign_born|avg_house_size|state_code|                race|count|demog_id|\n",
      "+-------+-----+----------+-----+------+------+-------+------------+--------------+----------+--------------------+-----+--------+\n",
      "|ABILENE|TEXAS|      31.3|65212| 60664|125876|   9367|        8129|          2.64|        TX|American Indian a...| 1813|       0|\n",
      "|ABILENE|TEXAS|      31.3|65212| 60664|125876|   9367|        8129|          2.64|        TX|               Asian| 2929|       1|\n",
      "|ABILENE|TEXAS|      31.3|65212| 60664|125876|   9367|        8129|          2.64|        TX|Black or African-...|14449|       2|\n",
      "+-------+-----+----------+-----+------+------+-------+------------+--------------+----------+--------------------+-----+--------+\n",
      "only showing top 3 rows\n",
      "\n"
     ]
    }
   ],
   "source": [
    "dim_demog_df.show(3)"
   ]
  },
  {
   "cell_type": "code",
   "execution_count": 94,
   "metadata": {},
   "outputs": [],
   "source": [
    "# write dim_demog table as parquet \n",
    "dim_demog_df.write.parquet(\"./dim_demog\",mode='overwrite')"
   ]
  },
  {
   "cell_type": "code",
   "execution_count": null,
   "metadata": {},
   "outputs": [],
   "source": []
  },
  {
   "cell_type": "code",
   "execution_count": null,
   "metadata": {},
   "outputs": [],
   "source": []
  },
  {
   "cell_type": "code",
   "execution_count": null,
   "metadata": {},
   "outputs": [],
   "source": []
  },
  {
   "cell_type": "markdown",
   "metadata": {},
   "source": [
    "### Create Data model: Dimension-temperature-table"
   ]
  },
  {
   "cell_type": "code",
   "execution_count": 95,
   "metadata": {},
   "outputs": [
    {
     "name": "stdout",
     "output_type": "stream",
     "text": [
      "+----------+------------------+-----------------------------+----------+-------------+--------+---------+\n",
      "|        dt|AverageTemperature|AverageTemperatureUncertainty|      City|      Country|Latitude|Longitude|\n",
      "+----------+------------------+-----------------------------+----------+-------------+--------+---------+\n",
      "|1743-11-01|             5.339|                        1.828|Alexandria|United States|  39.38N|   76.99W|\n",
      "|1743-11-01|             7.648|                        1.749|    Amiens|       France|  49.03N|    2.45E|\n",
      "|1743-11-01|             3.544|                        1.764|     Basel|  Switzerland|  47.42N|    8.29E|\n",
      "+----------+------------------+-----------------------------+----------+-------------+--------+---------+\n",
      "only showing top 3 rows\n",
      "\n"
     ]
    }
   ],
   "source": [
    "temp_df.show(3)"
   ]
  },
  {
   "cell_type": "code",
   "execution_count": 96,
   "metadata": {},
   "outputs": [],
   "source": [
    "# filter by only United States \n",
    "temp_df_usa = temp_df.filter(temp_df.Country == 'United States')"
   ]
  },
  {
   "cell_type": "code",
   "execution_count": 97,
   "metadata": {},
   "outputs": [
    {
     "data": {
      "text/plain": [
       "DataFrame[dt: string, AverageTemperature: string, AverageTemperatureUncertainty: string, City: string, Country: string, Latitude: string, Longitude: string]"
      ]
     },
     "execution_count": 97,
     "metadata": {},
     "output_type": "execute_result"
    }
   ],
   "source": [
    "temp_df_usa"
   ]
  },
  {
   "cell_type": "code",
   "execution_count": 98,
   "metadata": {},
   "outputs": [],
   "source": [
    "# rename columns \n",
    "new_cols = ['dt','avg_temp','avg_temp_uncer','city','country','lat','long']\n",
    "\n",
    "temp_df_usa= rename_columns(temp_df_usa,new_cols)"
   ]
  },
  {
   "cell_type": "code",
   "execution_count": 99,
   "metadata": {},
   "outputs": [],
   "source": [
    "# convert dt to date_time\n",
    "temp_df_usa = temp_df_usa.withColumn(\"dt\",to_date(F.col(\"dt\"),'yyyy-MM-dd'))\n",
    "\n"
   ]
  },
  {
   "cell_type": "code",
   "execution_count": 100,
   "metadata": {},
   "outputs": [],
   "source": [
    "# convert it to float\n",
    "float_cols = [\"avg_temp\",\"avg_temp_uncer\"]\n",
    "\n",
    "temp_df_usa = convert_to_target_type(temp_df_usa, float_cols, \"float\")"
   ]
  },
  {
   "cell_type": "code",
   "execution_count": 101,
   "metadata": {},
   "outputs": [],
   "source": [
    "# get year, month columns \n",
    "temp_df_usa = temp_df_usa.withColumn(\"year\",year(F.col(\"dt\")))\n",
    "temp_df_usa = temp_df_usa.withColumn(\"month\",month(F.col(\"dt\")))\n",
    "\n",
    "# convert uppercase \n",
    "temp_df_usa = temp_df_usa.withColumn('city',upper(F.col('city')))\n",
    "\n",
    "\n",
    "# add id column \n",
    "temp_df_usa = temp_df_usa.withColumn('temp_id',monotonically_increasing_id())"
   ]
  },
  {
   "cell_type": "code",
   "execution_count": 102,
   "metadata": {},
   "outputs": [],
   "source": [
    "# drop dt \n",
    "dim_temp = temp_df_usa.drop('dt')"
   ]
  },
  {
   "cell_type": "code",
   "execution_count": 103,
   "metadata": {},
   "outputs": [
    {
     "name": "stdout",
     "output_type": "stream",
     "text": [
      "+--------+--------------+----------+-------------+------+------+----+-----+-------+\n",
      "|avg_temp|avg_temp_uncer|      city|      country|   lat|  long|year|month|temp_id|\n",
      "+--------+--------------+----------+-------------+------+------+----+-----+-------+\n",
      "|   5.339|         1.828|ALEXANDRIA|United States|39.38N|76.99W|1743|   11|      0|\n",
      "|   1.188|         1.531|    BOSTON|United States|42.59N|72.00W|1743|   11|      1|\n",
      "|   1.688|         1.834|   BUFFALO|United States|42.59N|78.55W|1743|   11|      2|\n",
      "+--------+--------------+----------+-------------+------+------+----+-----+-------+\n",
      "only showing top 3 rows\n",
      "\n"
     ]
    }
   ],
   "source": [
    "dim_temp.show(3)"
   ]
  },
  {
   "cell_type": "code",
   "execution_count": 104,
   "metadata": {},
   "outputs": [
    {
     "name": "stdout",
     "output_type": "stream",
     "text": [
      "+--------+--------------+----+-------+---+----+----+-----+-------+\n",
      "|avg_temp|avg_temp_uncer|city|country|lat|long|year|month|temp_id|\n",
      "+--------+--------------+----+-------+---+----+----+-----+-------+\n",
      "+--------+--------------+----+-------+---+----+----+-----+-------+\n",
      "\n"
     ]
    }
   ],
   "source": [
    "# checking 2016 \n",
    "dim_temp.filter(temp_df_usa.year == 2016).show()\n"
   ]
  },
  {
   "cell_type": "code",
   "execution_count": 105,
   "metadata": {},
   "outputs": [
    {
     "data": {
      "text/plain": [
       "DataFrame[avg_temp: float, avg_temp_uncer: float, city: string, country: string, lat: string, long: string, year: int, month: int, temp_id: bigint]"
      ]
     },
     "execution_count": 105,
     "metadata": {},
     "output_type": "execute_result"
    }
   ],
   "source": [
    "dim_temp"
   ]
  },
  {
   "cell_type": "code",
   "execution_count": 106,
   "metadata": {},
   "outputs": [],
   "source": [
    "# write temperature data frame \n",
    "dim_temp.write.parquet(\"./dim_temp\",mode=\"overwrite\")"
   ]
  },
  {
   "cell_type": "markdown",
   "metadata": {},
   "source": [
    "_ _ _"
   ]
  },
  {
   "cell_type": "markdown",
   "metadata": {},
   "source": [
    "### Create Data model: Dimension-country-code"
   ]
  },
  {
   "cell_type": "code",
   "execution_count": 107,
   "metadata": {},
   "outputs": [
    {
     "data": {
      "text/html": [
       "<div>\n",
       "<style scoped>\n",
       "    .dataframe tbody tr th:only-of-type {\n",
       "        vertical-align: middle;\n",
       "    }\n",
       "\n",
       "    .dataframe tbody tr th {\n",
       "        vertical-align: top;\n",
       "    }\n",
       "\n",
       "    .dataframe thead th {\n",
       "        text-align: right;\n",
       "    }\n",
       "</style>\n",
       "<table border=\"1\" class=\"dataframe\">\n",
       "  <thead>\n",
       "    <tr style=\"text-align: right;\">\n",
       "      <th></th>\n",
       "      <th>code</th>\n",
       "      <th>country</th>\n",
       "    </tr>\n",
       "  </thead>\n",
       "  <tbody>\n",
       "    <tr>\n",
       "      <th>0</th>\n",
       "      <td>582</td>\n",
       "      <td>MEXICO Air Sea, and Not Reported (I-94, no lan...</td>\n",
       "    </tr>\n",
       "    <tr>\n",
       "      <th>1</th>\n",
       "      <td>236</td>\n",
       "      <td>AFGHANISTAN</td>\n",
       "    </tr>\n",
       "    <tr>\n",
       "      <th>2</th>\n",
       "      <td>101</td>\n",
       "      <td>ALBANIA</td>\n",
       "    </tr>\n",
       "    <tr>\n",
       "      <th>3</th>\n",
       "      <td>316</td>\n",
       "      <td>ALGERIA</td>\n",
       "    </tr>\n",
       "    <tr>\n",
       "      <th>4</th>\n",
       "      <td>102</td>\n",
       "      <td>ANDORRA</td>\n",
       "    </tr>\n",
       "    <tr>\n",
       "      <th>...</th>\n",
       "      <td>...</td>\n",
       "      <td>...</td>\n",
       "    </tr>\n",
       "    <tr>\n",
       "      <th>284</th>\n",
       "      <td>791</td>\n",
       "      <td>No Country Code (791)</td>\n",
       "    </tr>\n",
       "    <tr>\n",
       "      <th>285</th>\n",
       "      <td>849</td>\n",
       "      <td>No Country Code (849)</td>\n",
       "    </tr>\n",
       "    <tr>\n",
       "      <th>286</th>\n",
       "      <td>914</td>\n",
       "      <td>No Country Code (914)</td>\n",
       "    </tr>\n",
       "    <tr>\n",
       "      <th>287</th>\n",
       "      <td>944</td>\n",
       "      <td>No Country Code (944)</td>\n",
       "    </tr>\n",
       "    <tr>\n",
       "      <th>288</th>\n",
       "      <td>996</td>\n",
       "      <td>No Country Code (996)</td>\n",
       "    </tr>\n",
       "  </tbody>\n",
       "</table>\n",
       "<p>289 rows × 2 columns</p>\n",
       "</div>"
      ],
      "text/plain": [
       "    code                                            country\n",
       "0    582  MEXICO Air Sea, and Not Reported (I-94, no lan...\n",
       "1    236                                        AFGHANISTAN\n",
       "2    101                                            ALBANIA\n",
       "3    316                                            ALGERIA\n",
       "4    102                                            ANDORRA\n",
       "..   ...                                                ...\n",
       "284  791                              No Country Code (791)\n",
       "285  849                              No Country Code (849)\n",
       "286  914                              No Country Code (914)\n",
       "287  944                              No Country Code (944)\n",
       "288  996                              No Country Code (996)\n",
       "\n",
       "[289 rows x 2 columns]"
      ]
     },
     "execution_count": 107,
     "metadata": {},
     "output_type": "execute_result"
    }
   ],
   "source": [
    "df_country_code"
   ]
  },
  {
   "cell_type": "code",
   "execution_count": 108,
   "metadata": {},
   "outputs": [
    {
     "name": "stdout",
     "output_type": "stream",
     "text": [
      "<class 'pandas.core.frame.DataFrame'>\n",
      "RangeIndex: 289 entries, 0 to 288\n",
      "Data columns (total 2 columns):\n",
      " #   Column   Non-Null Count  Dtype \n",
      "---  ------   --------------  ----- \n",
      " 0   code     289 non-null    object\n",
      " 1   country  289 non-null    object\n",
      "dtypes: object(2)\n",
      "memory usage: 4.6+ KB\n"
     ]
    }
   ],
   "source": [
    "df_country_code.info()"
   ]
  },
  {
   "cell_type": "code",
   "execution_count": 109,
   "metadata": {},
   "outputs": [],
   "source": [
    "# convert code column's dtype into int \n",
    "df_country_code['code'] = df_country_code['code'].astype('int')"
   ]
  },
  {
   "cell_type": "code",
   "execution_count": 110,
   "metadata": {},
   "outputs": [
    {
     "name": "stdout",
     "output_type": "stream",
     "text": [
      "<class 'pandas.core.frame.DataFrame'>\n",
      "RangeIndex: 289 entries, 0 to 288\n",
      "Data columns (total 2 columns):\n",
      " #   Column   Non-Null Count  Dtype \n",
      "---  ------   --------------  ----- \n",
      " 0   code     289 non-null    int32 \n",
      " 1   country  289 non-null    object\n",
      "dtypes: int32(1), object(1)\n",
      "memory usage: 3.5+ KB\n"
     ]
    }
   ],
   "source": [
    "df_country_code.info()"
   ]
  },
  {
   "cell_type": "code",
   "execution_count": 111,
   "metadata": {},
   "outputs": [
    {
     "data": {
      "text/plain": [
       "code       289\n",
       "country    289\n",
       "dtype: int64"
      ]
     },
     "execution_count": 111,
     "metadata": {},
     "output_type": "execute_result"
    }
   ],
   "source": [
    "df_country_code.count()"
   ]
  },
  {
   "cell_type": "code",
   "execution_count": 112,
   "metadata": {
    "scrolled": true
   },
   "outputs": [],
   "source": [
    "# save country_code table as parquet \n",
    "df_country_code.to_csv(\"./dim_country\")"
   ]
  },
  {
   "cell_type": "code",
   "execution_count": null,
   "metadata": {},
   "outputs": [],
   "source": []
  },
  {
   "cell_type": "markdown",
   "metadata": {},
   "source": [
    "_ __"
   ]
  },
  {
   "cell_type": "markdown",
   "metadata": {},
   "source": [
    "### Create Data model: dimension- citycode Table"
   ]
  },
  {
   "cell_type": "code",
   "execution_count": 113,
   "metadata": {},
   "outputs": [
    {
     "data": {
      "text/html": [
       "<div>\n",
       "<style scoped>\n",
       "    .dataframe tbody tr th:only-of-type {\n",
       "        vertical-align: middle;\n",
       "    }\n",
       "\n",
       "    .dataframe tbody tr th {\n",
       "        vertical-align: top;\n",
       "    }\n",
       "\n",
       "    .dataframe thead th {\n",
       "        text-align: right;\n",
       "    }\n",
       "</style>\n",
       "<table border=\"1\" class=\"dataframe\">\n",
       "  <thead>\n",
       "    <tr style=\"text-align: right;\">\n",
       "      <th></th>\n",
       "      <th>code</th>\n",
       "      <th>city</th>\n",
       "    </tr>\n",
       "  </thead>\n",
       "  <tbody>\n",
       "    <tr>\n",
       "      <th>0</th>\n",
       "      <td>ALC</td>\n",
       "      <td>ALCAN, AK</td>\n",
       "    </tr>\n",
       "    <tr>\n",
       "      <th>1</th>\n",
       "      <td>ANC</td>\n",
       "      <td>ANCHORAGE, AK</td>\n",
       "    </tr>\n",
       "    <tr>\n",
       "      <th>2</th>\n",
       "      <td>BAR</td>\n",
       "      <td>BAKER AAF - BAKER ISLAND, AK</td>\n",
       "    </tr>\n",
       "    <tr>\n",
       "      <th>3</th>\n",
       "      <td>DAC</td>\n",
       "      <td>DALTONS CACHE, AK</td>\n",
       "    </tr>\n",
       "    <tr>\n",
       "      <th>4</th>\n",
       "      <td>PIZ</td>\n",
       "      <td>DEW STATION PT LAY DEW, AK</td>\n",
       "    </tr>\n",
       "  </tbody>\n",
       "</table>\n",
       "</div>"
      ],
      "text/plain": [
       "  code                          city\n",
       "0  ALC                     ALCAN, AK\n",
       "1  ANC                 ANCHORAGE, AK\n",
       "2  BAR  BAKER AAF - BAKER ISLAND, AK\n",
       "3  DAC             DALTONS CACHE, AK\n",
       "4  PIZ    DEW STATION PT LAY DEW, AK"
      ]
     },
     "execution_count": 113,
     "metadata": {},
     "output_type": "execute_result"
    }
   ],
   "source": [
    "df_city_code.head()"
   ]
  },
  {
   "cell_type": "code",
   "execution_count": 114,
   "metadata": {},
   "outputs": [
    {
     "data": {
      "text/plain": [
       "code    660\n",
       "city    660\n",
       "dtype: int64"
      ]
     },
     "execution_count": 114,
     "metadata": {},
     "output_type": "execute_result"
    }
   ],
   "source": [
    "df_city_code.count()"
   ]
  },
  {
   "cell_type": "code",
   "execution_count": 115,
   "metadata": {},
   "outputs": [],
   "source": [
    "# transform city column \n",
    "df_city_code['city'] = df_city_code['city'].apply(lambda x: x.split(',')[0])"
   ]
  },
  {
   "cell_type": "code",
   "execution_count": 116,
   "metadata": {},
   "outputs": [
    {
     "data": {
      "text/html": [
       "<div>\n",
       "<style scoped>\n",
       "    .dataframe tbody tr th:only-of-type {\n",
       "        vertical-align: middle;\n",
       "    }\n",
       "\n",
       "    .dataframe tbody tr th {\n",
       "        vertical-align: top;\n",
       "    }\n",
       "\n",
       "    .dataframe thead th {\n",
       "        text-align: right;\n",
       "    }\n",
       "</style>\n",
       "<table border=\"1\" class=\"dataframe\">\n",
       "  <thead>\n",
       "    <tr style=\"text-align: right;\">\n",
       "      <th></th>\n",
       "      <th>code</th>\n",
       "      <th>city</th>\n",
       "    </tr>\n",
       "  </thead>\n",
       "  <tbody>\n",
       "    <tr>\n",
       "      <th>0</th>\n",
       "      <td>ALC</td>\n",
       "      <td>ALCAN</td>\n",
       "    </tr>\n",
       "    <tr>\n",
       "      <th>1</th>\n",
       "      <td>ANC</td>\n",
       "      <td>ANCHORAGE</td>\n",
       "    </tr>\n",
       "    <tr>\n",
       "      <th>2</th>\n",
       "      <td>BAR</td>\n",
       "      <td>BAKER AAF - BAKER ISLAND</td>\n",
       "    </tr>\n",
       "    <tr>\n",
       "      <th>3</th>\n",
       "      <td>DAC</td>\n",
       "      <td>DALTONS CACHE</td>\n",
       "    </tr>\n",
       "    <tr>\n",
       "      <th>4</th>\n",
       "      <td>PIZ</td>\n",
       "      <td>DEW STATION PT LAY DEW</td>\n",
       "    </tr>\n",
       "  </tbody>\n",
       "</table>\n",
       "</div>"
      ],
      "text/plain": [
       "  code                      city\n",
       "0  ALC                     ALCAN\n",
       "1  ANC                 ANCHORAGE\n",
       "2  BAR  BAKER AAF - BAKER ISLAND\n",
       "3  DAC             DALTONS CACHE\n",
       "4  PIZ    DEW STATION PT LAY DEW"
      ]
     },
     "execution_count": 116,
     "metadata": {},
     "output_type": "execute_result"
    }
   ],
   "source": [
    "df_city_code.head()"
   ]
  },
  {
   "cell_type": "code",
   "execution_count": 121,
   "metadata": {},
   "outputs": [
    {
     "name": "stdout",
     "output_type": "stream",
     "text": [
      "<class 'pandas.core.frame.DataFrame'>\n",
      "RangeIndex: 660 entries, 0 to 659\n",
      "Data columns (total 2 columns):\n",
      " #   Column  Non-Null Count  Dtype \n",
      "---  ------  --------------  ----- \n",
      " 0   code    660 non-null    object\n",
      " 1   city    660 non-null    object\n",
      "dtypes: object(2)\n",
      "memory usage: 10.4+ KB\n"
     ]
    }
   ],
   "source": [
    "df_city_code.info()"
   ]
  },
  {
   "cell_type": "code",
   "execution_count": 122,
   "metadata": {},
   "outputs": [],
   "source": [
    "# write as csv \n",
    "df_city_code.to_csv(\"./dim_city\")"
   ]
  },
  {
   "cell_type": "markdown",
   "metadata": {},
   "source": [
    "### Create Data model: Dimension - State Table"
   ]
  },
  {
   "cell_type": "code",
   "execution_count": 123,
   "metadata": {},
   "outputs": [
    {
     "data": {
      "text/plain": [
       "(  code       state\n",
       " 0   AL     ALABAMA\n",
       " 1   AK      ALASKA\n",
       " 2   AZ     ARIZONA\n",
       " 3   AR    ARKANSAS\n",
       " 4   CA  CALIFORNIA,\n",
       " code     55\n",
       " state    55\n",
       " dtype: int64)"
      ]
     },
     "execution_count": 123,
     "metadata": {},
     "output_type": "execute_result"
    }
   ],
   "source": [
    "df_state_code.head(), df_state_code.count()"
   ]
  },
  {
   "cell_type": "code",
   "execution_count": 124,
   "metadata": {},
   "outputs": [
    {
     "name": "stdout",
     "output_type": "stream",
     "text": [
      "<class 'pandas.core.frame.DataFrame'>\n",
      "RangeIndex: 55 entries, 0 to 54\n",
      "Data columns (total 2 columns):\n",
      " #   Column  Non-Null Count  Dtype \n",
      "---  ------  --------------  ----- \n",
      " 0   code    55 non-null     object\n",
      " 1   state   55 non-null     object\n",
      "dtypes: object(2)\n",
      "memory usage: 1008.0+ bytes\n"
     ]
    }
   ],
   "source": [
    "df_state_code.info()"
   ]
  },
  {
   "cell_type": "code",
   "execution_count": 128,
   "metadata": {},
   "outputs": [],
   "source": [
    "# write as csv \n",
    "df_state_code.to_csv(\"./dim_state\")"
   ]
  },
  {
   "cell_type": "markdown",
   "metadata": {},
   "source": [
    "___"
   ]
  },
  {
   "cell_type": "markdown",
   "metadata": {},
   "source": [
    "### Create Data model: Dimension - Visa Table"
   ]
  },
  {
   "cell_type": "code",
   "execution_count": 276,
   "metadata": {},
   "outputs": [
    {
     "data": {
      "text/plain": [
       "DataFrame[cicid: double, i94yr: double, i94mon: double, i94cit: double, i94res: double, i94port: string, arrdate: double, i94mode: double, i94addr: string, depdate: double, i94bir: double, i94visa: double, count: double, dtadfile: string, entdepa: string, entdepd: string, entdepu: string, matflag: string, biryear: double, dtaddto: string, gender: string, airline: string, admnum: double, fltno: string, visatype: string]"
      ]
     },
     "execution_count": 276,
     "metadata": {},
     "output_type": "execute_result"
    }
   ],
   "source": [
    "# checking immigration dataset to get columns related to visa\n",
    "immigration_df"
   ]
  },
  {
   "cell_type": "code",
   "execution_count": 277,
   "metadata": {},
   "outputs": [
    {
     "name": "stdout",
     "output_type": "stream",
     "text": [
      "+--------+-------+\n",
      "|visatype|i94visa|\n",
      "+--------+-------+\n",
      "|      CP|    2.0|\n",
      "|     CPL|    2.0|\n",
      "|     SBP|    2.0|\n",
      "|      B1|    1.0|\n",
      "|       I|    1.0|\n",
      "|      F2|    3.0|\n",
      "|      E1|    1.0|\n",
      "|      M2|    3.0|\n",
      "|      WB|    1.0|\n",
      "|      WT|    2.0|\n",
      "|      E2|    1.0|\n",
      "|      M1|    3.0|\n",
      "|      B2|    2.0|\n",
      "|      I1|    1.0|\n",
      "|      F1|    3.0|\n",
      "|     GMT|    2.0|\n",
      "+--------+-------+\n",
      "\n"
     ]
    }
   ],
   "source": [
    "# create visatype df from visatype column \n",
    "df_visatype = immigration_df.select(['visatype','i94visa']).distinct()\n",
    "df_visatype.show()"
   ]
  },
  {
   "cell_type": "code",
   "execution_count": 278,
   "metadata": {},
   "outputs": [],
   "source": [
    "# get_visa_type2\n",
    "def get_visa_group(visa):\n",
    "    \"\"\"\n",
    "        change i94visa to visa group\n",
    "    \"\"\"\n",
    "    visatype2 = ''\n",
    "    if visa == 1.0:\n",
    "        visatype2= 'Business'\n",
    "    elif visa == 2.0:\n",
    "        visatype2 = 'Pleasure'\n",
    "    elif visa == 3.0:\n",
    "        visatype2 = \"Student\"\n",
    "    return visatype2"
   ]
  },
  {
   "cell_type": "code",
   "execution_count": 279,
   "metadata": {},
   "outputs": [],
   "source": [
    "# set udf to create visagroup function\n",
    "get_visa_group_udf = udf(lambda x:get_visa_group(x))"
   ]
  },
  {
   "cell_type": "code",
   "execution_count": 280,
   "metadata": {},
   "outputs": [],
   "source": [
    "# create visa_group on visatype dataframe \n",
    "df_visatype = df_visatype.withColumn('visa_group',get_visa_group_udf('i94visa'))\n",
    "# rename on visatype to visa_type \n",
    "df_visatype = df_visatype.withColumnRenamed(\"visatype\",\"visa_type\")\\\n",
    "    .withColumnRenamed(\"i94visa\",\"visa_code\")\n",
    "\n",
    "# add an id to visatype\n",
    "df_visatype = df_visatype.withColumn(\"visa_type_key\",monotonically_increasing_id())"
   ]
  },
  {
   "cell_type": "code",
   "execution_count": 281,
   "metadata": {},
   "outputs": [
    {
     "name": "stdout",
     "output_type": "stream",
     "text": [
      "+---------+---------+----------+-------------+\n",
      "|visa_type|visa_code|visa_group|visa_type_key|\n",
      "+---------+---------+----------+-------------+\n",
      "|       CP|      2.0|  Pleasure|            0|\n",
      "|      CPL|      2.0|  Pleasure|            1|\n",
      "|      SBP|      2.0|  Pleasure|            2|\n",
      "|       B1|      1.0|  Business|            3|\n",
      "|        I|      1.0|  Business|            4|\n",
      "|       F2|      3.0|   Student|            5|\n",
      "|       E1|      1.0|  Business|            6|\n",
      "|       M2|      3.0|   Student|            7|\n",
      "|       WB|      1.0|  Business|            8|\n",
      "|       WT|      2.0|  Pleasure|            9|\n",
      "|       E2|      1.0|  Business|           10|\n",
      "|       M1|      3.0|   Student|           11|\n",
      "|       B2|      2.0|  Pleasure|           12|\n",
      "|       I1|      1.0|  Business|           13|\n",
      "|       F1|      3.0|   Student|           14|\n",
      "|      GMT|      2.0|  Pleasure|           15|\n",
      "+---------+---------+----------+-------------+\n",
      "\n"
     ]
    }
   ],
   "source": [
    "df_visatype.show()"
   ]
  },
  {
   "cell_type": "code",
   "execution_count": 282,
   "metadata": {},
   "outputs": [
    {
     "data": {
      "text/plain": [
       "DataFrame[visa_type: string, visa_code: double, visa_group: string, visa_type_key: bigint]"
      ]
     },
     "execution_count": 282,
     "metadata": {},
     "output_type": "execute_result"
    }
   ],
   "source": [
    "df_visatype"
   ]
  },
  {
   "cell_type": "code",
   "execution_count": 114,
   "metadata": {},
   "outputs": [],
   "source": [
    "# save visatype dataframe as dim_visa\n",
    "df_visatype.write.parquet(\"./dim_visa\",mode='overwrite')"
   ]
  },
  {
   "cell_type": "code",
   "execution_count": null,
   "metadata": {},
   "outputs": [],
   "source": []
  },
  {
   "cell_type": "markdown",
   "metadata": {},
   "source": [
    "_ _ _"
   ]
  },
  {
   "cell_type": "markdown",
   "metadata": {},
   "source": [
    "___"
   ]
  },
  {
   "cell_type": "markdown",
   "metadata": {},
   "source": [
    "#### 4.2 Data Quality Checks\n",
    "Explain the data quality checks you'll perform to ensure the pipeline ran as expected. These could include:\n",
    " * Integrity constraints on the relational database (e.g., unique key, data type, etc.)\n",
    " * Unit tests for the scripts to ensure they are doing the right thing\n",
    " * Source/Count checks to ensure completeness\n",
    " \n",
    "Run Quality Checks"
   ]
  },
  {
   "cell_type": "markdown",
   "metadata": {},
   "source": [
    "- Data Quality Checks:\n",
    "    1. Data schema of every dimensional table matchs data model \n",
    "    2. No empty table after running ETL data pipeline"
   ]
  },
  {
   "cell_type": "code",
   "execution_count": 263,
   "metadata": {},
   "outputs": [],
   "source": [
    "def count_check(df, table_name):\n",
    "    \"\"\"\n",
    "    check count of dataframe corresponed to table_name\n",
    "        \n",
    "        df: spark dataframe to check counts\n",
    "        table_name: selected table name\n",
    "    \"\"\"\n",
    "    total_count = df.count()\n",
    "    \n",
    "    if total_count == 0:\n",
    "        print(f\"Data quality check failed for {table_name} with zero records!\")\n",
    "    else:\n",
    "        print(f\"Data quality check passed for {table_name} with {total_count:,} records.\")"
   ]
  },
  {
   "cell_type": "code",
   "execution_count": 264,
   "metadata": {},
   "outputs": [],
   "source": [
    "def null_check(df, table_name):\n",
    "    \"\"\"\n",
    "    check Null value number on dataframe\n",
    "        df:spark dataframe to check null values count\n",
    "        table_name: selected table \n",
    "    \"\"\"\n",
    "    # for loop each column \n",
    "    null_total = 0\n",
    "    for column in df.columns:\n",
    "        # null_count reset\n",
    "        null_count = df.filter(F.col(column).isNull()).count()\n",
    "        null_total += null_count\n",
    "        \n",
    "        if null_count != 0:\n",
    "            print(f\"Null check failed for {column} column with {null_count} null values\")\n",
    "    \n",
    "    if null_total == 0:\n",
    "        print(f\"Null check passed for {table_name}s with zero null values\")\n",
    "    else:\n",
    "        print(f\"Null check failed for {table_name}\")\n",
    "    "
   ]
  },
  {
   "cell_type": "code",
   "execution_count": 265,
   "metadata": {},
   "outputs": [
    {
     "name": "stdout",
     "output_type": "stream",
     "text": [
      "Data quality check passed for fact_immigration with 1,744,005 records.\n",
      "Null check passed for fact_immigrations with zero null values\n",
      "Data quality check passed for dim_airline with 2,199,957 records.\n",
      "Null check passed for dim_airlines with zero null values\n",
      "Data quality check passed for dim_demography with 2,875 records.\n",
      "Null check passed for dim_demographys with zero null values\n",
      "Data quality check passed for dim_temperature with 639,649 records.\n",
      "Null check passed for dim_temperatures with zero null values\n",
      "Data quality check passed for dim_visatype with 16 records.\n",
      "Null check passed for dim_visatypes with zero null values\n"
     ]
    }
   ],
   "source": [
    "# run quality_check function \n",
    "table_dict = {\n",
    "    'fact_immigration': fact_immigration_df,\n",
    "    'dim_airline': dim_immi_airline,\n",
    "    'dim_demography':dim_demog_df,\n",
    "    'dim_temperature':dim_temp,\n",
    "    'dim_visatype':df_visatype\n",
    "}\n",
    "\n",
    "for table_name, table_df in table_dict.items():\n",
    "    count_check(table_df,table_name)\n",
    "    null_check(table_df, table_name)"
   ]
  },
  {
   "cell_type": "code",
   "execution_count": null,
   "metadata": {},
   "outputs": [],
   "source": []
  },
  {
   "cell_type": "code",
   "execution_count": 267,
   "metadata": {},
   "outputs": [],
   "source": [
    "# Perform quality checks here\n",
    "def label_quality_checks(df, table_name):\n",
    "    \"\"\"\n",
    "    Check count of dataframe correspond to table\n",
    "    \n",
    "        df: pandas dataframe to check counts on\n",
    "        table_name: corresponding name of table\n",
    "    \"\"\"\n",
    "    total_count = df.count()[0]\n",
    "    \n",
    "    if total_count == 0:\n",
    "        print(f\"Data quality check failed for {table_name} with zero records!\")\n",
    "    else:\n",
    "        print(f\"Data quality check passed for {table_name} with {total_count} records.\")\n",
    "    return 0"
   ]
  },
  {
   "cell_type": "code",
   "execution_count": 268,
   "metadata": {},
   "outputs": [],
   "source": [
    "# null value check on pandas df \n",
    "def null_check_pd(df, table_name):\n",
    "    \"\"\"\n",
    "    Check null value number of pandas dataframe \n",
    "    \n",
    "        df: pandas dataframe\n",
    "        tabel_name: table name\n",
    "    \"\"\"\n",
    "    null_count = df.isnull().sum().sum()\n",
    "    \n",
    "    if null_count == 0:\n",
    "        print(f\"Null check passed for {table_name}\")\n",
    "    else:\n",
    "        print(f\"Null check failed for {table_name} with {null_count} records.\")"
   ]
  },
  {
   "cell_type": "code",
   "execution_count": 269,
   "metadata": {},
   "outputs": [
    {
     "name": "stdout",
     "output_type": "stream",
     "text": [
      "Data quality check passed for dim_country with 289 records.\n",
      "Null check passed for dim_country\n",
      "Data quality check passed for dim_city with 660 records.\n",
      "Null check passed for dim_city\n",
      "Data quality check passed for dim_state with 55 records.\n",
      "Null check passed for dim_state\n"
     ]
    }
   ],
   "source": [
    "# run quality_check function \n",
    "label_dict = {\n",
    "    'dim_country': df_country_code, \n",
    "    'dim_city': df_city_code, \n",
    "    'dim_state': df_state_code\n",
    "}\n",
    "\n",
    "for table_name, table_df in label_dict.items():\n",
    "    label_quality_checks(table_df,table_name)\n",
    "    null_check_pd(table_df, table_name)"
   ]
  },
  {
   "cell_type": "code",
   "execution_count": 298,
   "metadata": {},
   "outputs": [],
   "source": [
    "df_country = spark.createDataFrame(df_country_code)\n",
    "df_state = spark.createDataFrame(df_state_code)\n",
    "df_city = spark.createDataFrame(df_city_code)"
   ]
  },
  {
   "cell_type": "code",
   "execution_count": 317,
   "metadata": {},
   "outputs": [],
   "source": [
    "# integrity_check \n",
    "def fact_integrity_check():\n",
    "    \"\"\"\n",
    "    Integrity check foreign key between fact table and dimension table\n",
    "\n",
    "    \"\"\"\n",
    "    # fact-immi + dim_immi_airline\n",
    "    count = fact_immigration_df.select(col('cic_id')).distinct()\\\n",
    "        .join(dim_immi_airline, fact_immigration_df.cic_id == dim_immi_airline.cic_id, \"left_anti\").count()\n",
    "    # fact_immi + dim_visa\n",
    "    count += fact_immigration_df.select(col('visa_type')).distinct()\\\n",
    "        .join(df_visatype, fact_immigration_df.visa_type == df_visatype.visa_type, \"left_anti\").count()\n",
    "    # fact_immi + dim_country\n",
    "    count += fact_immigration_df.select(col('country_code')).distinct()\\\n",
    "        .join(df_country, fact_immigration_df.country_code == df_country.code, \"left_anti\").count()\n",
    "#     # fact_immi + dim_state\n",
    "#     count += fact_immigration_df.select(col('state_code')).distinct()\\\n",
    "#         .join(df_state, fact_immigration_df.state_code == df_state.code, \"left_anti\").count()\n",
    "    # fact_immi+ dim_city \n",
    "    count += fact_immigration_df.select(col('city_code')).distinct()\\\n",
    "        .join(df_city, fact_immigration_df.city_code == df_city.code, \"left_anti\").count()\n",
    "    \n",
    "    if count == 0:\n",
    "        print(\"Integrity Check Passed!\")\n",
    "    else:\n",
    "        print(\"Integrity Check Failed!\")"
   ]
  },
  {
   "cell_type": "code",
   "execution_count": 318,
   "metadata": {},
   "outputs": [
    {
     "name": "stdout",
     "output_type": "stream",
     "text": [
      "Integrity Check Passed!\n"
     ]
    }
   ],
   "source": [
    "fact_integrity_check()"
   ]
  },
  {
   "cell_type": "markdown",
   "metadata": {},
   "source": [
    "### 4.3 Data Dictionary"
   ]
  },
  {
   "cell_type": "markdown",
   "metadata": {},
   "source": [
    "#### Fact-immigration\n",
    "\n",
    "- `immigration_id` = primary key of immigration table \n",
    "- `cic_id` = unique record id \n",
    "- `year` = 4 digit year \n",
    "- `month` = digit month \n",
    "- `country_code` = country code of residence \n",
    "- `city_code` = arrival city code \n",
    "- `arrive_date` = arrival date in the USA \n",
    "- `depart_date` = departure date from the USA \n",
    "- `state_code` = arrival state code of USA \n",
    "- `gender` = gender \n",
    "- `visa_type` = class of visa admission\n",
    "- `flight_num` = flight number"
   ]
  },
  {
   "cell_type": "markdown",
   "metadata": {},
   "source": [
    "#### Dimension-demography Table\n",
    "\n",
    "- `demog_id` = primary key of table\n",
    "- `city` = City Name \n",
    "- `State` = US state \n",
    "- `median_age` = Median age of the population \n",
    "- `male` = Count of male population \n",
    "- `female` = count of female population \n",
    "- `total` = Count of total population\n",
    "- `veteran` = Count of total veterans \n",
    "- `foreign_born` = Count of residents of the city that were not born in the city \n",
    "- `avg_house_size` = Average city household size \n",
    "- `state_code` = Code of the US state \n",
    "- `race` = Respondent race \n",
    "- `count` = Count of city's individual per race"
   ]
  },
  {
   "cell_type": "markdown",
   "metadata": {},
   "source": [
    "#### Dimension-Temperature Table\n",
    "- `temp_id` = primary key of temperature table \n",
    "- `avg_temp` = average temperature \n",
    "- `avg_temp_uncer` = average temperature of uncertainty\n",
    "- `city` = city name \n",
    "- `country` = country name \n",
    "- `lat` = latitude \n",
    "- `long`= longitude \n",
    "- `year` = digit year \n",
    "- ` month` = digit month"
   ]
  },
  {
   "cell_type": "markdown",
   "metadata": {},
   "source": [
    "#### Dimension-Airline Table\n",
    "- `immi_airline_id` = primary key of AIrline Table \n",
    "- `cic_id` = unique record of immigration dataset \n",
    "- `airline` = the code of airline \n",
    "- `admission_num` = addmission number of immigration \n",
    "- `flight_num` = flight number"
   ]
  },
  {
   "cell_type": "markdown",
   "metadata": {},
   "source": [
    "#### Dimension-Visa Table\n",
    "\n",
    "- `visa_type_key` = primary key of visa table \n",
    "- `visa_type` = code of visa type \n",
    "- `visa_code` = numeric code of reason of immigration to USA\n",
    "- `visa_group` = reason of immigration"
   ]
  },
  {
   "cell_type": "markdown",
   "metadata": {},
   "source": [
    "#### Dimension-country Table \n",
    "- `code` = global country code \n",
    "- `country` = country name\n",
    "#### Dimension-state table \n",
    "- `code` = state code of U.S\n",
    "- `state` = state name \n",
    "#### Dimension-city table \n",
    "- `code` = city code of U.S\n",
    "- `city` = city name of U.S"
   ]
  },
  {
   "cell_type": "code",
   "execution_count": null,
   "metadata": {},
   "outputs": [],
   "source": []
  },
  {
   "cell_type": "code",
   "execution_count": null,
   "metadata": {},
   "outputs": [],
   "source": []
  },
  {
   "cell_type": "markdown",
   "metadata": {},
   "source": [
    "## Step 5: Complete Project Write Up\n"
   ]
  },
  {
   "cell_type": "markdown",
   "metadata": {},
   "source": [
    "### Tools and Technologies \n",
    "1. AWS S3 Bucket for Data Lake and Data warehouse \n",
    "    - AWS s3 is built to store, protect and retrieve data from buckets anytime from anywhere on any device.\n",
    "    - its scalability, durability,accessbility, security and AWS S3 is Cost-Effective Storage.\n",
    "    - For cost-effective, Instead of Redshift, I choose additional AWS s3 as data warehouse.\n",
    "2. Pandas for exploratory data analysis on small dataset \n",
    "    - In insufficient memory usage, Pandas has low performance and long runtime, Then Pandas is good for small dataset, not for Big data\n",
    "3. PySpark for data processing to transform staging table to fact-dimension table on larget dataset\n",
    "    - Spark allows fast large-scale data processing, because of in-memory caching and optimized query execution."
   ]
  },
  {
   "cell_type": "markdown",
   "metadata": {},
   "source": [
    "### Data Update Frequency \n",
    "1. I94 Immigration dataset and Temperature dataset is updated monthly, then dimension tables on data warehouse, data lake should be updated monthly "
   ]
  },
  {
   "cell_type": "markdown",
   "metadata": {},
   "source": [
    "### Future Desing Considerations\n",
    "1. IF the data was increased by 100x:\n",
    "    - If Spark with standalone server mode can not process 100x dataset, we could consider to use \n",
    "        AWS EMR cluster with increasing number of node on AWS EMR cluster.\n",
    "2. IF The data populates a dashboard that must be updated on a daily basis by 7am every day:\n",
    "    - To automate data processing, we could consider to build up ETL data pipeline to scheduling the task.\n",
    "3. IF  the database needed to be accessed by 100+ people:\n",
    "    - We could consider to put the database on Aws Redshift as Data Warehouse."
   ]
  },
  {
   "cell_type": "markdown",
   "metadata": {},
   "source": [
    "## Answer to  the questions:\n",
    "\n",
    "* For a given city and state, how many immigrants enter from which countries?\n",
    "* Which visa is most used for immigration ? and which state is where these visa most used?\n",
    "* which city is where foreign-born citizens live ? and Is there any relation between immigration and foreign-born citizens?"
   ]
  },
  {
   "cell_type": "markdown",
   "metadata": {},
   "source": [
    "#### 1. how many immigrants enter from which countries?"
   ]
  },
  {
   "cell_type": "code",
   "execution_count": 119,
   "metadata": {},
   "outputs": [
    {
     "name": "stdout",
     "output_type": "stream",
     "text": [
      "+------+----+-----+------------+---------+-----------+-----------+----------+------+---------+----------+--------------+\n",
      "|cic_id|year|month|country_code|city_code|arrive_date|depart_date|state_code|gender|visa_type|flight_num|immigration_id|\n",
      "+------+----+-----+------------+---------+-----------+-----------+----------+------+---------+----------+--------------+\n",
      "|   7.0|2016|    4|         276|      ATL| 2016-04-07|       null|        AL|     M|       F1|     00296|             0|\n",
      "|  67.0|2016|    4|         103|      ATL| 2016-04-01| 2016-05-06|        AL|  null|       WT|     00131|             1|\n",
      "|  69.0|2016|    4|         103|      ATL| 2016-04-01| 2016-04-16|        FL|  null|       WT|     00131|             2|\n",
      "|  70.0|2016|    4|         103|      ATL| 2016-04-01| 2016-04-23|        FL|  null|       WT|     00075|             3|\n",
      "| 108.0|2016|    4|         103|      DET| 2016-04-01| 2016-04-12|        MI|     M|       WT|     00442|             4|\n",
      "+------+----+-----+------------+---------+-----------+-----------+----------+------+---------+----------+--------------+\n",
      "only showing top 5 rows\n",
      "\n"
     ]
    }
   ],
   "source": [
    "fact_immigration_df.show(5)"
   ]
  },
  {
   "cell_type": "code",
   "execution_count": 295,
   "metadata": {},
   "outputs": [],
   "source": [
    "df_country = spark.createDataFrame(df_country_code)\n",
    "df_state = spark.createDataFrame(df_state_code)\n",
    "df_city = spark.createDataFrame(df_city_code)"
   ]
  },
  {
   "cell_type": "code",
   "execution_count": 121,
   "metadata": {
    "scrolled": true
   },
   "outputs": [
    {
     "data": {
      "text/plain": [
       "DataFrame[code: bigint, country: string]"
      ]
     },
     "execution_count": 121,
     "metadata": {},
     "output_type": "execute_result"
    }
   ],
   "source": [
    "df_country"
   ]
  },
  {
   "cell_type": "code",
   "execution_count": 122,
   "metadata": {},
   "outputs": [],
   "source": [
    "# top 10 residential countries of immigrant \n",
    "country_count_df = fact_immigration_df.select('immigration_id','country_code','state_code','city_code').join(df_country, fact_immigration_df.country_code == df_country.code, how='left')\\\n",
    "    .drop('code')\\\n",
    "    .join(df_state, fact_immigration_df.state_code == df_state.code, how='left')\\\n",
    "    .drop('code')\\\n",
    "    .join(df_city, fact_immigration_df.city_code == df_city.code, how='left')\\\n",
    "    .drop('code')"
   ]
  },
  {
   "cell_type": "code",
   "execution_count": 123,
   "metadata": {},
   "outputs": [
    {
     "name": "stdout",
     "output_type": "stream",
     "text": [
      "+--------------+------------+----------+---------+-------+----------+----------------+\n",
      "|immigration_id|country_code|state_code|city_code|country|     state|            city|\n",
      "+--------------+------------+----------+---------+-------+----------+----------------+\n",
      "|             1|         103|        AL|      ATL|AUSTRIA|   ALABAMA|         ATLANTA|\n",
      "|             2|         103|        FL|      ATL|AUSTRIA|   FLORIDA|         ATLANTA|\n",
      "|             3|         103|        FL|      ATL|AUSTRIA|   FLORIDA|         ATLANTA|\n",
      "|             4|         103|        MI|      DET|AUSTRIA|  MICHIGAN|         DETROIT|\n",
      "|             5|         103|        NJ|      NEW|AUSTRIA|NEW JERSEY|NEWARK/TETERBORO|\n",
      "+--------------+------------+----------+---------+-------+----------+----------------+\n",
      "only showing top 5 rows\n",
      "\n"
     ]
    }
   ],
   "source": [
    "country_count_df.show(5)"
   ]
  },
  {
   "cell_type": "code",
   "execution_count": 124,
   "metadata": {},
   "outputs": [],
   "source": [
    "# visualization function \n",
    "def plot_count(df, x=''):\n",
    "    \n",
    "    count_df = df.groupby(x).count().orderBy('count', ascending=False).dropna().limit(10).toPandas()\n",
    "    \n",
    "    plt.figure(figsize=(15,6))\n",
    "    plt.xlabel('count')\n",
    "    plt.ylabel(x)\n",
    "    plt.title('top 10 {} of immigration'.format(x))\n",
    "    \n",
    "    plt.barh(count_df[x], count_df['count'])\n",
    "    plt.gca().invert_yaxis()\n",
    "    "
   ]
  },
  {
   "cell_type": "code",
   "execution_count": 125,
   "metadata": {},
   "outputs": [
    {
     "data": {
      "image/png": "[encoded data removed]",
      "text/plain": [
       "<Figure size 1080x432 with 1 Axes>"
      ]
     },
     "metadata": {
      "needs_background": "light"
     },
     "output_type": "display_data"
    },
    {
     "data": {
      "image/png": "[encoded data removed]",
      "text/plain": [
       "<Figure size 1080x432 with 1 Axes>"
      ]
     },
     "metadata": {
      "needs_background": "light"
     },
     "output_type": "display_data"
    },
    {
     "data": {
      "image/png": "[encoded data removed]",
      "text/plain": [
       "<Figure size 1080x432 with 1 Axes>"
      ]
     },
     "metadata": {
      "needs_background": "light"
     },
     "output_type": "display_data"
    }
   ],
   "source": [
    "# visualize top 10 residence countries , state, city of immigration\n",
    "label_list = ['country','state','city']\n",
    "\n",
    "for label in label_list:\n",
    "    plot_count(country_count_df, x=label)"
   ]
  },
  {
   "cell_type": "code",
   "execution_count": 126,
   "metadata": {},
   "outputs": [
    {
     "name": "stdout",
     "output_type": "stream",
     "text": [
      "+--------------------+----------+-----+\n",
      "|             country|     state|count|\n",
      "+--------------------+----------+-----+\n",
      "|      UNITED KINGDOM|   FLORIDA|81088|\n",
      "|               JAPAN|    HAWAII|69331|\n",
      "|              FRANCE|  NEW YORK|67530|\n",
      "|      UNITED KINGDOM|  NEW YORK|57874|\n",
      "|              BRAZIL|   FLORIDA|50870|\n",
      "|          CHINA, PRC|CALIFORNIA|39059|\n",
      "|           ARGENTINA|   FLORIDA|33472|\n",
      "|      UNITED KINGDOM|CALIFORNIA|31732|\n",
      "|           AUSTRALIA|CALIFORNIA|27301|\n",
      "|MEXICO Air Sea, a...|CALIFORNIA|25143|\n",
      "|              FRANCE|CALIFORNIA|24810|\n",
      "|             GERMANY|   FLORIDA|23741|\n",
      "|           VENEZUELA|   FLORIDA|22724|\n",
      "|            COLOMBIA|   FLORIDA|21401|\n",
      "|             GERMANY|  NEW YORK|21331|\n",
      "|MEXICO Air Sea, a...|     TEXAS|21023|\n",
      "|MEXICO Air Sea, a...|   FLORIDA|20723|\n",
      "|              FRANCE|   FLORIDA|20213|\n",
      "|      UNITED KINGDOM|    NEVADA|19829|\n",
      "|               ITALY|  NEW YORK|19222|\n",
      "+--------------------+----------+-----+\n",
      "only showing top 20 rows\n",
      "\n"
     ]
    }
   ],
   "source": [
    "# major destination state of immigrant and its residential country\n",
    "country_count_df.groupby('country','state').count().orderBy('count',ascending=False).show(20)"
   ]
  },
  {
   "cell_type": "code",
   "execution_count": 127,
   "metadata": {},
   "outputs": [
    {
     "name": "stdout",
     "output_type": "stream",
     "text": [
      "+--------------------+----------------+-----+\n",
      "|             country|            city|count|\n",
      "+--------------------+----------------+-----+\n",
      "|               JAPAN|        HONOLULU|53000|\n",
      "|      UNITED KINGDOM|        NEW YORK|52747|\n",
      "|              FRANCE|        NEW YORK|50896|\n",
      "|      UNITED KINGDOM|         ORLANDO|43658|\n",
      "|           AUSTRALIA|     LOS ANGELES|34967|\n",
      "|              BRAZIL|           MIAMI|30084|\n",
      "|           ARGENTINA|           MIAMI|29259|\n",
      "|      UNITED KINGDOM|       LAS VEGAS|21203|\n",
      "|          CHINA, PRC|     LOS ANGELES|20845|\n",
      "|               ITALY|        NEW YORK|19590|\n",
      "|      UNITED KINGDOM|     LOS ANGELES|18648|\n",
      "|      UNITED KINGDOM|NEWARK/TETERBORO|17472|\n",
      "|MEXICO Air Sea, a...|     LOS ANGELES|17293|\n",
      "|           VENEZUELA|           MIAMI|16694|\n",
      "|             GERMANY|        NEW YORK|16686|\n",
      "|      UNITED KINGDOM|           MIAMI|16354|\n",
      "|              FRANCE|     LOS ANGELES|15818|\n",
      "|              BRAZIL|         ORLANDO|15533|\n",
      "|              FRANCE|           MIAMI|15294|\n",
      "|MEXICO Air Sea, a...|         HOUSTON|15035|\n",
      "+--------------------+----------------+-----+\n",
      "only showing top 20 rows\n",
      "\n"
     ]
    }
   ],
   "source": [
    "# major destination city of immgrant and its residential country\n",
    "country_count_df.groupby('country','city').count().orderBy('count',ascending=False).show(20)"
   ]
  },
  {
   "cell_type": "markdown",
   "metadata": {},
   "source": [
    "##### 2. Which visa is most used for immigration ? and which state is where these visa most used?"
   ]
  },
  {
   "cell_type": "code",
   "execution_count": 131,
   "metadata": {},
   "outputs": [],
   "source": [
    "df_visatype=df_visatype.withColumnRenamed('visa_type','type')\n",
    "\n",
    "visa_state_df = fact_immigration_df.select('visa_type','state_code','city_code')\\\n",
    "    .join(df_state, fact_immigration_df.state_code == df_state.code, how='left')\\\n",
    "    .join(df_visatype.select('type','visa_group'), fact_immigration_df.visa_type == df_visatype.type, how='left')\\\n",
    "    .filter(df_state.state.isNotNull()).drop('type')"
   ]
  },
  {
   "cell_type": "code",
   "execution_count": 132,
   "metadata": {},
   "outputs": [
    {
     "name": "stdout",
     "output_type": "stream",
     "text": [
      "+---------+----------+---------+----+-------+----------+\n",
      "|visa_type|state_code|city_code|code|  state|visa_group|\n",
      "+---------+----------+---------+----+-------+----------+\n",
      "|       B2|        AL|      HOU|  AL|ALABAMA|  Pleasure|\n",
      "|       B2|        AL|      ATL|  AL|ALABAMA|  Pleasure|\n",
      "|       B2|        AL|      MIA|  AL|ALABAMA|  Pleasure|\n",
      "|       WB|        AL|      ATL|  AL|ALABAMA|  Business|\n",
      "|       B2|        AL|      DET|  AL|ALABAMA|  Pleasure|\n",
      "+---------+----------+---------+----+-------+----------+\n",
      "only showing top 5 rows\n",
      "\n"
     ]
    }
   ],
   "source": [
    "visa_state_df.show(5)"
   ]
  },
  {
   "cell_type": "code",
   "execution_count": 133,
   "metadata": {},
   "outputs": [
    {
     "data": {
      "image/png": "[encoded data removed]",
      "text/plain": [
       "<Figure size 1080x432 with 1 Axes>"
      ]
     },
     "metadata": {
      "needs_background": "light"
     },
     "output_type": "display_data"
    }
   ],
   "source": [
    "# visualizae \n",
    "plot_count(visa_state_df, x='visa_type')"
   ]
  },
  {
   "cell_type": "code",
   "execution_count": 134,
   "metadata": {},
   "outputs": [
    {
     "data": {
      "image/png": "[encoded data removed]",
      "text/plain": [
       "<Figure size 1080x432 with 1 Axes>"
      ]
     },
     "metadata": {
      "needs_background": "light"
     },
     "output_type": "display_data"
    }
   ],
   "source": [
    "plot_count(visa_state_df, x='visa_group')"
   ]
  },
  {
   "cell_type": "code",
   "execution_count": 135,
   "metadata": {},
   "outputs": [
    {
     "name": "stdout",
     "output_type": "stream",
     "text": [
      "+----------+-------------+------+\n",
      "|visa_group|        state| count|\n",
      "+----------+-------------+------+\n",
      "|  Pleasure|      FLORIDA|434698|\n",
      "|  Pleasure|     NEW YORK|361085|\n",
      "|  Pleasure|   CALIFORNIA|272547|\n",
      "|  Pleasure|       HAWAII|117062|\n",
      "|  Business|   CALIFORNIA| 71052|\n",
      "|  Pleasure|       NEVADA| 68240|\n",
      "|  Pleasure|        TEXAS| 66409|\n",
      "|  Business|     NEW YORK| 48105|\n",
      "|  Pleasure|   NEW JERSEY| 43826|\n",
      "|  Pleasure|     ILLINOIS| 37547|\n",
      "|  Business|      FLORIDA| 37477|\n",
      "|  Pleasure|MASSACHUSETTS| 33994|\n",
      "|  Business|        TEXAS| 28552|\n",
      "|  Business|     ILLINOIS| 22629|\n",
      "|  Pleasure|      GEORGIA| 22199|\n",
      "|  Business|       NEVADA| 19220|\n",
      "|  Pleasure|   WASHINGTON| 19085|\n",
      "|  Pleasure|     VIRGINIA| 17105|\n",
      "|  Pleasure|     NEBRASKA| 16461|\n",
      "|  Business|MASSACHUSETTS| 15259|\n",
      "+----------+-------------+------+\n",
      "only showing top 20 rows\n",
      "\n"
     ]
    }
   ],
   "source": [
    "# popular state and its visa_group \n",
    "visa_state_df.groupby('visa_group','state').count().orderBy('count',ascending=False).show(20)"
   ]
  },
  {
   "cell_type": "code",
   "execution_count": 136,
   "metadata": {},
   "outputs": [
    {
     "data": {
      "image/png": "[encoded data removed]",
      "text/plain": [
       "<Figure size 1080x720 with 1 Axes>"
      ]
     },
     "metadata": {
      "needs_background": "light"
     },
     "output_type": "display_data"
    },
    {
     "data": {
      "image/png": "[encoded data removed]",
      "text/plain": [
       "<Figure size 1080x720 with 1 Axes>"
      ]
     },
     "metadata": {
      "needs_background": "light"
     },
     "output_type": "display_data"
    },
    {
     "data": {
      "image/png": "[encoded data removed]",
      "text/plain": [
       "<Figure size 1080x720 with 1 Axes>"
      ]
     },
     "metadata": {
      "needs_background": "light"
     },
     "output_type": "display_data"
    }
   ],
   "source": [
    "# visualize popular state by visa_group\n",
    "\n",
    "label_list = df_visatype.select('visa_group').distinct().toPandas()['visa_group'].tolist()\n",
    "\n",
    "for label in label_list:\n",
    "    label_df = visa_state_df.where(visa_state_df.visa_group == label)\\\n",
    "        .groupby('state').count().orderBy('count',ascending=False).limit(10).toPandas()\n",
    "    \n",
    "    plt.figure(figsize=(15,10))\n",
    "\n",
    "    plt.xlabel('count')\n",
    "    plt.ylabel('state')\n",
    "    plt.title('top 10 state where {} type visa used'.format(label))\n",
    "    \n",
    "    plt.barh(label_df['state'], label_df['count'])\n",
    "    plt.gca().invert_yaxis()"
   ]
  },
  {
   "cell_type": "markdown",
   "metadata": {},
   "source": [
    "##### 3. which city is where foreign-born citizens live ? and Is there any relation between immigration and foreign-born citizens?"
   ]
  },
  {
   "cell_type": "code",
   "execution_count": 137,
   "metadata": {},
   "outputs": [
    {
     "name": "stdout",
     "output_type": "stream",
     "text": [
      "+-------+-----+----------+-----+------+------+-------+------------+--------------+----------+--------------------+-----+--------+\n",
      "|   city|state|median_age| male|female| total|veteran|foreign_born|avg_house_size|state_code|                race|count|demog_id|\n",
      "+-------+-----+----------+-----+------+------+-------+------------+--------------+----------+--------------------+-----+--------+\n",
      "|ABILENE|TEXAS|      31.3|65212| 60664|125876|   9367|        8129|          2.64|        TX|American Indian a...| 1813|       0|\n",
      "|ABILENE|TEXAS|      31.3|65212| 60664|125876|   9367|        8129|          2.64|        TX|               Asian| 2929|       1|\n",
      "|ABILENE|TEXAS|      31.3|65212| 60664|125876|   9367|        8129|          2.64|        TX|Black or African-...|14449|       2|\n",
      "|ABILENE|TEXAS|      31.3|65212| 60664|125876|   9367|        8129|          2.64|        TX|  Hispanic or Latino|33222|       3|\n",
      "|ABILENE|TEXAS|      31.3|65212| 60664|125876|   9367|        8129|          2.64|        TX|               White|95487|       4|\n",
      "+-------+-----+----------+-----+------+------+-------+------------+--------------+----------+--------------------+-----+--------+\n",
      "only showing top 5 rows\n",
      "\n"
     ]
    }
   ],
   "source": [
    "dim_demog_df.show(5)"
   ]
  },
  {
   "cell_type": "code",
   "execution_count": 138,
   "metadata": {},
   "outputs": [
    {
     "name": "stdout",
     "output_type": "stream",
     "text": [
      "+------+----+-----+------------+---------+-----------+-----------+----------+------+---------+----------+--------------+\n",
      "|cic_id|year|month|country_code|city_code|arrive_date|depart_date|state_code|gender|visa_type|flight_num|immigration_id|\n",
      "+------+----+-----+------------+---------+-----------+-----------+----------+------+---------+----------+--------------+\n",
      "|   7.0|2016|    4|         276|      ATL| 2016-04-07|       null|        AL|     M|       F1|     00296|             0|\n",
      "|  67.0|2016|    4|         103|      ATL| 2016-04-01| 2016-05-06|        AL|  null|       WT|     00131|             1|\n",
      "|  69.0|2016|    4|         103|      ATL| 2016-04-01| 2016-04-16|        FL|  null|       WT|     00131|             2|\n",
      "|  70.0|2016|    4|         103|      ATL| 2016-04-01| 2016-04-23|        FL|  null|       WT|     00075|             3|\n",
      "| 108.0|2016|    4|         103|      DET| 2016-04-01| 2016-04-12|        MI|     M|       WT|     00442|             4|\n",
      "+------+----+-----+------------+---------+-----------+-----------+----------+------+---------+----------+--------------+\n",
      "only showing top 5 rows\n",
      "\n"
     ]
    }
   ],
   "source": [
    "fact_immigration_df.show(5)"
   ]
  },
  {
   "cell_type": "code",
   "execution_count": 139,
   "metadata": {},
   "outputs": [
    {
     "data": {
      "text/html": [
       "<div>\n",
       "<style scoped>\n",
       "    .dataframe tbody tr th:only-of-type {\n",
       "        vertical-align: middle;\n",
       "    }\n",
       "\n",
       "    .dataframe tbody tr th {\n",
       "        vertical-align: top;\n",
       "    }\n",
       "\n",
       "    .dataframe thead th {\n",
       "        text-align: right;\n",
       "    }\n",
       "</style>\n",
       "<table border=\"1\" class=\"dataframe\">\n",
       "  <thead>\n",
       "    <tr style=\"text-align: right;\">\n",
       "      <th></th>\n",
       "      <th>code</th>\n",
       "      <th>city</th>\n",
       "    </tr>\n",
       "  </thead>\n",
       "  <tbody>\n",
       "    <tr>\n",
       "      <th>0</th>\n",
       "      <td>ALC</td>\n",
       "      <td>ALCAN</td>\n",
       "    </tr>\n",
       "    <tr>\n",
       "      <th>1</th>\n",
       "      <td>ANC</td>\n",
       "      <td>ANCHORAGE</td>\n",
       "    </tr>\n",
       "    <tr>\n",
       "      <th>2</th>\n",
       "      <td>BAR</td>\n",
       "      <td>BAKER AAF - BAKER ISLAND</td>\n",
       "    </tr>\n",
       "    <tr>\n",
       "      <th>3</th>\n",
       "      <td>DAC</td>\n",
       "      <td>DALTONS CACHE</td>\n",
       "    </tr>\n",
       "    <tr>\n",
       "      <th>4</th>\n",
       "      <td>PIZ</td>\n",
       "      <td>DEW STATION PT LAY DEW</td>\n",
       "    </tr>\n",
       "    <tr>\n",
       "      <th>...</th>\n",
       "      <td>...</td>\n",
       "      <td>...</td>\n",
       "    </tr>\n",
       "    <tr>\n",
       "      <th>655</th>\n",
       "      <td>ADU</td>\n",
       "      <td>No PORT Code (ADU)</td>\n",
       "    </tr>\n",
       "    <tr>\n",
       "      <th>656</th>\n",
       "      <td>AKT</td>\n",
       "      <td>No PORT Code (AKT)</td>\n",
       "    </tr>\n",
       "    <tr>\n",
       "      <th>657</th>\n",
       "      <td>LIT</td>\n",
       "      <td>No PORT Code (LIT)</td>\n",
       "    </tr>\n",
       "    <tr>\n",
       "      <th>658</th>\n",
       "      <td>A2A</td>\n",
       "      <td>No PORT Code (A2A)</td>\n",
       "    </tr>\n",
       "    <tr>\n",
       "      <th>659</th>\n",
       "      <td>OSN</td>\n",
       "      <td>No PORT Code (OSN)</td>\n",
       "    </tr>\n",
       "  </tbody>\n",
       "</table>\n",
       "<p>660 rows × 2 columns</p>\n",
       "</div>"
      ],
      "text/plain": [
       "    code                      city\n",
       "0    ALC                     ALCAN\n",
       "1    ANC                 ANCHORAGE\n",
       "2    BAR  BAKER AAF - BAKER ISLAND\n",
       "3    DAC             DALTONS CACHE\n",
       "4    PIZ    DEW STATION PT LAY DEW\n",
       "..   ...                       ...\n",
       "655  ADU        No PORT Code (ADU)\n",
       "656  AKT        No PORT Code (AKT)\n",
       "657  LIT        No PORT Code (LIT)\n",
       "658  A2A        No PORT Code (A2A)\n",
       "659  OSN        No PORT Code (OSN)\n",
       "\n",
       "[660 rows x 2 columns]"
      ]
     },
     "execution_count": 139,
     "metadata": {},
     "output_type": "execute_result"
    }
   ],
   "source": [
    "df_city_code"
   ]
  },
  {
   "cell_type": "code",
   "execution_count": 140,
   "metadata": {},
   "outputs": [],
   "source": [
    "df_city = spark.createDataFrame(df_city_code)"
   ]
  },
  {
   "cell_type": "code",
   "execution_count": 141,
   "metadata": {},
   "outputs": [],
   "source": [
    "foreign_immi_df = fact_immigration_df.select('immigration_id','city_code')\\\n",
    "    .join(df_city, fact_immigration_df.city_code == df_city.code, how='left')\\\n",
    "    .withColumnRenamed('city','city_name')\n",
    "\n",
    "foreign_immi_df = foreign_immi_df.select('immigration_id','city_code','city_name')\\\n",
    "    .join(dim_demog_df, foreign_immi_df.city_name == dim_demog_df.city, how='left')"
   ]
  },
  {
   "cell_type": "code",
   "execution_count": 142,
   "metadata": {},
   "outputs": [
    {
     "name": "stdout",
     "output_type": "stream",
     "text": [
      "+--------------+---------+---------+-------+--------+----------+------+------+------+-------+------------+--------------+----------+--------------------+------+--------+\n",
      "|immigration_id|city_code|city_name|   city|   state|median_age|  male|female| total|veteran|foreign_born|avg_house_size|state_code|                race| count|demog_id|\n",
      "+--------------+---------+---------+-------+--------+----------+------+------+------+-------+------------+--------------+----------+--------------------+------+--------+\n",
      "|             4|      DET|  DETROIT|DETROIT|MICHIGAN|      34.8|319265|357859|677124|  29511|       39861|           2.6|        MI|               White|104260|     697|\n",
      "|             4|      DET|  DETROIT|DETROIT|MICHIGAN|      34.8|319265|357859|677124|  29511|       39861|           2.6|        MI|  Hispanic or Latino| 53980|     696|\n",
      "|             4|      DET|  DETROIT|DETROIT|MICHIGAN|      34.8|319265|357859|677124|  29511|       39861|           2.6|        MI|Black or African-...|545988|     695|\n",
      "|             4|      DET|  DETROIT|DETROIT|MICHIGAN|      34.8|319265|357859|677124|  29511|       39861|           2.6|        MI|               Asian| 10804|     694|\n",
      "|             4|      DET|  DETROIT|DETROIT|MICHIGAN|      34.8|319265|357859|677124|  29511|       39861|           2.6|        MI|American Indian a...|  6007|     693|\n",
      "+--------------+---------+---------+-------+--------+----------+------+------+------+-------+------------+--------------+----------+--------------------+------+--------+\n",
      "only showing top 5 rows\n",
      "\n"
     ]
    }
   ],
   "source": [
    "foreign_immi_df.show(5)"
   ]
  },
  {
   "cell_type": "code",
   "execution_count": 157,
   "metadata": {},
   "outputs": [
    {
     "name": "stdout",
     "output_type": "stream",
     "text": [
      "+-------------+------------+\n",
      "|         city|foreign_born|\n",
      "+-------------+------------+\n",
      "|     NEW YORK|     3212500|\n",
      "|  LOS ANGELES|     1485425|\n",
      "|      HOUSTON|      696210|\n",
      "|      CHICAGO|      573463|\n",
      "|     SAN JOSE|      401493|\n",
      "|    SAN DIEGO|      373842|\n",
      "|       DALLAS|      326825|\n",
      "|      PHOENIX|      300702|\n",
      "|SAN FRANCISCO|      297199|\n",
      "|        MIAMI|      260789|\n",
      "+-------------+------------+\n",
      "\n"
     ]
    }
   ],
   "source": [
    "# top 10 city where most foreign born\n",
    "top_10_city = foreign_immi_df.select('city','foreign_born').distinct()\\\n",
    "        .orderBy('foreign_born',ascending=False).limit(10)\n",
    "top_10_city.show(10)"
   ]
  },
  {
   "cell_type": "code",
   "execution_count": 158,
   "metadata": {},
   "outputs": [],
   "source": [
    "# list of top 10 city\n",
    "city_list = foreign_immi_df.select('city','foreign_born').distinct()\\\n",
    "        .orderBy('foreign_born',ascending=False).limit(10).toPandas()['city'].tolist()"
   ]
  },
  {
   "cell_type": "code",
   "execution_count": 159,
   "metadata": {},
   "outputs": [
    {
     "name": "stdout",
     "output_type": "stream",
     "text": [
      "+-------------+-------+\n",
      "|         city|  count|\n",
      "+-------------+-------+\n",
      "|     NEW YORK|1850350|\n",
      "|        MIAMI|1335805|\n",
      "|  LOS ANGELES|1163270|\n",
      "|SAN FRANCISCO| 553510|\n",
      "|      CHICAGO| 481035|\n",
      "|      HOUSTON| 371005|\n",
      "|       DALLAS| 266470|\n",
      "|      PHOENIX| 142215|\n",
      "|    SAN DIEGO|  34125|\n",
      "|     SAN JOSE|  15180|\n",
      "+-------------+-------+\n",
      "\n"
     ]
    }
   ],
   "source": [
    "# top 10 city immigration count \n",
    "top_10_count = foreign_immi_df.filter(foreign_immi_df.city.isin(city_list))\\\n",
    "    .groupby('city').count().orderBy('count',ascending=False)\n",
    "top_10_count.show()"
   ]
  },
  {
   "cell_type": "code",
   "execution_count": 163,
   "metadata": {},
   "outputs": [
    {
     "name": "stdout",
     "output_type": "stream",
     "text": [
      "+-------------+------------+-------------+-------+\n",
      "|         city|foreign_born|         city|  count|\n",
      "+-------------+------------+-------------+-------+\n",
      "|     NEW YORK|     3212500|     NEW YORK|1850350|\n",
      "|  LOS ANGELES|     1485425|  LOS ANGELES|1163270|\n",
      "|      HOUSTON|      696210|      HOUSTON| 371005|\n",
      "|      CHICAGO|      573463|      CHICAGO| 481035|\n",
      "|     SAN JOSE|      401493|     SAN JOSE|  15180|\n",
      "|    SAN DIEGO|      373842|    SAN DIEGO|  34125|\n",
      "|       DALLAS|      326825|       DALLAS| 266470|\n",
      "|      PHOENIX|      300702|      PHOENIX| 142215|\n",
      "|SAN FRANCISCO|      297199|SAN FRANCISCO| 553510|\n",
      "|        MIAMI|      260789|        MIAMI|1335805|\n",
      "+-------------+------------+-------------+-------+\n",
      "\n"
     ]
    }
   ],
   "source": [
    "# join to check if there is some relation \n",
    "foreign_city_count = top_10_city.join(top_10_count, top_10_city.city == top_10_count.city, how='left')\\\n",
    "    .orderBy('foreign_born', ascending=False)\n",
    "foreign_city_count.show()"
   ]
  },
  {
   "cell_type": "code",
   "execution_count": 171,
   "metadata": {},
   "outputs": [
    {
     "data": {
      "text/plain": [
       "<AxesSubplot:>"
      ]
     },
     "execution_count": 171,
     "metadata": {},
     "output_type": "execute_result"
    },
    {
     "data": {
      "image/png": "[encoded data removed]",
      "text/plain": [
       "<Figure size 432x288 with 1 Axes>"
      ]
     },
     "metadata": {
      "needs_background": "light"
     },
     "output_type": "display_data"
    }
   ],
   "source": [
    "foreign_city_count.toPandas().plot()"
   ]
  },
  {
   "cell_type": "code",
   "execution_count": null,
   "metadata": {},
   "outputs": [],
   "source": []
  }
 ],
 "metadata": {
  "kernelspec": {
   "display_name": "Python 3",
   "language": "python",
   "name": "python3"
  },
  "language_info": {
   "codemirror_mode": {
    "name": "ipython",
    "version": 3
   },
   "file_extension": ".py",
   "mimetype": "text/x-python",
   "name": "python",
   "nbconvert_exporter": "python",
   "pygments_lexer": "ipython3",
   "version": "3.8.8"
  }
 },
 "nbformat": 4,
 "nbformat_minor": 4
}
