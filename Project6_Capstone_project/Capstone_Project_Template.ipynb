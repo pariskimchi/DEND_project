{
 "cells": [
  {
   "cell_type": "markdown",
   "metadata": {
    "editable": true
   },
   "source": [
    "# Project Title\n",
    "### Data Engineering Capstone Project\n",
    "\n",
    "#### Project Summary\n",
    "--describe your project at a high level--\n",
    "\n",
    "The project follows the follow steps:\n",
    "* Step 1: Scope the Project and Gather Data\n",
    "* Step 2: Explore and Assess the Data\n",
    "* Step 3: Define the Data Model\n",
    "* Step 4: Run ETL to Model the Data\n",
    "* Step 5: Complete Project Write Up"
   ]
  },
  {
   "cell_type": "code",
   "execution_count": null,
   "metadata": {
    "editable": true
   },
   "outputs": [],
   "source": [
    "import findspark\n",
    "findspark.init()"
   ]
  },
  {
   "cell_type": "code",
   "execution_count": 1,
   "metadata": {
    "editable": true
   },
   "outputs": [],
   "source": [
    "# Do all imports and installs here\n",
    "import pandas as pd\n",
    "import numpy as np\n",
    "import matplotlib.pyplot as plt\n",
    "import seaborn as sns\n",
    "\n",
    "import pyspark \n",
    "from pyspark.sql import SparkSession\n",
    "import pyspark.sql.functions as F\n",
    "from pyspark.sql.functions import udf,isnan, col\n",
    "from pyspark.sql.functions import monotonically_increasing_id\n",
    "from pyspark.sql.types import DateType\n",
    "from pyspark.sql.functions import to_date,year,month"
   ]
  },
  {
   "cell_type": "code",
   "execution_count": 3,
   "metadata": {
    "editable": true
   },
   "outputs": [],
   "source": [
    "import os\n",
    "from pyspark.sql import SparkSession\n",
    "spark = SparkSession.builder.getOrCreate()\n",
    "from pyspark.sql import SparkSession\n",
    "# os.environ[\"JAVA_HOME\"] = \"/usr/lib/jvm/java-8-openjdk-amd64\"\n",
    "# os.environ[\"PATH\"] = \"/opt/conda/bin:/opt/spark-2.4.3-bin-hadoop2.7/bin:/opt/conda/bin:/usr/local/sbin:/usr/local/bin:/usr/sbin:/usr/bin:/sbin:/bin:/usr/lib/jvm/java-8-openjdk-amd64/bin\"\n",
    "# os.environ[\"SPARK_HOME\"] = \"/opt/spark-2.4.3-bin-hadoop2.7\"\n",
    "# os.environ[\"HADOOP_HOME\"] = \"/opt/spark-2.4.3-bin-hadoop2.7\"\n",
    "spark = SparkSession.builder.\\\n",
    "config(\"spark.jars.packages\",\"saurfang:spark-sas7bdat:2.0.0-s_2.11\")\\\n",
    ".enableHiveSupport().getOrCreate()"
   ]
  },
  {
   "cell_type": "markdown",
   "metadata": {
    "editable": true
   },
   "source": [
    "### Step 1: Scope the Project and Gather Data\n",
    "\n",
    "#### Scope \n",
    "Explain what you plan to do in the project in more detail. What data do you use? What is your end solution look like? What tools did you use? etc>\n",
    "\n",
    "#### Describe and Gather Data \n",
    "Describe the data sets you're using. Where did it come from? What type of information is included? "
   ]
  },
  {
   "cell_type": "markdown",
   "metadata": {
    "editable": true
   },
   "source": [
    "### Scope \n",
    "This project will integrate I94 immigration data, World temperature data and US demographic data to setup a data warehouse with fact and dimension tables"
   ]
  },
  {
   "cell_type": "markdown",
   "metadata": {
    "editable": true
   },
   "source": [
    "- Datsasets:\n",
    "\n",
    "    1. I94 Immigration Data\n",
    "    2. World Temperature Data\n",
    "    3. U.S City Demographic Data\n",
    "    \n",
    "    \n",
    "- Tools:\n",
    "    \n",
    "    - AWS S3: Data storage \n",
    "    - Python for data processing:\n",
    "        1. pandas - exploratory data analysis on small data set \n",
    "        2. PySpark - data processing on larget dataset"
   ]
  },
  {
   "cell_type": "markdown",
   "metadata": {
    "editable": true
   },
   "source": [
    "#### Describe and Gather Data \n",
    "\n",
    "| Data Set | Format | Description |\n",
    "| ---      | ---    | ---         |\n",
    "|[I94 Immigration Data](https://travel.trade.gov/research/reports/i94/historical/2016.html)| SAS | Data contains international visitor arrival statistics by world regions and select countries (including top 20), type of visa, mode of transportation, age groups, states visited (first intended address only), and the top ports of entry (for select countries).|\n",
    "|[World Temperature Data](https://www.kaggle.com/berkeleyearth/climate-change-earth-surface-temperature-data)| CSV | This dataset is from Kaggle and contains monthly average temperature data at different country in the world wide.|\n",
    "|[U.S. City Demographic Data](https://public.opendatasoft.com/explore/dataset/us-cities-demographics/export/)| CSV | This dataset contains information about the demographics of all US cities and census-designated places with a population greater or equal to 65,000.|\n"
   ]
  },
  {
   "cell_type": "code",
   "execution_count": null,
   "metadata": {
    "editable": true
   },
   "outputs": [],
   "source": []
  },
  {
   "cell_type": "code",
   "execution_count": null,
   "metadata": {
    "editable": true
   },
   "outputs": [],
   "source": []
  },
  {
   "cell_type": "markdown",
   "metadata": {
    "editable": true
   },
   "source": [
    "### Data load and Description: I94 Immigration Data"
   ]
  },
  {
   "cell_type": "markdown",
   "metadata": {
    "editable": true
   },
   "source": [
    "#### Load I94 Immigration Dataset"
   ]
  },
  {
   "cell_type": "code",
   "execution_count": 4,
   "metadata": {
    "editable": true
   },
   "outputs": [],
   "source": [
    "# read parquet \n",
    "immigration_df = spark.read.parquet(\"./sas_data\")"
   ]
  },
  {
   "cell_type": "code",
   "execution_count": 5,
   "metadata": {
    "editable": true,
    "scrolled": true
   },
   "outputs": [
    {
     "data": {
      "text/plain": [
       "3096313"
      ]
     },
     "execution_count": 5,
     "metadata": {},
     "output_type": "execute_result"
    }
   ],
   "source": [
    "# check num of row \n",
    "immigration_df.count()"
   ]
  },
  {
   "cell_type": "code",
   "execution_count": 6,
   "metadata": {
    "editable": true
   },
   "outputs": [
    {
     "data": {
      "text/html": [
       "<div>\n",
       "<style scoped>\n",
       "    .dataframe tbody tr th:only-of-type {\n",
       "        vertical-align: middle;\n",
       "    }\n",
       "\n",
       "    .dataframe tbody tr th {\n",
       "        vertical-align: top;\n",
       "    }\n",
       "\n",
       "    .dataframe thead th {\n",
       "        text-align: right;\n",
       "    }\n",
       "</style>\n",
       "<table border=\"1\" class=\"dataframe\">\n",
       "  <thead>\n",
       "    <tr style=\"text-align: right;\">\n",
       "      <th></th>\n",
       "      <th>cicid</th>\n",
       "      <th>i94yr</th>\n",
       "      <th>i94mon</th>\n",
       "      <th>i94cit</th>\n",
       "      <th>i94res</th>\n",
       "      <th>i94port</th>\n",
       "      <th>arrdate</th>\n",
       "      <th>i94mode</th>\n",
       "      <th>i94addr</th>\n",
       "      <th>depdate</th>\n",
       "      <th>...</th>\n",
       "      <th>entdepu</th>\n",
       "      <th>matflag</th>\n",
       "      <th>biryear</th>\n",
       "      <th>dtaddto</th>\n",
       "      <th>gender</th>\n",
       "      <th>insnum</th>\n",
       "      <th>airline</th>\n",
       "      <th>admnum</th>\n",
       "      <th>fltno</th>\n",
       "      <th>visatype</th>\n",
       "    </tr>\n",
       "  </thead>\n",
       "  <tbody>\n",
       "    <tr>\n",
       "      <th>0</th>\n",
       "      <td>5748517.0</td>\n",
       "      <td>2016.0</td>\n",
       "      <td>4.0</td>\n",
       "      <td>245.0</td>\n",
       "      <td>438.0</td>\n",
       "      <td>LOS</td>\n",
       "      <td>20574.0</td>\n",
       "      <td>1.0</td>\n",
       "      <td>CA</td>\n",
       "      <td>20582.0</td>\n",
       "      <td>...</td>\n",
       "      <td>None</td>\n",
       "      <td>M</td>\n",
       "      <td>1976.0</td>\n",
       "      <td>10292016</td>\n",
       "      <td>F</td>\n",
       "      <td>None</td>\n",
       "      <td>QF</td>\n",
       "      <td>9.495387e+10</td>\n",
       "      <td>00011</td>\n",
       "      <td>B1</td>\n",
       "    </tr>\n",
       "    <tr>\n",
       "      <th>1</th>\n",
       "      <td>5748518.0</td>\n",
       "      <td>2016.0</td>\n",
       "      <td>4.0</td>\n",
       "      <td>245.0</td>\n",
       "      <td>438.0</td>\n",
       "      <td>LOS</td>\n",
       "      <td>20574.0</td>\n",
       "      <td>1.0</td>\n",
       "      <td>NV</td>\n",
       "      <td>20591.0</td>\n",
       "      <td>...</td>\n",
       "      <td>None</td>\n",
       "      <td>M</td>\n",
       "      <td>1984.0</td>\n",
       "      <td>10292016</td>\n",
       "      <td>F</td>\n",
       "      <td>None</td>\n",
       "      <td>VA</td>\n",
       "      <td>9.495562e+10</td>\n",
       "      <td>00007</td>\n",
       "      <td>B1</td>\n",
       "    </tr>\n",
       "    <tr>\n",
       "      <th>2</th>\n",
       "      <td>5748519.0</td>\n",
       "      <td>2016.0</td>\n",
       "      <td>4.0</td>\n",
       "      <td>245.0</td>\n",
       "      <td>438.0</td>\n",
       "      <td>LOS</td>\n",
       "      <td>20574.0</td>\n",
       "      <td>1.0</td>\n",
       "      <td>WA</td>\n",
       "      <td>20582.0</td>\n",
       "      <td>...</td>\n",
       "      <td>None</td>\n",
       "      <td>M</td>\n",
       "      <td>1987.0</td>\n",
       "      <td>10292016</td>\n",
       "      <td>M</td>\n",
       "      <td>None</td>\n",
       "      <td>DL</td>\n",
       "      <td>9.495641e+10</td>\n",
       "      <td>00040</td>\n",
       "      <td>B1</td>\n",
       "    </tr>\n",
       "    <tr>\n",
       "      <th>3</th>\n",
       "      <td>5748520.0</td>\n",
       "      <td>2016.0</td>\n",
       "      <td>4.0</td>\n",
       "      <td>245.0</td>\n",
       "      <td>438.0</td>\n",
       "      <td>LOS</td>\n",
       "      <td>20574.0</td>\n",
       "      <td>1.0</td>\n",
       "      <td>WA</td>\n",
       "      <td>20588.0</td>\n",
       "      <td>...</td>\n",
       "      <td>None</td>\n",
       "      <td>M</td>\n",
       "      <td>1987.0</td>\n",
       "      <td>10292016</td>\n",
       "      <td>F</td>\n",
       "      <td>None</td>\n",
       "      <td>DL</td>\n",
       "      <td>9.495645e+10</td>\n",
       "      <td>00040</td>\n",
       "      <td>B1</td>\n",
       "    </tr>\n",
       "    <tr>\n",
       "      <th>4</th>\n",
       "      <td>5748521.0</td>\n",
       "      <td>2016.0</td>\n",
       "      <td>4.0</td>\n",
       "      <td>245.0</td>\n",
       "      <td>438.0</td>\n",
       "      <td>LOS</td>\n",
       "      <td>20574.0</td>\n",
       "      <td>1.0</td>\n",
       "      <td>WA</td>\n",
       "      <td>20588.0</td>\n",
       "      <td>...</td>\n",
       "      <td>None</td>\n",
       "      <td>M</td>\n",
       "      <td>1988.0</td>\n",
       "      <td>10292016</td>\n",
       "      <td>M</td>\n",
       "      <td>None</td>\n",
       "      <td>DL</td>\n",
       "      <td>9.495639e+10</td>\n",
       "      <td>00040</td>\n",
       "      <td>B1</td>\n",
       "    </tr>\n",
       "  </tbody>\n",
       "</table>\n",
       "<p>5 rows × 28 columns</p>\n",
       "</div>"
      ],
      "text/plain": [
       "       cicid   i94yr  i94mon  i94cit  i94res i94port  arrdate  i94mode  \\\n",
       "0  5748517.0  2016.0     4.0   245.0   438.0     LOS  20574.0      1.0   \n",
       "1  5748518.0  2016.0     4.0   245.0   438.0     LOS  20574.0      1.0   \n",
       "2  5748519.0  2016.0     4.0   245.0   438.0     LOS  20574.0      1.0   \n",
       "3  5748520.0  2016.0     4.0   245.0   438.0     LOS  20574.0      1.0   \n",
       "4  5748521.0  2016.0     4.0   245.0   438.0     LOS  20574.0      1.0   \n",
       "\n",
       "  i94addr  depdate   ...     entdepu  matflag  biryear   dtaddto gender  \\\n",
       "0      CA  20582.0   ...        None        M   1976.0  10292016      F   \n",
       "1      NV  20591.0   ...        None        M   1984.0  10292016      F   \n",
       "2      WA  20582.0   ...        None        M   1987.0  10292016      M   \n",
       "3      WA  20588.0   ...        None        M   1987.0  10292016      F   \n",
       "4      WA  20588.0   ...        None        M   1988.0  10292016      M   \n",
       "\n",
       "  insnum airline        admnum  fltno visatype  \n",
       "0   None      QF  9.495387e+10  00011       B1  \n",
       "1   None      VA  9.495562e+10  00007       B1  \n",
       "2   None      DL  9.495641e+10  00040       B1  \n",
       "3   None      DL  9.495645e+10  00040       B1  \n",
       "4   None      DL  9.495639e+10  00040       B1  \n",
       "\n",
       "[5 rows x 28 columns]"
      ]
     },
     "execution_count": 6,
     "metadata": {},
     "output_type": "execute_result"
    }
   ],
   "source": [
    "# check head \n",
    "immigration_df.limit(5).toPandas()"
   ]
  },
  {
   "cell_type": "code",
   "execution_count": 7,
   "metadata": {
    "editable": true
   },
   "outputs": [
    {
     "data": {
      "text/plain": [
       "['cicid',\n",
       " 'i94yr',\n",
       " 'i94mon',\n",
       " 'i94cit',\n",
       " 'i94res',\n",
       " 'i94port',\n",
       " 'arrdate',\n",
       " 'i94mode',\n",
       " 'i94addr',\n",
       " 'depdate',\n",
       " 'i94bir',\n",
       " 'i94visa',\n",
       " 'count',\n",
       " 'dtadfile',\n",
       " 'visapost',\n",
       " 'occup',\n",
       " 'entdepa',\n",
       " 'entdepd',\n",
       " 'entdepu',\n",
       " 'matflag',\n",
       " 'biryear',\n",
       " 'dtaddto',\n",
       " 'gender',\n",
       " 'insnum',\n",
       " 'airline',\n",
       " 'admnum',\n",
       " 'fltno',\n",
       " 'visatype']"
      ]
     },
     "execution_count": 7,
     "metadata": {},
     "output_type": "execute_result"
    }
   ],
   "source": [
    "# check columns \n",
    "immigration_df.columns"
   ]
  },
  {
   "cell_type": "markdown",
   "metadata": {
    "editable": true
   },
   "source": [
    "### Data Dictionary: I94 Immigration Dataset "
   ]
  },
  {
   "cell_type": "markdown",
   "metadata": {
    "editable": true
   },
   "source": [
    "- `i94yr` = 4 digit year \n",
    "- `i94mon` = month \n",
    "- `i94cit` = 3 digit code of origin city \n",
    "- `i94res` = \t3 digit code for immigrant country of residence\n",
    "- `i94port` = port of admission\n",
    "- `arrdate` = arrival date in the USA \n",
    "- `i94mode` = 1 digit travel code \n",
    "- `i94addr` = state of arrival\n",
    "- `depdate` = departure date from the USA \n",
    "- `i94bir` = Age of Respondent in Years\n",
    "- `i94visa` = reason for immigration\n",
    "- `count` = field used for summary statistics\n",
    "- `dtadfile` = Character Date field - date added to i-94 files \n",
    "- `visapost` = Department of state where visa was issued \n",
    "- `occup`  = occupation that will be performed in u.s\n",
    "- `entdepa` = Arrival flag - admitted or paroled into the u.s\n",
    "- `entdepd` = Departure flag - departed, lost I-94 or is deceased \n",
    "- `entdepu` = Update flag \n",
    "- `matflag` = Match flag - Match of arrival and departure records \n",
    "- `biryear` = 4 digit year of birth\n",
    "- `dtaddto` = Character Date field - date to which admitted to us.\n",
    "- `gender` = non-immigrant sex \n",
    "- `insnum` = INS number \n",
    "- `airline` = Airline used to arrive in us \n",
    "- `admnum` = admission number \n",
    "- `fltno` = flight number of airline used to arrive in u.s\n",
    "- `visatype` = class of admission "
   ]
  },
  {
   "cell_type": "markdown",
   "metadata": {
    "editable": true
   },
   "source": [
    "#### Load I94 Immigration data's Label dataset to understand dataset"
   ]
  },
  {
   "cell_type": "code",
   "execution_count": 8,
   "metadata": {
    "editable": true
   },
   "outputs": [],
   "source": [
    "# load label dataset\n",
    "with open(\"./I94_SAS_Labels_Descriptions.SAS\") as f:\n",
    "    f_content = f.read()\n",
    "    f_content = f_content.replace('\\t','')\n",
    "\n",
    "def code_mapper(f_content, idx):\n",
    "    \"\"\"\n",
    "        function to load SAS data \n",
    "    \"\"\"\n",
    "    \n",
    "    f_content2 = f_content[f_content.index(idx):]\n",
    "    f_content2 = f_content2[:f_content2.index(';')].split('\\n')\n",
    "    f_content2 = [i.replace(\"'\",\"\") for i in f_content2]\n",
    "    \n",
    "    dic = [i.split('=') for i in f_content2[1:]]\n",
    "    dic = dict([i[0].strip(), i[1].strip()] for i in dic if len(i) == 2)\n",
    "    \n",
    "    return dic"
   ]
  },
  {
   "cell_type": "code",
   "execution_count": 9,
   "metadata": {
    "editable": true
   },
   "outputs": [],
   "source": [
    "# load \n",
    "i94cit_res = code_mapper(f_content, \"i94cntyl\")\n",
    "i94port = code_mapper(f_content, \"i94prtl\")\n",
    "i94mode = code_mapper(f_content, \"i94model\")\n",
    "i94addr = code_mapper(f_content, \"i94addrl\")\n",
    "i94visa = {'1':'Business',\n",
    "'2': 'Pleasure',\n",
    "'3' : 'Student'}"
   ]
  },
  {
   "cell_type": "code",
   "execution_count": 12,
   "metadata": {
    "editable": true
   },
   "outputs": [
    {
     "data": {
      "text/plain": [
       "{'582': 'MEXICO Air Sea, and Not Reported (I-94, no land arrivals)',\n",
       " '236': 'AFGHANISTAN',\n",
       " '101': 'ALBANIA',\n",
       " '316': 'ALGERIA',\n",
       " '102': 'ANDORRA',\n",
       " '324': 'ANGOLA',\n",
       " '529': 'ANGUILLA',\n",
       " '518': 'ANTIGUA-BARBUDA',\n",
       " '687': 'ARGENTINA',\n",
       " '151': 'ARMENIA',\n",
       " '532': 'ARUBA',\n",
       " '438': 'AUSTRALIA',\n",
       " '103': 'AUSTRIA',\n",
       " '152': 'AZERBAIJAN',\n",
       " '512': 'BAHAMAS',\n",
       " '298': 'BAHRAIN',\n",
       " '274': 'BANGLADESH',\n",
       " '513': 'BARBADOS',\n",
       " '104': 'BELGIUM',\n",
       " '581': 'BELIZE',\n",
       " '386': 'BENIN',\n",
       " '509': 'BERMUDA',\n",
       " '153': 'BELARUS',\n",
       " '242': 'BHUTAN',\n",
       " '688': 'BOLIVIA',\n",
       " '717': 'BONAIRE, ST EUSTATIUS, SABA',\n",
       " '164': 'BOSNIA-HERZEGOVINA',\n",
       " '336': 'BOTSWANA',\n",
       " '689': 'BRAZIL',\n",
       " '525': 'BRITISH VIRGIN ISLANDS',\n",
       " '217': 'BRUNEI',\n",
       " '105': 'BULGARIA',\n",
       " '393': 'BURKINA FASO',\n",
       " '243': 'BURMA',\n",
       " '375': 'BURUNDI',\n",
       " '310': 'CAMEROON',\n",
       " '326': 'CAPE VERDE',\n",
       " '526': 'CAYMAN ISLANDS',\n",
       " '383': 'CENTRAL AFRICAN REPUBLIC',\n",
       " '384': 'CHAD',\n",
       " '690': 'CHILE',\n",
       " '245': 'CHINA, PRC',\n",
       " '721': 'CURACAO',\n",
       " '270': 'CHRISTMAS ISLAND',\n",
       " '271': 'COCOS ISLANDS',\n",
       " '691': 'COLOMBIA',\n",
       " '317': 'COMOROS',\n",
       " '385': 'CONGO',\n",
       " '467': 'COOK ISLANDS',\n",
       " '575': 'COSTA RICA',\n",
       " '165': 'CROATIA',\n",
       " '584': 'CUBA',\n",
       " '218': 'CYPRUS',\n",
       " '140': 'CZECH REPUBLIC',\n",
       " '723': 'FAROE ISLANDS (PART OF DENMARK)',\n",
       " '108': 'DENMARK',\n",
       " '322': 'DJIBOUTI',\n",
       " '519': 'DOMINICA',\n",
       " '585': 'DOMINICAN REPUBLIC',\n",
       " '240': 'EAST TIMOR',\n",
       " '692': 'ECUADOR',\n",
       " '368': 'EGYPT',\n",
       " '576': 'EL SALVADOR',\n",
       " '399': 'EQUATORIAL GUINEA',\n",
       " '372': 'ERITREA',\n",
       " '109': 'ESTONIA',\n",
       " '369': 'ETHIOPIA',\n",
       " '604': 'FALKLAND ISLANDS',\n",
       " '413': 'FIJI',\n",
       " '110': 'FINLAND',\n",
       " '111': 'FRANCE',\n",
       " '601': 'FRENCH GUIANA',\n",
       " '411': 'FRENCH POLYNESIA',\n",
       " '387': 'GABON',\n",
       " '338': 'GAMBIA',\n",
       " '758': 'GAZA STRIP',\n",
       " '154': 'GEORGIA',\n",
       " '112': 'GERMANY',\n",
       " '339': 'GHANA',\n",
       " '143': 'GIBRALTAR',\n",
       " '113': 'GREECE',\n",
       " '520': 'GRENADA',\n",
       " '507': 'GUADELOUPE',\n",
       " '577': 'GUATEMALA',\n",
       " '382': 'GUINEA',\n",
       " '327': 'GUINEA-BISSAU',\n",
       " '603': 'GUYANA',\n",
       " '586': 'HAITI',\n",
       " '726': 'HEARD AND MCDONALD IS.',\n",
       " '149': 'HOLY SEE/VATICAN',\n",
       " '528': 'HONDURAS',\n",
       " '206': 'HONG KONG',\n",
       " '114': 'HUNGARY',\n",
       " '115': 'ICELAND',\n",
       " '213': 'INDIA',\n",
       " '759': 'INDIAN OCEAN AREAS (FRENCH)',\n",
       " '729': 'INDIAN OCEAN TERRITORY',\n",
       " '204': 'INDONESIA',\n",
       " '249': 'IRAN',\n",
       " '250': 'IRAQ',\n",
       " '116': 'IRELAND',\n",
       " '251': 'ISRAEL',\n",
       " '117': 'ITALY',\n",
       " '388': 'IVORY COAST',\n",
       " '514': 'JAMAICA',\n",
       " '209': 'JAPAN',\n",
       " '253': 'JORDAN',\n",
       " '201': 'KAMPUCHEA',\n",
       " '155': 'KAZAKHSTAN',\n",
       " '340': 'KENYA',\n",
       " '414': 'KIRIBATI',\n",
       " '732': 'KOSOVO',\n",
       " '272': 'KUWAIT',\n",
       " '156': 'KYRGYZSTAN',\n",
       " '203': 'LAOS',\n",
       " '118': 'LATVIA',\n",
       " '255': 'LEBANON',\n",
       " '335': 'LESOTHO',\n",
       " '370': 'LIBERIA',\n",
       " '381': 'LIBYA',\n",
       " '119': 'LIECHTENSTEIN',\n",
       " '120': 'LITHUANIA',\n",
       " '121': 'LUXEMBOURG',\n",
       " '214': 'MACAU',\n",
       " '167': 'MACEDONIA',\n",
       " '320': 'MADAGASCAR',\n",
       " '345': 'MALAWI',\n",
       " '273': 'MALAYSIA',\n",
       " '220': 'MALDIVES',\n",
       " '392': 'MALI',\n",
       " '145': 'MALTA',\n",
       " '472': 'MARSHALL ISLANDS',\n",
       " '511': 'MARTINIQUE',\n",
       " '389': 'MAURITANIA',\n",
       " '342': 'MAURITIUS',\n",
       " '760': 'MAYOTTE (AFRICA - FRENCH)',\n",
       " '473': 'MICRONESIA, FED. STATES OF',\n",
       " '157': 'MOLDOVA',\n",
       " '122': 'MONACO',\n",
       " '299': 'MONGOLIA',\n",
       " '735': 'MONTENEGRO',\n",
       " '521': 'MONTSERRAT',\n",
       " '332': 'MOROCCO',\n",
       " '329': 'MOZAMBIQUE',\n",
       " '371': 'NAMIBIA',\n",
       " '440': 'NAURU',\n",
       " '257': 'NEPAL',\n",
       " '123': 'NETHERLANDS',\n",
       " '508': 'NETHERLANDS ANTILLES',\n",
       " '409': 'NEW CALEDONIA',\n",
       " '464': 'NEW ZEALAND',\n",
       " '579': 'NICARAGUA',\n",
       " '390': 'NIGER',\n",
       " '343': 'NIGERIA',\n",
       " '470': 'NIUE',\n",
       " '275': 'NORTH KOREA',\n",
       " '124': 'NORWAY',\n",
       " '256': 'OMAN',\n",
       " '258': 'PAKISTAN',\n",
       " '474': 'PALAU',\n",
       " '743': 'PALESTINE',\n",
       " '504': 'PANAMA',\n",
       " '441': 'PAPUA NEW GUINEA',\n",
       " '693': 'PARAGUAY',\n",
       " '694': 'PERU',\n",
       " '260': 'PHILIPPINES',\n",
       " '416': 'PITCAIRN ISLANDS',\n",
       " '107': 'POLAND',\n",
       " '126': 'PORTUGAL',\n",
       " '297': 'QATAR',\n",
       " '748': 'REPUBLIC OF SOUTH SUDAN',\n",
       " '321': 'REUNION',\n",
       " '127': 'ROMANIA',\n",
       " '158': 'RUSSIA',\n",
       " '376': 'RWANDA',\n",
       " '128': 'SAN MARINO',\n",
       " '330': 'SAO TOME AND PRINCIPE',\n",
       " '261': 'SAUDI ARABIA',\n",
       " '391': 'SENEGAL',\n",
       " '142': 'SERBIA AND MONTENEGRO',\n",
       " '745': 'SERBIA',\n",
       " '347': 'SEYCHELLES',\n",
       " '348': 'SIERRA LEONE',\n",
       " '207': 'SINGAPORE',\n",
       " '141': 'SLOVAKIA',\n",
       " '166': 'SLOVENIA',\n",
       " '412': 'SOLOMON ISLANDS',\n",
       " '397': 'SOMALIA',\n",
       " '373': 'SOUTH AFRICA',\n",
       " '276': 'SOUTH KOREA',\n",
       " '129': 'SPAIN',\n",
       " '244': 'SRI LANKA',\n",
       " '346': 'ST. HELENA',\n",
       " '522': 'ST. KITTS-NEVIS',\n",
       " '523': 'ST. LUCIA',\n",
       " '502': 'ST. PIERRE AND MIQUELON',\n",
       " '524': 'ST. VINCENT-GRENADINES',\n",
       " '716': 'SAINT BARTHELEMY',\n",
       " '736': 'SAINT MARTIN',\n",
       " '749': 'SAINT MAARTEN',\n",
       " '350': 'SUDAN',\n",
       " '602': 'SURINAME',\n",
       " '351': 'SWAZILAND',\n",
       " '130': 'SWEDEN',\n",
       " '131': 'SWITZERLAND',\n",
       " '262': 'SYRIA',\n",
       " '268': 'TAIWAN',\n",
       " '159': 'TAJIKISTAN',\n",
       " '353': 'TANZANIA',\n",
       " '263': 'THAILAND',\n",
       " '304': 'TOGO',\n",
       " '417': 'TONGA',\n",
       " '516': 'TRINIDAD AND TOBAGO',\n",
       " '323': 'TUNISIA',\n",
       " '264': 'TURKEY',\n",
       " '161': 'TURKMENISTAN',\n",
       " '527': 'TURKS AND CAICOS ISLANDS',\n",
       " '420': 'TUVALU',\n",
       " '352': 'UGANDA',\n",
       " '162': 'UKRAINE',\n",
       " '296': 'UNITED ARAB EMIRATES',\n",
       " '135': 'UNITED KINGDOM',\n",
       " '695': 'URUGUAY',\n",
       " '163': 'UZBEKISTAN',\n",
       " '410': 'VANUATU',\n",
       " '696': 'VENEZUELA',\n",
       " '266': 'VIETNAM',\n",
       " '469': 'WALLIS AND FUTUNA ISLANDS',\n",
       " '757': 'WEST INDIES (FRENCH)',\n",
       " '333': 'WESTERN SAHARA',\n",
       " '465': 'WESTERN SAMOA',\n",
       " '216': 'YEMEN',\n",
       " '139': 'YUGOSLAVIA',\n",
       " '301': 'ZAIRE',\n",
       " '344': 'ZAMBIA',\n",
       " '315': 'ZIMBABWE',\n",
       " '403': 'INVALID: AMERICAN SAMOA',\n",
       " '712': 'INVALID: ANTARCTICA',\n",
       " '700': 'INVALID: BORN ON BOARD SHIP',\n",
       " '719': 'INVALID: BOUVET ISLAND (ANTARCTICA/NORWAY TERR.)',\n",
       " '574': 'INVALID: CANADA',\n",
       " '720': 'INVALID: CANTON AND ENDERBURY ISLS',\n",
       " '106': 'INVALID: CZECHOSLOVAKIA',\n",
       " '739': 'INVALID: DRONNING MAUD LAND (ANTARCTICA-NORWAY)',\n",
       " '394': 'INVALID: FRENCH SOUTHERN AND ANTARCTIC',\n",
       " '501': 'INVALID: GREENLAND',\n",
       " '404': 'INVALID: GUAM',\n",
       " '730': 'INVALID: INTERNATIONAL WATERS',\n",
       " '731': 'INVALID: JOHNSON ISLAND',\n",
       " '471': 'INVALID: MARIANA ISLANDS, NORTHERN',\n",
       " '737': 'INVALID: MIDWAY ISLANDS',\n",
       " '753': 'INVALID: MINOR OUTLYING ISLANDS - USA',\n",
       " '740': 'INVALID: NEUTRAL ZONE (S. ARABIA/IRAQ)',\n",
       " '710': 'INVALID: NON-QUOTA IMMIGRANT',\n",
       " '505': 'INVALID: PUERTO RICO',\n",
       " '0': 'INVALID: STATELESS',\n",
       " '705': 'INVALID: STATELESS',\n",
       " '583': 'INVALID: UNITED STATES',\n",
       " '407': 'INVALID: UNITED STATES',\n",
       " '999': 'INVALID: UNKNOWN',\n",
       " '239': 'INVALID: UNKNOWN COUNTRY',\n",
       " '134': 'INVALID: USSR',\n",
       " '506': 'INVALID: U.S. VIRGIN ISLANDS',\n",
       " '755': 'INVALID: WAKE ISLAND',\n",
       " '311': 'Collapsed Tanzania (should not show)',\n",
       " '741': 'Collapsed Curacao (should not show)',\n",
       " '54': 'No Country Code (54)',\n",
       " '100': 'No Country Code (100)',\n",
       " '187': 'No Country Code (187)',\n",
       " '190': 'No Country Code (190)',\n",
       " '200': 'No Country Code (200)',\n",
       " '219': 'No Country Code (219)',\n",
       " '238': 'No Country Code (238)',\n",
       " '277': 'No Country Code (277)',\n",
       " '293': 'No Country Code (293)',\n",
       " '300': 'No Country Code (300)',\n",
       " '319': 'No Country Code (319)',\n",
       " '365': 'No Country Code (365)',\n",
       " '395': 'No Country Code (395)',\n",
       " '400': 'No Country Code (400)',\n",
       " '485': 'No Country Code (485)',\n",
       " '503': 'No Country Code (503)',\n",
       " '589': 'No Country Code (589)',\n",
       " '592': 'No Country Code (592)',\n",
       " '791': 'No Country Code (791)',\n",
       " '849': 'No Country Code (849)',\n",
       " '914': 'No Country Code (914)',\n",
       " '944': 'No Country Code (944)',\n",
       " '996': 'No Country Code (996)'}"
      ]
     },
     "execution_count": 12,
     "metadata": {},
     "output_type": "execute_result"
    }
   ],
   "source": [
    "i94cit_res"
   ]
  },
  {
   "cell_type": "code",
   "execution_count": 13,
   "metadata": {
    "editable": true
   },
   "outputs": [],
   "source": [
    "# create country_df \n",
    "df_country_code = pd.DataFrame(list(i94cit_res.items()), columns=['code','country'])"
   ]
  },
  {
   "cell_type": "code",
   "execution_count": 14,
   "metadata": {
    "editable": true
   },
   "outputs": [
    {
     "data": {
      "text/html": [
       "<div>\n",
       "<style scoped>\n",
       "    .dataframe tbody tr th:only-of-type {\n",
       "        vertical-align: middle;\n",
       "    }\n",
       "\n",
       "    .dataframe tbody tr th {\n",
       "        vertical-align: top;\n",
       "    }\n",
       "\n",
       "    .dataframe thead th {\n",
       "        text-align: right;\n",
       "    }\n",
       "</style>\n",
       "<table border=\"1\" class=\"dataframe\">\n",
       "  <thead>\n",
       "    <tr style=\"text-align: right;\">\n",
       "      <th></th>\n",
       "      <th>code</th>\n",
       "      <th>country</th>\n",
       "    </tr>\n",
       "  </thead>\n",
       "  <tbody>\n",
       "    <tr>\n",
       "      <th>0</th>\n",
       "      <td>582</td>\n",
       "      <td>MEXICO Air Sea, and Not Reported (I-94, no lan...</td>\n",
       "    </tr>\n",
       "    <tr>\n",
       "      <th>1</th>\n",
       "      <td>236</td>\n",
       "      <td>AFGHANISTAN</td>\n",
       "    </tr>\n",
       "    <tr>\n",
       "      <th>2</th>\n",
       "      <td>101</td>\n",
       "      <td>ALBANIA</td>\n",
       "    </tr>\n",
       "    <tr>\n",
       "      <th>3</th>\n",
       "      <td>316</td>\n",
       "      <td>ALGERIA</td>\n",
       "    </tr>\n",
       "    <tr>\n",
       "      <th>4</th>\n",
       "      <td>102</td>\n",
       "      <td>ANDORRA</td>\n",
       "    </tr>\n",
       "  </tbody>\n",
       "</table>\n",
       "</div>"
      ],
      "text/plain": [
       "  code                                            country\n",
       "0  582  MEXICO Air Sea, and Not Reported (I-94, no lan...\n",
       "1  236                                        AFGHANISTAN\n",
       "2  101                                            ALBANIA\n",
       "3  316                                            ALGERIA\n",
       "4  102                                            ANDORRA"
      ]
     },
     "execution_count": 14,
     "metadata": {},
     "output_type": "execute_result"
    }
   ],
   "source": [
    "df_country_code.head()"
   ]
  },
  {
   "cell_type": "code",
   "execution_count": 15,
   "metadata": {
    "editable": true
   },
   "outputs": [
    {
     "data": {
      "text/plain": [
       "code       289\n",
       "country    289\n",
       "dtype: int64"
      ]
     },
     "execution_count": 15,
     "metadata": {},
     "output_type": "execute_result"
    }
   ],
   "source": [
    "df_country_code.count()"
   ]
  },
  {
   "cell_type": "code",
   "execution_count": null,
   "metadata": {
    "editable": true
   },
   "outputs": [],
   "source": [
    "# check i94port => us city code \n",
    "i94port"
   ]
  },
  {
   "cell_type": "code",
   "execution_count": 17,
   "metadata": {
    "editable": true
   },
   "outputs": [
    {
     "data": {
      "text/html": [
       "<div>\n",
       "<style scoped>\n",
       "    .dataframe tbody tr th:only-of-type {\n",
       "        vertical-align: middle;\n",
       "    }\n",
       "\n",
       "    .dataframe tbody tr th {\n",
       "        vertical-align: top;\n",
       "    }\n",
       "\n",
       "    .dataframe thead th {\n",
       "        text-align: right;\n",
       "    }\n",
       "</style>\n",
       "<table border=\"1\" class=\"dataframe\">\n",
       "  <thead>\n",
       "    <tr style=\"text-align: right;\">\n",
       "      <th></th>\n",
       "      <th>code</th>\n",
       "      <th>city</th>\n",
       "    </tr>\n",
       "  </thead>\n",
       "  <tbody>\n",
       "    <tr>\n",
       "      <th>0</th>\n",
       "      <td>ALC</td>\n",
       "      <td>ALCAN, AK</td>\n",
       "    </tr>\n",
       "    <tr>\n",
       "      <th>1</th>\n",
       "      <td>ANC</td>\n",
       "      <td>ANCHORAGE, AK</td>\n",
       "    </tr>\n",
       "    <tr>\n",
       "      <th>2</th>\n",
       "      <td>BAR</td>\n",
       "      <td>BAKER AAF - BAKER ISLAND, AK</td>\n",
       "    </tr>\n",
       "    <tr>\n",
       "      <th>3</th>\n",
       "      <td>DAC</td>\n",
       "      <td>DALTONS CACHE, AK</td>\n",
       "    </tr>\n",
       "    <tr>\n",
       "      <th>4</th>\n",
       "      <td>PIZ</td>\n",
       "      <td>DEW STATION PT LAY DEW, AK</td>\n",
       "    </tr>\n",
       "  </tbody>\n",
       "</table>\n",
       "</div>"
      ],
      "text/plain": [
       "  code                          city\n",
       "0  ALC                     ALCAN, AK\n",
       "1  ANC                 ANCHORAGE, AK\n",
       "2  BAR  BAKER AAF - BAKER ISLAND, AK\n",
       "3  DAC             DALTONS CACHE, AK\n",
       "4  PIZ    DEW STATION PT LAY DEW, AK"
      ]
     },
     "execution_count": 17,
     "metadata": {},
     "output_type": "execute_result"
    }
   ],
   "source": [
    "# create city_code_df\n",
    "df_city_code = pd.DataFrame(list(i94port.items()), columns=['code','city'])\n",
    "df_city_code.head()"
   ]
  },
  {
   "cell_type": "code",
   "execution_count": 18,
   "metadata": {
    "editable": true
   },
   "outputs": [
    {
     "data": {
      "text/plain": [
       "code    660\n",
       "city    660\n",
       "dtype: int64"
      ]
     },
     "execution_count": 18,
     "metadata": {},
     "output_type": "execute_result"
    }
   ],
   "source": [
    "# cheking city_code number of rows\n",
    "df_city_code.count()"
   ]
  },
  {
   "cell_type": "code",
   "execution_count": 19,
   "metadata": {
    "editable": true
   },
   "outputs": [
    {
     "data": {
      "text/plain": [
       "{'1': 'Air', '2': 'Sea', '3': 'Land', '9': 'Not reported'}"
      ]
     },
     "execution_count": 19,
     "metadata": {},
     "output_type": "execute_result"
    }
   ],
   "source": [
    "# check i94mode \n",
    "i94mode"
   ]
  },
  {
   "cell_type": "code",
   "execution_count": null,
   "metadata": {
    "editable": true
   },
   "outputs": [],
   "source": [
    "# check i94addr => state \n",
    "i94addr"
   ]
  },
  {
   "cell_type": "code",
   "execution_count": 20,
   "metadata": {
    "editable": true
   },
   "outputs": [
    {
     "data": {
      "text/html": [
       "<div>\n",
       "<style scoped>\n",
       "    .dataframe tbody tr th:only-of-type {\n",
       "        vertical-align: middle;\n",
       "    }\n",
       "\n",
       "    .dataframe tbody tr th {\n",
       "        vertical-align: top;\n",
       "    }\n",
       "\n",
       "    .dataframe thead th {\n",
       "        text-align: right;\n",
       "    }\n",
       "</style>\n",
       "<table border=\"1\" class=\"dataframe\">\n",
       "  <thead>\n",
       "    <tr style=\"text-align: right;\">\n",
       "      <th></th>\n",
       "      <th>code</th>\n",
       "      <th>state</th>\n",
       "    </tr>\n",
       "  </thead>\n",
       "  <tbody>\n",
       "    <tr>\n",
       "      <th>0</th>\n",
       "      <td>AL</td>\n",
       "      <td>ALABAMA</td>\n",
       "    </tr>\n",
       "    <tr>\n",
       "      <th>1</th>\n",
       "      <td>AK</td>\n",
       "      <td>ALASKA</td>\n",
       "    </tr>\n",
       "    <tr>\n",
       "      <th>2</th>\n",
       "      <td>AZ</td>\n",
       "      <td>ARIZONA</td>\n",
       "    </tr>\n",
       "    <tr>\n",
       "      <th>3</th>\n",
       "      <td>AR</td>\n",
       "      <td>ARKANSAS</td>\n",
       "    </tr>\n",
       "    <tr>\n",
       "      <th>4</th>\n",
       "      <td>CA</td>\n",
       "      <td>CALIFORNIA</td>\n",
       "    </tr>\n",
       "  </tbody>\n",
       "</table>\n",
       "</div>"
      ],
      "text/plain": [
       "  code       state\n",
       "0   AL     ALABAMA\n",
       "1   AK      ALASKA\n",
       "2   AZ     ARIZONA\n",
       "3   AR    ARKANSAS\n",
       "4   CA  CALIFORNIA"
      ]
     },
     "execution_count": 20,
     "metadata": {},
     "output_type": "execute_result"
    }
   ],
   "source": [
    "# create state_df  \n",
    "df_state_code = pd.DataFrame(list(i94addr.items()), columns=['code','state'])\n",
    "df_state_code.head()"
   ]
  },
  {
   "cell_type": "code",
   "execution_count": 21,
   "metadata": {
    "editable": true
   },
   "outputs": [
    {
     "data": {
      "text/plain": [
       "code     55\n",
       "state    55\n",
       "dtype: int64"
      ]
     },
     "execution_count": 21,
     "metadata": {},
     "output_type": "execute_result"
    }
   ],
   "source": [
    "df_state_code.count()"
   ]
  },
  {
   "cell_type": "code",
   "execution_count": 22,
   "metadata": {
    "editable": true
   },
   "outputs": [
    {
     "data": {
      "text/plain": [
       "{'1': 'Business', '2': 'Pleasure', '3': 'Student'}"
      ]
     },
     "execution_count": 22,
     "metadata": {},
     "output_type": "execute_result"
    }
   ],
   "source": [
    "# check visa \n",
    "i94visa"
   ]
  },
  {
   "cell_type": "markdown",
   "metadata": {
    "editable": true
   },
   "source": [
    "### Data Load and Description:  U.S City demography dataset"
   ]
  },
  {
   "cell_type": "markdown",
   "metadata": {
    "editable": true
   },
   "source": [
    "This data comes from OpenSoft and contains information about the demographics of all US cities and census-designated places with a population greater or equal to 65,000. Original data comes from the US Census Bureau's 2015 American Community Survey."
   ]
  },
  {
   "cell_type": "code",
   "execution_count": 25,
   "metadata": {
    "editable": true
   },
   "outputs": [],
   "source": [
    "demog_path = \"./us-cities-demographics.csv\"\n",
    "\n",
    "demog_df = spark.read\\\n",
    "    .option(\"delimiter\",\";\")\\\n",
    "    .option(\"header\",\"True\")\\\n",
    "    .csv(demog_path)"
   ]
  },
  {
   "cell_type": "code",
   "execution_count": 26,
   "metadata": {
    "editable": true
   },
   "outputs": [
    {
     "data": {
      "text/html": [
       "<div>\n",
       "<style scoped>\n",
       "    .dataframe tbody tr th:only-of-type {\n",
       "        vertical-align: middle;\n",
       "    }\n",
       "\n",
       "    .dataframe tbody tr th {\n",
       "        vertical-align: top;\n",
       "    }\n",
       "\n",
       "    .dataframe thead th {\n",
       "        text-align: right;\n",
       "    }\n",
       "</style>\n",
       "<table border=\"1\" class=\"dataframe\">\n",
       "  <thead>\n",
       "    <tr style=\"text-align: right;\">\n",
       "      <th></th>\n",
       "      <th>City</th>\n",
       "      <th>State</th>\n",
       "      <th>Median Age</th>\n",
       "      <th>Male Population</th>\n",
       "      <th>Female Population</th>\n",
       "      <th>Total Population</th>\n",
       "      <th>Number of Veterans</th>\n",
       "      <th>Foreign-born</th>\n",
       "      <th>Average Household Size</th>\n",
       "      <th>State Code</th>\n",
       "      <th>Race</th>\n",
       "      <th>Count</th>\n",
       "    </tr>\n",
       "  </thead>\n",
       "  <tbody>\n",
       "    <tr>\n",
       "      <th>0</th>\n",
       "      <td>Silver Spring</td>\n",
       "      <td>Maryland</td>\n",
       "      <td>33.8</td>\n",
       "      <td>40601</td>\n",
       "      <td>41862</td>\n",
       "      <td>82463</td>\n",
       "      <td>1562</td>\n",
       "      <td>30908</td>\n",
       "      <td>2.6</td>\n",
       "      <td>MD</td>\n",
       "      <td>Hispanic or Latino</td>\n",
       "      <td>25924</td>\n",
       "    </tr>\n",
       "    <tr>\n",
       "      <th>1</th>\n",
       "      <td>Quincy</td>\n",
       "      <td>Massachusetts</td>\n",
       "      <td>41.0</td>\n",
       "      <td>44129</td>\n",
       "      <td>49500</td>\n",
       "      <td>93629</td>\n",
       "      <td>4147</td>\n",
       "      <td>32935</td>\n",
       "      <td>2.39</td>\n",
       "      <td>MA</td>\n",
       "      <td>White</td>\n",
       "      <td>58723</td>\n",
       "    </tr>\n",
       "    <tr>\n",
       "      <th>2</th>\n",
       "      <td>Hoover</td>\n",
       "      <td>Alabama</td>\n",
       "      <td>38.5</td>\n",
       "      <td>38040</td>\n",
       "      <td>46799</td>\n",
       "      <td>84839</td>\n",
       "      <td>4819</td>\n",
       "      <td>8229</td>\n",
       "      <td>2.58</td>\n",
       "      <td>AL</td>\n",
       "      <td>Asian</td>\n",
       "      <td>4759</td>\n",
       "    </tr>\n",
       "    <tr>\n",
       "      <th>3</th>\n",
       "      <td>Rancho Cucamonga</td>\n",
       "      <td>California</td>\n",
       "      <td>34.5</td>\n",
       "      <td>88127</td>\n",
       "      <td>87105</td>\n",
       "      <td>175232</td>\n",
       "      <td>5821</td>\n",
       "      <td>33878</td>\n",
       "      <td>3.18</td>\n",
       "      <td>CA</td>\n",
       "      <td>Black or African-American</td>\n",
       "      <td>24437</td>\n",
       "    </tr>\n",
       "    <tr>\n",
       "      <th>4</th>\n",
       "      <td>Newark</td>\n",
       "      <td>New Jersey</td>\n",
       "      <td>34.6</td>\n",
       "      <td>138040</td>\n",
       "      <td>143873</td>\n",
       "      <td>281913</td>\n",
       "      <td>5829</td>\n",
       "      <td>86253</td>\n",
       "      <td>2.73</td>\n",
       "      <td>NJ</td>\n",
       "      <td>White</td>\n",
       "      <td>76402</td>\n",
       "    </tr>\n",
       "  </tbody>\n",
       "</table>\n",
       "</div>"
      ],
      "text/plain": [
       "               City          State Median Age Male Population  \\\n",
       "0     Silver Spring       Maryland       33.8           40601   \n",
       "1            Quincy  Massachusetts       41.0           44129   \n",
       "2            Hoover        Alabama       38.5           38040   \n",
       "3  Rancho Cucamonga     California       34.5           88127   \n",
       "4            Newark     New Jersey       34.6          138040   \n",
       "\n",
       "  Female Population Total Population Number of Veterans Foreign-born  \\\n",
       "0             41862            82463               1562        30908   \n",
       "1             49500            93629               4147        32935   \n",
       "2             46799            84839               4819         8229   \n",
       "3             87105           175232               5821        33878   \n",
       "4            143873           281913               5829        86253   \n",
       "\n",
       "  Average Household Size State Code                       Race  Count  \n",
       "0                    2.6         MD         Hispanic or Latino  25924  \n",
       "1                   2.39         MA                      White  58723  \n",
       "2                   2.58         AL                      Asian   4759  \n",
       "3                   3.18         CA  Black or African-American  24437  \n",
       "4                   2.73         NJ                      White  76402  "
      ]
     },
     "execution_count": 26,
     "metadata": {},
     "output_type": "execute_result"
    }
   ],
   "source": [
    "demog_df.limit(5).toPandas()"
   ]
  },
  {
   "cell_type": "code",
   "execution_count": 27,
   "metadata": {
    "editable": true
   },
   "outputs": [
    {
     "data": {
      "text/plain": [
       "2891"
      ]
     },
     "execution_count": 27,
     "metadata": {},
     "output_type": "execute_result"
    }
   ],
   "source": [
    "# check num of row \n",
    "demog_df.count()"
   ]
  },
  {
   "cell_type": "code",
   "execution_count": 28,
   "metadata": {
    "editable": true
   },
   "outputs": [
    {
     "data": {
      "text/plain": [
       "['City',\n",
       " 'State',\n",
       " 'Median Age',\n",
       " 'Male Population',\n",
       " 'Female Population',\n",
       " 'Total Population',\n",
       " 'Number of Veterans',\n",
       " 'Foreign-born',\n",
       " 'Average Household Size',\n",
       " 'State Code',\n",
       " 'Race',\n",
       " 'Count']"
      ]
     },
     "execution_count": 28,
     "metadata": {},
     "output_type": "execute_result"
    }
   ],
   "source": [
    "demog_df.columns"
   ]
  },
  {
   "cell_type": "markdown",
   "metadata": {
    "editable": true
   },
   "source": [
    "##### Data Dictionary: Demography dataset"
   ]
  },
  {
   "cell_type": "markdown",
   "metadata": {
    "editable": true
   },
   "source": [
    "- `city` = City Name \n",
    "- `State` = US state \n",
    "- ` Median age` = Median age of the population \n",
    "- `Male Population` = Count of male population \n",
    "- `Female population` = count of female population \n",
    "- `Total population` = Count of total population\n",
    "- `Number of Veterans` = Count of total veterans \n",
    "- `Foreign born` = Count of residents of the city that were not born in the city \n",
    "- `Average Household Size` = Average city household size \n",
    "- `State Code` = Code of the US state \n",
    "- `Race` = Respondent race \n",
    "- `Count` = Count of city's individual per race"
   ]
  },
  {
   "cell_type": "markdown",
   "metadata": {
    "editable": true
   },
   "source": [
    "### Data Load and Description: World Temperature Dataset"
   ]
  },
  {
   "cell_type": "markdown",
   "metadata": {
    "editable": true
   },
   "source": [
    "The World Temperature dataset comes from Kaggle and represents global land temperatures by city."
   ]
  },
  {
   "cell_type": "markdown",
   "metadata": {
    "editable": true
   },
   "source": [
    "#### Load World Temperature dataset"
   ]
  },
  {
   "cell_type": "code",
   "execution_count": 29,
   "metadata": {
    "editable": true
   },
   "outputs": [],
   "source": [
    "# load world temperature dataset \n",
    "temp_path = \"./GlobalLandTemperaturesByCity.csv\"\n",
    "\n",
    "# read csv \n",
    "temp_df = spark.read\\\n",
    "    .option(\"delimiter\",\",\")\\\n",
    "    .option(\"header\",\"True\")\\\n",
    "    .csv(temp_path)"
   ]
  },
  {
   "cell_type": "code",
   "execution_count": 30,
   "metadata": {
    "editable": true
   },
   "outputs": [
    {
     "data": {
      "text/html": [
       "<div>\n",
       "<style scoped>\n",
       "    .dataframe tbody tr th:only-of-type {\n",
       "        vertical-align: middle;\n",
       "    }\n",
       "\n",
       "    .dataframe tbody tr th {\n",
       "        vertical-align: top;\n",
       "    }\n",
       "\n",
       "    .dataframe thead th {\n",
       "        text-align: right;\n",
       "    }\n",
       "</style>\n",
       "<table border=\"1\" class=\"dataframe\">\n",
       "  <thead>\n",
       "    <tr style=\"text-align: right;\">\n",
       "      <th></th>\n",
       "      <th>dt</th>\n",
       "      <th>AverageTemperature</th>\n",
       "      <th>AverageTemperatureUncertainty</th>\n",
       "      <th>City</th>\n",
       "      <th>Country</th>\n",
       "      <th>Latitude</th>\n",
       "      <th>Longitude</th>\n",
       "    </tr>\n",
       "  </thead>\n",
       "  <tbody>\n",
       "    <tr>\n",
       "      <th>0</th>\n",
       "      <td>1743-11-01</td>\n",
       "      <td>6.068</td>\n",
       "      <td>1.7369999999999999</td>\n",
       "      <td>Århus</td>\n",
       "      <td>Denmark</td>\n",
       "      <td>57.05N</td>\n",
       "      <td>10.33E</td>\n",
       "    </tr>\n",
       "    <tr>\n",
       "      <th>1</th>\n",
       "      <td>1743-12-01</td>\n",
       "      <td>None</td>\n",
       "      <td>None</td>\n",
       "      <td>Århus</td>\n",
       "      <td>Denmark</td>\n",
       "      <td>57.05N</td>\n",
       "      <td>10.33E</td>\n",
       "    </tr>\n",
       "    <tr>\n",
       "      <th>2</th>\n",
       "      <td>1744-01-01</td>\n",
       "      <td>None</td>\n",
       "      <td>None</td>\n",
       "      <td>Århus</td>\n",
       "      <td>Denmark</td>\n",
       "      <td>57.05N</td>\n",
       "      <td>10.33E</td>\n",
       "    </tr>\n",
       "    <tr>\n",
       "      <th>3</th>\n",
       "      <td>1744-02-01</td>\n",
       "      <td>None</td>\n",
       "      <td>None</td>\n",
       "      <td>Århus</td>\n",
       "      <td>Denmark</td>\n",
       "      <td>57.05N</td>\n",
       "      <td>10.33E</td>\n",
       "    </tr>\n",
       "    <tr>\n",
       "      <th>4</th>\n",
       "      <td>1744-03-01</td>\n",
       "      <td>None</td>\n",
       "      <td>None</td>\n",
       "      <td>Århus</td>\n",
       "      <td>Denmark</td>\n",
       "      <td>57.05N</td>\n",
       "      <td>10.33E</td>\n",
       "    </tr>\n",
       "  </tbody>\n",
       "</table>\n",
       "</div>"
      ],
      "text/plain": [
       "           dt AverageTemperature AverageTemperatureUncertainty   City  \\\n",
       "0  1743-11-01              6.068            1.7369999999999999  Århus   \n",
       "1  1743-12-01               None                          None  Århus   \n",
       "2  1744-01-01               None                          None  Århus   \n",
       "3  1744-02-01               None                          None  Århus   \n",
       "4  1744-03-01               None                          None  Århus   \n",
       "\n",
       "   Country Latitude Longitude  \n",
       "0  Denmark   57.05N    10.33E  \n",
       "1  Denmark   57.05N    10.33E  \n",
       "2  Denmark   57.05N    10.33E  \n",
       "3  Denmark   57.05N    10.33E  \n",
       "4  Denmark   57.05N    10.33E  "
      ]
     },
     "execution_count": 30,
     "metadata": {},
     "output_type": "execute_result"
    }
   ],
   "source": [
    "# check temp_df \n",
    "temp_df.limit(5).toPandas()"
   ]
  },
  {
   "cell_type": "code",
   "execution_count": 31,
   "metadata": {
    "editable": true
   },
   "outputs": [
    {
     "data": {
      "text/plain": [
       "['dt',\n",
       " 'AverageTemperature',\n",
       " 'AverageTemperatureUncertainty',\n",
       " 'City',\n",
       " 'Country',\n",
       " 'Latitude',\n",
       " 'Longitude']"
      ]
     },
     "execution_count": 31,
     "metadata": {},
     "output_type": "execute_result"
    }
   ],
   "source": [
    "# check columns \n",
    "temp_df.columns"
   ]
  },
  {
   "cell_type": "code",
   "execution_count": 32,
   "metadata": {
    "editable": true
   },
   "outputs": [
    {
     "data": {
      "text/plain": [
       "8599212"
      ]
     },
     "execution_count": 32,
     "metadata": {},
     "output_type": "execute_result"
    }
   ],
   "source": [
    "# check num row \n",
    "temp_df.count()"
   ]
  },
  {
   "cell_type": "markdown",
   "metadata": {
    "editable": true
   },
   "source": [
    "#### Data Dictionary: World Temperature Dataset"
   ]
  },
  {
   "cell_type": "markdown",
   "metadata": {
    "editable": true
   },
   "source": [
    "- `dt` = Date \n",
    "- `AverageTemperature` = Global average land temperature in celsius \n",
    "- `AverageTemperatureUncertainty` = 95% confidence interval around the average \n",
    "- `City` = name of city \n",
    "- `Country` = name of country \n",
    "- `Latitude` = city latitude \n",
    "- `Longitude` = city Longitude"
   ]
  },
  {
   "cell_type": "markdown",
   "metadata": {
    "editable": true
   },
   "source": [
    "## Step 2: Explore and Assess the Data\n",
    "\n",
    "#### Explore the data \n",
    "1. Use pandas and pyspark for exploratory data analysis to understand on datasets\n",
    "2. split datasets to Fact-dimension tables and checking missing values"
   ]
  },
  {
   "cell_type": "markdown",
   "metadata": {
    "editable": true
   },
   "source": [
    "### Explore Data: Immigration dataset"
   ]
  },
  {
   "cell_type": "code",
   "execution_count": 33,
   "metadata": {
    "editable": true
   },
   "outputs": [
    {
     "name": "stdout",
     "output_type": "stream",
     "text": [
      "root\n",
      " |-- cicid: double (nullable = true)\n",
      " |-- i94yr: double (nullable = true)\n",
      " |-- i94mon: double (nullable = true)\n",
      " |-- i94cit: double (nullable = true)\n",
      " |-- i94res: double (nullable = true)\n",
      " |-- i94port: string (nullable = true)\n",
      " |-- arrdate: double (nullable = true)\n",
      " |-- i94mode: double (nullable = true)\n",
      " |-- i94addr: string (nullable = true)\n",
      " |-- depdate: double (nullable = true)\n",
      " |-- i94bir: double (nullable = true)\n",
      " |-- i94visa: double (nullable = true)\n",
      " |-- count: double (nullable = true)\n",
      " |-- dtadfile: string (nullable = true)\n",
      " |-- visapost: string (nullable = true)\n",
      " |-- occup: string (nullable = true)\n",
      " |-- entdepa: string (nullable = true)\n",
      " |-- entdepd: string (nullable = true)\n",
      " |-- entdepu: string (nullable = true)\n",
      " |-- matflag: string (nullable = true)\n",
      " |-- biryear: double (nullable = true)\n",
      " |-- dtaddto: string (nullable = true)\n",
      " |-- gender: string (nullable = true)\n",
      " |-- insnum: string (nullable = true)\n",
      " |-- airline: string (nullable = true)\n",
      " |-- admnum: double (nullable = true)\n",
      " |-- fltno: string (nullable = true)\n",
      " |-- visatype: string (nullable = true)\n",
      "\n"
     ]
    }
   ],
   "source": [
    "# check schema \n",
    "immigration_df.printSchema()"
   ]
  },
  {
   "cell_type": "markdown",
   "metadata": {
    "editable": true
   },
   "source": [
    "#### Missing values"
   ]
  },
  {
   "cell_type": "code",
   "execution_count": 34,
   "metadata": {
    "editable": true
   },
   "outputs": [],
   "source": [
    "# checking total number of rows\n",
    "total = immigration_df.count()"
   ]
  },
  {
   "cell_type": "code",
   "execution_count": 35,
   "metadata": {
    "editable": true
   },
   "outputs": [],
   "source": [
    "# create missing_df to count missing values\n",
    "df_agg = immigration_df.agg(*[\n",
    "    F.count(F.when(F.isnull(c), c)).alias(c) for c in immigration_df.columns\n",
    "])\n",
    "\n",
    "df_agg_pd = df_agg.toPandas()\n",
    "\n",
    "df_agg_pd = pd.melt(df_agg_pd, var_name='cols',value_name='values')\n",
    "df_agg_pd['%_missing_values'] = 100 * df_agg_pd['values']/total"
   ]
  },
  {
   "cell_type": "code",
   "execution_count": 36,
   "metadata": {
    "editable": true
   },
   "outputs": [
    {
     "data": {
      "image/png": "[encoded data removed]",
      "text/plain": [
       "<matplotlib.figure.Figure at 0x7fae46e47710>"
      ]
     },
     "metadata": {
      "needs_background": "light"
     },
     "output_type": "display_data"
    }
   ],
   "source": [
    "# visualize\n",
    "plt.figure(figsize=(15,5))\n",
    "ax = sns.barplot(x='cols',y='%_missing_values', data=df_agg_pd)\n",
    "ax.set_ylim(0,100)\n",
    "# rotation x key\n",
    "ax.set_xticklabels(ax.get_xticklabels(), rotation=90)\n",
    "plt.show()"
   ]
  },
  {
   "cell_type": "code",
   "execution_count": 37,
   "metadata": {
    "editable": true
   },
   "outputs": [],
   "source": [
    "# drop columns\n",
    "drop_cols = ['visapost','occup','entredepu','insnum']\n",
    "\n",
    "immigration_df = immigration_df.drop(*drop_cols)\n",
    "\n",
    "# drop duplicates \n",
    "immigration_df = immigration_df.drop_duplicates(['cicid'])"
   ]
  },
  {
   "cell_type": "code",
   "execution_count": 38,
   "metadata": {
    "editable": true,
    "scrolled": true
   },
   "outputs": [
    {
     "data": {
      "text/plain": [
       "3096313"
      ]
     },
     "execution_count": 38,
     "metadata": {},
     "output_type": "execute_result"
    }
   ],
   "source": [
    "immigration_df.count()"
   ]
  },
  {
   "cell_type": "code",
   "execution_count": null,
   "metadata": {
    "editable": true
   },
   "outputs": [],
   "source": []
  },
  {
   "cell_type": "markdown",
   "metadata": {
    "editable": true
   },
   "source": [
    "## Explore Dataset: Demography dataset"
   ]
  },
  {
   "cell_type": "code",
   "execution_count": 39,
   "metadata": {
    "editable": true
   },
   "outputs": [
    {
     "data": {
      "text/plain": [
       "2891"
      ]
     },
     "execution_count": 39,
     "metadata": {},
     "output_type": "execute_result"
    }
   ],
   "source": [
    "# check count\n",
    "demog_df.count()"
   ]
  },
  {
   "cell_type": "code",
   "execution_count": 40,
   "metadata": {
    "editable": true
   },
   "outputs": [
    {
     "name": "stdout",
     "output_type": "stream",
     "text": [
      "root\n",
      " |-- City: string (nullable = true)\n",
      " |-- State: string (nullable = true)\n",
      " |-- Median Age: string (nullable = true)\n",
      " |-- Male Population: string (nullable = true)\n",
      " |-- Female Population: string (nullable = true)\n",
      " |-- Total Population: string (nullable = true)\n",
      " |-- Number of Veterans: string (nullable = true)\n",
      " |-- Foreign-born: string (nullable = true)\n",
      " |-- Average Household Size: string (nullable = true)\n",
      " |-- State Code: string (nullable = true)\n",
      " |-- Race: string (nullable = true)\n",
      " |-- Count: string (nullable = true)\n",
      "\n"
     ]
    }
   ],
   "source": [
    "# print dmog_df schema \n",
    "demog_df.printSchema()"
   ]
  },
  {
   "cell_type": "markdown",
   "metadata": {
    "editable": true
   },
   "source": [
    "#### Checking missing values: Demography"
   ]
  },
  {
   "cell_type": "code",
   "execution_count": 41,
   "metadata": {
    "editable": true
   },
   "outputs": [],
   "source": [
    "# create missing_df_demog\n",
    "demog_df_missing = demog_df.agg(*[\n",
    "        F.count(F.when(F.isnull(c), c)).alias(c) for c in demog_df.columns\n",
    "])"
   ]
  },
  {
   "cell_type": "code",
   "execution_count": 42,
   "metadata": {
    "editable": true
   },
   "outputs": [
    {
     "data": {
      "text/html": [
       "<div>\n",
       "<style scoped>\n",
       "    .dataframe tbody tr th:only-of-type {\n",
       "        vertical-align: middle;\n",
       "    }\n",
       "\n",
       "    .dataframe tbody tr th {\n",
       "        vertical-align: top;\n",
       "    }\n",
       "\n",
       "    .dataframe thead th {\n",
       "        text-align: right;\n",
       "    }\n",
       "</style>\n",
       "<table border=\"1\" class=\"dataframe\">\n",
       "  <thead>\n",
       "    <tr style=\"text-align: right;\">\n",
       "      <th></th>\n",
       "      <th>City</th>\n",
       "      <th>State</th>\n",
       "      <th>Median Age</th>\n",
       "      <th>Male Population</th>\n",
       "      <th>Female Population</th>\n",
       "      <th>Total Population</th>\n",
       "      <th>Number of Veterans</th>\n",
       "      <th>Foreign-born</th>\n",
       "      <th>Average Household Size</th>\n",
       "      <th>State Code</th>\n",
       "      <th>Race</th>\n",
       "      <th>Count</th>\n",
       "    </tr>\n",
       "  </thead>\n",
       "  <tbody>\n",
       "    <tr>\n",
       "      <th>0</th>\n",
       "      <td>0</td>\n",
       "      <td>0</td>\n",
       "      <td>0</td>\n",
       "      <td>3</td>\n",
       "      <td>3</td>\n",
       "      <td>0</td>\n",
       "      <td>13</td>\n",
       "      <td>13</td>\n",
       "      <td>16</td>\n",
       "      <td>0</td>\n",
       "      <td>0</td>\n",
       "      <td>0</td>\n",
       "    </tr>\n",
       "  </tbody>\n",
       "</table>\n",
       "</div>"
      ],
      "text/plain": [
       "   City  State  Median Age  Male Population  Female Population  \\\n",
       "0     0      0           0                3                  3   \n",
       "\n",
       "   Total Population  Number of Veterans  Foreign-born  Average Household Size  \\\n",
       "0                 0                  13            13                      16   \n",
       "\n",
       "   State Code  Race  Count  \n",
       "0           0     0      0  "
      ]
     },
     "execution_count": 42,
     "metadata": {},
     "output_type": "execute_result"
    }
   ],
   "source": [
    "demog_df_missing.toPandas().head()"
   ]
  },
  {
   "cell_type": "code",
   "execution_count": 43,
   "metadata": {
    "editable": true
   },
   "outputs": [],
   "source": [
    "# drop missing values \n",
    "\n",
    "drop_cols = ['Male Population','Female Population','Number of Veterans','Foreign-born','Average Household Size']\n",
    "\n",
    "\n",
    "demog_df = demog_df.dropna(subset=drop_cols)\n",
    "demog_df = demog_df.drop_duplicates(subset=['City','State','State Code','Race'])"
   ]
  },
  {
   "cell_type": "markdown",
   "metadata": {
    "editable": true
   },
   "source": [
    "## Explore Dataset: Temperature dataset"
   ]
  },
  {
   "cell_type": "code",
   "execution_count": 44,
   "metadata": {
    "editable": true
   },
   "outputs": [
    {
     "name": "stdout",
     "output_type": "stream",
     "text": [
      "+----------+------------------+-----------------------------+-----+-------+--------+---------+\n",
      "|        dt|AverageTemperature|AverageTemperatureUncertainty| City|Country|Latitude|Longitude|\n",
      "+----------+------------------+-----------------------------+-----+-------+--------+---------+\n",
      "|1743-11-01|             6.068|           1.7369999999999999|Århus|Denmark|  57.05N|   10.33E|\n",
      "|1743-12-01|              null|                         null|Århus|Denmark|  57.05N|   10.33E|\n",
      "|1744-01-01|              null|                         null|Århus|Denmark|  57.05N|   10.33E|\n",
      "|1744-02-01|              null|                         null|Århus|Denmark|  57.05N|   10.33E|\n",
      "|1744-03-01|              null|                         null|Århus|Denmark|  57.05N|   10.33E|\n",
      "+----------+------------------+-----------------------------+-----+-------+--------+---------+\n",
      "only showing top 5 rows\n",
      "\n"
     ]
    }
   ],
   "source": [
    "temp_df.show(5)"
   ]
  },
  {
   "cell_type": "code",
   "execution_count": 45,
   "metadata": {
    "editable": true
   },
   "outputs": [
    {
     "data": {
      "text/plain": [
       "8599212"
      ]
     },
     "execution_count": 45,
     "metadata": {},
     "output_type": "execute_result"
    }
   ],
   "source": [
    "# count total count of temperature dataset\n",
    "total_temp = temp_df.count()\n",
    "total_temp"
   ]
  },
  {
   "cell_type": "code",
   "execution_count": 46,
   "metadata": {
    "editable": true
   },
   "outputs": [
    {
     "name": "stdout",
     "output_type": "stream",
     "text": [
      "root\n",
      " |-- dt: string (nullable = true)\n",
      " |-- AverageTemperature: string (nullable = true)\n",
      " |-- AverageTemperatureUncertainty: string (nullable = true)\n",
      " |-- City: string (nullable = true)\n",
      " |-- Country: string (nullable = true)\n",
      " |-- Latitude: string (nullable = true)\n",
      " |-- Longitude: string (nullable = true)\n",
      "\n"
     ]
    }
   ],
   "source": [
    "# check schema \n",
    "temp_df.printSchema()"
   ]
  },
  {
   "cell_type": "markdown",
   "metadata": {
    "editable": true
   },
   "source": [
    "#### checking missing values: temperature dataset"
   ]
  },
  {
   "cell_type": "code",
   "execution_count": 47,
   "metadata": {
    "editable": true
   },
   "outputs": [],
   "source": [
    "# create temp_df_missing\n",
    "temp_df_missing = temp_df.agg(*[\n",
    "        F.count(F.when(F.isnull(c), c)).alias(c) for c in temp_df.columns\n",
    "])"
   ]
  },
  {
   "cell_type": "code",
   "execution_count": 48,
   "metadata": {
    "editable": true
   },
   "outputs": [
    {
     "data": {
      "text/html": [
       "<div>\n",
       "<style scoped>\n",
       "    .dataframe tbody tr th:only-of-type {\n",
       "        vertical-align: middle;\n",
       "    }\n",
       "\n",
       "    .dataframe tbody tr th {\n",
       "        vertical-align: top;\n",
       "    }\n",
       "\n",
       "    .dataframe thead th {\n",
       "        text-align: right;\n",
       "    }\n",
       "</style>\n",
       "<table border=\"1\" class=\"dataframe\">\n",
       "  <thead>\n",
       "    <tr style=\"text-align: right;\">\n",
       "      <th></th>\n",
       "      <th>dt</th>\n",
       "      <th>AverageTemperature</th>\n",
       "      <th>AverageTemperatureUncertainty</th>\n",
       "      <th>City</th>\n",
       "      <th>Country</th>\n",
       "      <th>Latitude</th>\n",
       "      <th>Longitude</th>\n",
       "    </tr>\n",
       "  </thead>\n",
       "  <tbody>\n",
       "    <tr>\n",
       "      <th>0</th>\n",
       "      <td>0</td>\n",
       "      <td>364130</td>\n",
       "      <td>364130</td>\n",
       "      <td>0</td>\n",
       "      <td>0</td>\n",
       "      <td>0</td>\n",
       "      <td>0</td>\n",
       "    </tr>\n",
       "  </tbody>\n",
       "</table>\n",
       "</div>"
      ],
      "text/plain": [
       "   dt  AverageTemperature  AverageTemperatureUncertainty  City  Country  \\\n",
       "0   0              364130                         364130     0        0   \n",
       "\n",
       "   Latitude  Longitude  \n",
       "0         0          0  "
      ]
     },
     "execution_count": 48,
     "metadata": {},
     "output_type": "execute_result"
    }
   ],
   "source": [
    "temp_df_missing.toPandas().head()"
   ]
  },
  {
   "cell_type": "code",
   "execution_count": 49,
   "metadata": {
    "editable": true
   },
   "outputs": [],
   "source": [
    "# convert temp_df_missing to pandas df\n",
    "temp_df_pd = temp_df_missing.toPandas()\n",
    "temp_df_pd = pd.melt(temp_df_pd, var_name='cols',value_name='values')\n",
    "\n",
    "temp_df_pd['%_missing_values'] = 100 * temp_df_pd['values']/total_temp"
   ]
  },
  {
   "cell_type": "code",
   "execution_count": 50,
   "metadata": {
    "editable": true
   },
   "outputs": [
    {
     "data": {
      "image/png": "[encoded data removed]",
      "text/plain": [
       "<matplotlib.figure.Figure at 0x7fae443aee80>"
      ]
     },
     "metadata": {
      "needs_background": "light"
     },
     "output_type": "display_data"
    }
   ],
   "source": [
    "# visualize\n",
    "plt.figure(figsize=(15,5))\n",
    "ax = sns.barplot(x='cols',y='%_missing_values', data=temp_df_pd)\n",
    "ax.set_ylim(0,100)\n",
    "# rotation x key\n",
    "ax.set_xticklabels(ax.get_xticklabels(), rotation=90)\n",
    "plt.show()"
   ]
  },
  {
   "cell_type": "code",
   "execution_count": 51,
   "metadata": {
    "editable": true
   },
   "outputs": [],
   "source": [
    "# set drop columns list \n",
    "drop_cols = ['AverageTemperature','AverageTemperatureUncertainty']\n",
    "\n",
    "# drop \n",
    "temp_df = temp_df.dropna(subset=drop_cols)"
   ]
  },
  {
   "cell_type": "code",
   "execution_count": 52,
   "metadata": {
    "editable": true
   },
   "outputs": [
    {
     "data": {
      "text/plain": [
       "8235082"
      ]
     },
     "execution_count": 52,
     "metadata": {},
     "output_type": "execute_result"
    }
   ],
   "source": [
    "# checking count\n",
    "temp_df.count()"
   ]
  },
  {
   "cell_type": "code",
   "execution_count": 53,
   "metadata": {
    "editable": true
   },
   "outputs": [
    {
     "name": "stdout",
     "output_type": "stream",
     "text": [
      "+----------+-------------------+-----------------------------+-----+-------+--------+---------+\n",
      "|        dt| AverageTemperature|AverageTemperatureUncertainty| City|Country|Latitude|Longitude|\n",
      "+----------+-------------------+-----------------------------+-----+-------+--------+---------+\n",
      "|1743-11-01|              6.068|           1.7369999999999999|Århus|Denmark|  57.05N|   10.33E|\n",
      "|1744-04-01| 5.7879999999999985|           3.6239999999999997|Århus|Denmark|  57.05N|   10.33E|\n",
      "|1744-05-01|             10.644|           1.2830000000000001|Århus|Denmark|  57.05N|   10.33E|\n",
      "|1744-06-01| 14.050999999999998|                        1.347|Århus|Denmark|  57.05N|   10.33E|\n",
      "|1744-07-01|             16.082|                        1.396|Århus|Denmark|  57.05N|   10.33E|\n",
      "|1744-09-01| 12.780999999999999|                        1.454|Århus|Denmark|  57.05N|   10.33E|\n",
      "|1744-10-01|               7.95|                         1.63|Århus|Denmark|  57.05N|   10.33E|\n",
      "|1744-11-01|  4.638999999999999|           1.3019999999999998|Århus|Denmark|  57.05N|   10.33E|\n",
      "|1744-12-01|0.12199999999999987|                        1.756|Århus|Denmark|  57.05N|   10.33E|\n",
      "|1745-01-01|-1.3330000000000002|                        1.642|Århus|Denmark|  57.05N|   10.33E|\n",
      "|1745-02-01|             -2.732|                        1.358|Århus|Denmark|  57.05N|   10.33E|\n",
      "|1745-03-01|              0.129|                        1.088|Århus|Denmark|  57.05N|   10.33E|\n",
      "|1745-04-01|              4.042|                        1.138|Århus|Denmark|  57.05N|   10.33E|\n",
      "|1750-01-01|              1.699|                        1.013|Århus|Denmark|  57.05N|   10.33E|\n",
      "|1750-02-01| 3.9610000000000003|           2.3609999999999998|Århus|Denmark|  57.05N|   10.33E|\n",
      "|1750-03-01|              5.182|                         3.48|Århus|Denmark|  57.05N|   10.33E|\n",
      "|1750-04-01|              7.197|                        0.732|Århus|Denmark|  57.05N|   10.33E|\n",
      "|1750-05-01|             10.634|                        1.351|Århus|Denmark|  57.05N|   10.33E|\n",
      "|1750-06-01|             14.913|                        1.181|Århus|Denmark|  57.05N|   10.33E|\n",
      "|1750-07-01|             17.831|                         1.22|Århus|Denmark|  57.05N|   10.33E|\n",
      "+----------+-------------------+-----------------------------+-----+-------+--------+---------+\n",
      "only showing top 20 rows\n",
      "\n"
     ]
    }
   ],
   "source": [
    "temp_df.show()"
   ]
  },
  {
   "cell_type": "code",
   "execution_count": 54,
   "metadata": {
    "editable": true
   },
   "outputs": [],
   "source": [
    "# drop duplicates row \n",
    "temp_df = temp_df.drop_duplicates(subset=['dt','City','Country'])"
   ]
  },
  {
   "cell_type": "code",
   "execution_count": null,
   "metadata": {
    "editable": true
   },
   "outputs": [],
   "source": []
  },
  {
   "cell_type": "code",
   "execution_count": null,
   "metadata": {
    "editable": true
   },
   "outputs": [],
   "source": []
  },
  {
   "cell_type": "code",
   "execution_count": null,
   "metadata": {
    "editable": true
   },
   "outputs": [],
   "source": []
  },
  {
   "cell_type": "code",
   "execution_count": null,
   "metadata": {
    "editable": true
   },
   "outputs": [],
   "source": []
  },
  {
   "cell_type": "markdown",
   "metadata": {
    "editable": true
   },
   "source": [
    "### Step 3: Define the Data Model\n"
   ]
  },
  {
   "cell_type": "markdown",
   "metadata": {
    "editable": true
   },
   "source": [
    "##### 3.1 Conceptual Data Model"
   ]
  },
  {
   "cell_type": "markdown",
   "metadata": {
    "editable": true
   },
   "source": [
    "![nn](./capstone_tables.png)"
   ]
  },
  {
   "cell_type": "markdown",
   "metadata": {
    "editable": true
   },
   "source": [
    "#### Data Pipeline Build Up steps"
   ]
  },
  {
   "cell_type": "markdown",
   "metadata": {
    "editable": true
   },
   "source": [
    "1. Load datasets \n",
    "2. clean the i94 immigration dataset to create spark dataframe for each month\n",
    "    and create Fact-immigration table.\n",
    "3. create airline dataframe from i94 immigration dataset and clean, then create\n",
    "    airline dimensional table, save as parquet.\n",
    "4. clean us-demograph dataset and create demograhpy dimensional table, save as parquet.\n",
    "5. clean global temperature dataset and create temperature dimensional table, save as parquet"
   ]
  },
  {
   "cell_type": "code",
   "execution_count": null,
   "metadata": {
    "editable": true
   },
   "outputs": [],
   "source": []
  },
  {
   "cell_type": "markdown",
   "metadata": {
    "editable": true
   },
   "source": [
    "### Step 4: Run Pipelines to Model the Data \n",
    "#### 4.1 Create the data model\n",
    "Build the data pipelines to create the data model."
   ]
  },
  {
   "cell_type": "markdown",
   "metadata": {
    "editable": true
   },
   "source": [
    "### Create the data model: fact-immigration-table"
   ]
  },
  {
   "cell_type": "code",
   "execution_count": 55,
   "metadata": {
    "editable": true
   },
   "outputs": [],
   "source": [
    "# rename columns function \n",
    "def rename_columns(table, new_columns):\n",
    "    \"\"\"\n",
    "        rename column name on spark dataframe\n",
    "        \n",
    "        input:\n",
    "            - table: df to rename\n",
    "            - new_colmns: new name of columns list\n",
    "        output:\n",
    "            - renamed df\n",
    "    \"\"\"\n",
    "    \n",
    "    for original, new in zip(table.columns, new_columns):\n",
    "        table = table.withColumnRenamed(original, new)\n",
    "    return table"
   ]
  },
  {
   "cell_type": "code",
   "execution_count": 56,
   "metadata": {
    "editable": true
   },
   "outputs": [],
   "source": [
    "# convert to datetime Type\n",
    "def SAS_to_date(date):\n",
    "    if date is not None:\n",
    "        return pd.to_timedelta(date, unit='D') + pd.Timestamp('1960-1-1')"
   ]
  },
  {
   "cell_type": "code",
   "execution_count": 57,
   "metadata": {
    "editable": true
   },
   "outputs": [],
   "source": [
    "# set udf \n",
    "SAS_to_date_udf = udf(SAS_to_date, DateType())"
   ]
  },
  {
   "cell_type": "code",
   "execution_count": 58,
   "metadata": {
    "editable": true
   },
   "outputs": [],
   "source": [
    "# Select columns to create Fact table \n",
    "target_cols = ['cicid','i94yr','i94mon','i94res','i94port','arrdate','depdate','i94addr','gender','visatype','fltno']\n",
    "\n",
    "# new column name list\n",
    "# new cos \n",
    "new_cols = ['cic_id','year','month','country_code','city_code','arrive_date','depart_date','state_code','gender','visa_type','flight_num']"
   ]
  },
  {
   "cell_type": "code",
   "execution_count": 59,
   "metadata": {
    "editable": true
   },
   "outputs": [],
   "source": [
    "# create fact_immigration table \n",
    "fact_immigration_df = immigration_df.select(target_cols).distinct()\\\n",
    "    .withColumn('immigration_id', monotonically_increasing_id())"
   ]
  },
  {
   "cell_type": "code",
   "execution_count": 60,
   "metadata": {
    "editable": true
   },
   "outputs": [],
   "source": [
    "# rename columns on fact_immigration_df \n",
    "fact_immigration_df = rename_columns(fact_immigration_df,new_cols)"
   ]
  },
  {
   "cell_type": "code",
   "execution_count": 61,
   "metadata": {
    "editable": true
   },
   "outputs": [
    {
     "data": {
      "text/plain": [
       "DataFrame[cic_id: double, year: double, month: double, country_code: double, city_code: string, arrive_date: double, depart_date: double, state_code: string, gender: string, visa_type: string, flight_num: string, immigration_id: bigint]"
      ]
     },
     "execution_count": 61,
     "metadata": {},
     "output_type": "execute_result"
    }
   ],
   "source": [
    "# checking \n",
    "fact_immigration_df"
   ]
  },
  {
   "cell_type": "code",
   "execution_count": 62,
   "metadata": {
    "editable": true
   },
   "outputs": [],
   "source": [
    "# apply convert date \n",
    "fact_immigration_df = fact_immigration_df.withColumn('arrive_date',\\\n",
    "                                                     SAS_to_date_udf(col('arrive_date')))\n",
    "fact_immigration_df = fact_immigration_df.withColumn('depart_date',\\\n",
    "                                                    SAS_to_date_udf(col('depart_date')))"
   ]
  },
  {
   "cell_type": "code",
   "execution_count": 63,
   "metadata": {
    "editable": true
   },
   "outputs": [],
   "source": [
    "# convert country code , year, month to integer\n",
    "fact_immigration_df = fact_immigration_df.withColumn('country_code',F.col('country_code').cast('integer'))\n",
    "fact_immigration_df = fact_immigration_df.withColumn('year',F.col('year').cast('integer'))\n",
    "fact_immigration_df = fact_immigration_df.withColumn('month',F.col('month').cast('integer'))\n"
   ]
  },
  {
   "cell_type": "code",
   "execution_count": null,
   "metadata": {
    "editable": true
   },
   "outputs": [],
   "source": []
  },
  {
   "cell_type": "code",
   "execution_count": 64,
   "metadata": {
    "editable": true
   },
   "outputs": [
    {
     "data": {
      "text/plain": [
       "DataFrame[cic_id: double, year: int, month: int, country_code: int, city_code: string, arrive_date: date, depart_date: date, state_code: string, gender: string, visa_type: string, flight_num: string, immigration_id: bigint]"
      ]
     },
     "execution_count": 64,
     "metadata": {},
     "output_type": "execute_result"
    }
   ],
   "source": [
    "fact_immigration_df"
   ]
  },
  {
   "cell_type": "code",
   "execution_count": 60,
   "metadata": {
    "editable": true
   },
   "outputs": [
    {
     "name": "stdout",
     "output_type": "stream",
     "text": [
      "+------+----+-----+------------+---------+-----------+-----------+----------+------+---------+----------+--------------+\n",
      "|cic_id|year|month|country_code|city_code|arrive_date|depart_date|state_code|gender|visa_type|flight_num|immigration_id|\n",
      "+------+----+-----+------------+---------+-----------+-----------+----------+------+---------+----------+--------------+\n",
      "| 299.0|2016|    4|         103|      NYC| 2016-04-01| 2016-04-06|        NY|  null|       WT|     00087|             0|\n",
      "| 305.0|2016|    4|         103|      NYC| 2016-04-01| 2016-04-11|        NY|  null|       WT|     00087|             1|\n",
      "| 496.0|2016|    4|         103|      CHI| 2016-04-01| 2016-04-04|        IL|  null|       WB|     00065|             2|\n",
      "+------+----+-----+------------+---------+-----------+-----------+----------+------+---------+----------+--------------+\n",
      "only showing top 3 rows\n",
      "\n"
     ]
    }
   ],
   "source": [
    "fact_immigration_df.show(3)"
   ]
  },
  {
   "cell_type": "code",
   "execution_count": null,
   "metadata": {
    "editable": true
   },
   "outputs": [],
   "source": [
    "# write parquet \n",
    "fact_immigration_df.write.parquet(\"./fact_immigration\",mode=\"overwrite\")"
   ]
  },
  {
   "cell_type": "markdown",
   "metadata": {
    "editable": true
   },
   "source": [
    "### Create Data model: Dimension-airline-table"
   ]
  },
  {
   "cell_type": "code",
   "execution_count": 65,
   "metadata": {
    "editable": true
   },
   "outputs": [
    {
     "data": {
      "text/plain": [
       "DataFrame[cicid: double, i94yr: double, i94mon: double, i94cit: double, i94res: double, i94port: string, arrdate: double, i94mode: double, i94addr: string, depdate: double, i94bir: double, i94visa: double, count: double, dtadfile: string, entdepa: string, entdepd: string, entdepu: string, matflag: string, biryear: double, dtaddto: string, gender: string, airline: string, admnum: double, fltno: string, visatype: string]"
      ]
     },
     "execution_count": 65,
     "metadata": {},
     "output_type": "execute_result"
    }
   ],
   "source": [
    "immigration_df"
   ]
  },
  {
   "cell_type": "code",
   "execution_count": 66,
   "metadata": {
    "editable": true
   },
   "outputs": [
    {
     "name": "stdout",
     "output_type": "stream",
     "text": [
      "+-----+------+------+------+------+-------+-------+-------+-------+-------+------+-------+-----+--------+-------+-------+-------+-------+-------+--------+------+-------+---------------+-----+--------+\n",
      "|cicid| i94yr|i94mon|i94cit|i94res|i94port|arrdate|i94mode|i94addr|depdate|i94bir|i94visa|count|dtadfile|entdepa|entdepd|entdepu|matflag|biryear| dtaddto|gender|airline|         admnum|fltno|visatype|\n",
      "+-----+------+------+------+------+-------+-------+-------+-------+-------+------+-------+-----+--------+-------+-------+-------+-------+-------+--------+------+-------+---------------+-----+--------+\n",
      "|299.0|2016.0|   4.0| 103.0| 103.0|    NYC|20545.0|    1.0|     NY|20550.0|  54.0|    2.0|  1.0|20160401|      O|      O|   null|      M| 1962.0|06292016|  null|     OS|5.5425872433E10|00087|      WT|\n",
      "|305.0|2016.0|   4.0| 103.0| 103.0|    NYC|20545.0|    1.0|     NY|20555.0|  63.0|    2.0|  1.0|20160401|      O|      O|   null|      M| 1953.0|06292016|  null|     OS|5.5425817433E10|00087|      WT|\n",
      "|496.0|2016.0|   4.0| 103.0| 103.0|    CHI|20545.0|    1.0|     IL|20548.0|  64.0|    1.0|  1.0|20160401|      O|      O|   null|      M| 1952.0|06292016|  null|     OS|5.5428623333E10|00065|      WB|\n",
      "+-----+------+------+------+------+-------+-------+-------+-------+-------+------+-------+-----+--------+-------+-------+-------+-------+-------+--------+------+-------+---------------+-----+--------+\n",
      "only showing top 3 rows\n",
      "\n"
     ]
    }
   ],
   "source": [
    "immigration_df.show(3)"
   ]
  },
  {
   "cell_type": "code",
   "execution_count": 67,
   "metadata": {
    "editable": true
   },
   "outputs": [],
   "source": [
    "# create airline_df \n",
    "target_cols = ['cicid','airline','admnum','fltno','visatype']\n",
    "\n",
    "dim_airline_df = immigration_df.select(target_cols)\\\n",
    "    .withColumn('immi_airline_id',monotonically_increasing_id())"
   ]
  },
  {
   "cell_type": "code",
   "execution_count": 68,
   "metadata": {
    "editable": true
   },
   "outputs": [],
   "source": [
    "# rename columns \n",
    "new_cols = ['cic_id','airline','admission_num','flight_num','visa_type']\n",
    "\n",
    "dim_immi_airline = rename_columns(dim_airline_df, new_cols)"
   ]
  },
  {
   "cell_type": "code",
   "execution_count": 69,
   "metadata": {
    "editable": true
   },
   "outputs": [
    {
     "name": "stdout",
     "output_type": "stream",
     "text": [
      "+------+-------+---------------+----------+---------+---------------+\n",
      "|cic_id|airline|  admission_num|flight_num|visa_type|immi_airline_id|\n",
      "+------+-------+---------------+----------+---------+---------------+\n",
      "| 299.0|     OS|5.5425872433E10|     00087|       WT|              0|\n",
      "| 305.0|     OS|5.5425817433E10|     00087|       WT|              1|\n",
      "| 496.0|     OS|5.5428623333E10|     00065|       WB|              2|\n",
      "+------+-------+---------------+----------+---------+---------------+\n",
      "only showing top 3 rows\n",
      "\n"
     ]
    }
   ],
   "source": [
    "#checking \n",
    "dim_immi_airline.show(3)"
   ]
  },
  {
   "cell_type": "code",
   "execution_count": 70,
   "metadata": {
    "editable": true
   },
   "outputs": [
    {
     "data": {
      "text/plain": [
       "DataFrame[cic_id: double, airline: string, admission_num: double, flight_num: string, visa_type: string, immi_airline_id: bigint]"
      ]
     },
     "execution_count": 70,
     "metadata": {},
     "output_type": "execute_result"
    }
   ],
   "source": [
    "dim_immi_airline"
   ]
  },
  {
   "cell_type": "code",
   "execution_count": 74,
   "metadata": {
    "editable": true
   },
   "outputs": [],
   "source": [
    "# write dim_immi_airline table as parquet \n",
    "dim_immi_airline.write.parquet(\"./dim_immi_airline\",mode='overwrite')"
   ]
  },
  {
   "cell_type": "code",
   "execution_count": null,
   "metadata": {
    "editable": true
   },
   "outputs": [],
   "source": []
  },
  {
   "cell_type": "markdown",
   "metadata": {
    "editable": true
   },
   "source": [
    "- - -"
   ]
  },
  {
   "cell_type": "markdown",
   "metadata": {
    "editable": true
   },
   "source": [
    "### Create Data model: dimension-demography-table"
   ]
  },
  {
   "cell_type": "code",
   "execution_count": 71,
   "metadata": {
    "editable": true,
    "scrolled": true
   },
   "outputs": [
    {
     "data": {
      "text/plain": [
       "DataFrame[City: string, State: string, Median Age: string, Male Population: string, Female Population: string, Total Population: string, Number of Veterans: string, Foreign-born: string, Average Household Size: string, State Code: string, Race: string, Count: string]"
      ]
     },
     "execution_count": 71,
     "metadata": {},
     "output_type": "execute_result"
    }
   ],
   "source": [
    "demog_df"
   ]
  },
  {
   "cell_type": "code",
   "execution_count": 72,
   "metadata": {
    "editable": true
   },
   "outputs": [
    {
     "data": {
      "text/plain": [
       "['City',\n",
       " 'State',\n",
       " 'Median Age',\n",
       " 'Male Population',\n",
       " 'Female Population',\n",
       " 'Total Population',\n",
       " 'Number of Veterans',\n",
       " 'Foreign-born',\n",
       " 'Average Household Size',\n",
       " 'State Code',\n",
       " 'Race',\n",
       " 'Count']"
      ]
     },
     "execution_count": 72,
     "metadata": {},
     "output_type": "execute_result"
    }
   ],
   "source": [
    "demog_df.columns"
   ]
  },
  {
   "cell_type": "code",
   "execution_count": 73,
   "metadata": {
    "editable": true
   },
   "outputs": [],
   "source": [
    "# rename columns\n",
    "new_cols = ['city','state','median_age','male','female','total','veteran','foreign_born','avg_house_size','state_code','race','count']\n",
    "\n",
    "dim_demog_df= rename_columns(demog_df,new_cols)\n",
    "\n",
    "# add id pk column \n",
    "dim_demog_df = dim_demog_df.withColumn('demog_id',monotonically_increasing_id())"
   ]
  },
  {
   "cell_type": "code",
   "execution_count": 74,
   "metadata": {
    "editable": true
   },
   "outputs": [],
   "source": [
    "int_cols = ['male', 'female', 'total',\n",
    "                'veteran', 'foreign_born', 'count']\n",
    "float_cols = ['median_age','avg_house_size']\n"
   ]
  },
  {
   "cell_type": "code",
   "execution_count": 75,
   "metadata": {
    "editable": true
   },
   "outputs": [],
   "source": [
    "def convert_to_target_type(df, cols,target_type=\"\"):\n",
    "    \"\"\"\n",
    "    Convert the column to datatype you want \n",
    "    Args:\n",
    "        df : Spark dataframe to be processed.\n",
    "        cols : List of column names that should be converted to datatype\n",
    "        tartget_type : target type to convert to \n",
    "    Returns:\n",
    "        df : Processed Spark dataframe\n",
    "    \"\"\"\n",
    "\n",
    "    for col in [col for col in cols if col in df.columns]:\n",
    "        df = df.withColumn(col, df[col].cast(target_type))\n",
    "    return df"
   ]
  },
  {
   "cell_type": "code",
   "execution_count": 76,
   "metadata": {
    "editable": true
   },
   "outputs": [],
   "source": [
    "dim_demog_df = convert_to_target_type(dim_demog_df, int_cols, \"integer\")\n",
    "dim_demog_df = convert_to_target_type(dim_demog_df, float_cols, \"float\")"
   ]
  },
  {
   "cell_type": "code",
   "execution_count": 77,
   "metadata": {
    "editable": true
   },
   "outputs": [
    {
     "data": {
      "text/plain": [
       "DataFrame[city: string, state: string, median_age: float, male: int, female: int, total: int, veteran: int, foreign_born: int, avg_house_size: float, state_code: string, race: string, count: int, demog_id: bigint]"
      ]
     },
     "execution_count": 77,
     "metadata": {},
     "output_type": "execute_result"
    }
   ],
   "source": [
    "dim_demog_df"
   ]
  },
  {
   "cell_type": "code",
   "execution_count": 82,
   "metadata": {
    "editable": true
   },
   "outputs": [
    {
     "name": "stdout",
     "output_type": "stream",
     "text": [
      "+------------+----------+----------+-----+------+-----+-------+------------+--------------+----------+--------------------+-----+--------+\n",
      "|        city|     state|median_age| male|female|total|veteran|foreign_born|avg_house_size|state_code|                race|count|demog_id|\n",
      "+------------+----------+----------+-----+------+-----+-------+------------+--------------+----------+--------------------+-----+--------+\n",
      "|Arden-Arcade|California|      41.5|47596| 48680|96276|   6511|       13458|          2.18|        CA|Black or African-...|13647|       0|\n",
      "| Bloomington| Minnesota|      40.9|43318| 43118|86436|   6176|       10728|           2.3|        MN|Black or African-...| 5828|       1|\n",
      "|  Buena Park|California|      35.7|41593| 41671|83264|   3116|       28430|          3.55|        CA|               White|48412|       2|\n",
      "+------------+----------+----------+-----+------+-----+-------+------------+--------------+----------+--------------------+-----+--------+\n",
      "only showing top 3 rows\n",
      "\n"
     ]
    }
   ],
   "source": [
    "dim_demog_df.show(3)"
   ]
  },
  {
   "cell_type": "code",
   "execution_count": 83,
   "metadata": {
    "editable": true
   },
   "outputs": [],
   "source": [
    "# write dim_demog table as parquet \n",
    "dim_demog_df.write.parquet(\"./dim_demog\",mode='overwrite')"
   ]
  },
  {
   "cell_type": "code",
   "execution_count": null,
   "metadata": {
    "editable": true
   },
   "outputs": [],
   "source": []
  },
  {
   "cell_type": "code",
   "execution_count": null,
   "metadata": {
    "editable": true
   },
   "outputs": [],
   "source": []
  },
  {
   "cell_type": "code",
   "execution_count": null,
   "metadata": {
    "editable": true
   },
   "outputs": [],
   "source": []
  },
  {
   "cell_type": "markdown",
   "metadata": {
    "editable": true
   },
   "source": [
    "### Create Data model: Dimension-temperature-table"
   ]
  },
  {
   "cell_type": "code",
   "execution_count": 84,
   "metadata": {
    "editable": true
   },
   "outputs": [
    {
     "name": "stdout",
     "output_type": "stream",
     "text": [
      "+----------+------------------+-----------------------------+--------+-------+--------+---------+\n",
      "|        dt|AverageTemperature|AverageTemperatureUncertainty|    City|Country|Latitude|Longitude|\n",
      "+----------+------------------+-----------------------------+--------+-------+--------+---------+\n",
      "|1750-02-01|            10.122|                        2.166|A Coruña|  Spain|  42.59N|    8.73W|\n",
      "|1752-12-01|             2.242|                        1.175| Aalborg|Denmark|  57.05N|   10.33E|\n",
      "|1753-02-01|             8.237|                         2.77|A Coruña|  Spain|  42.59N|    8.73W|\n",
      "+----------+------------------+-----------------------------+--------+-------+--------+---------+\n",
      "only showing top 3 rows\n",
      "\n"
     ]
    }
   ],
   "source": [
    "temp_df.show(3)"
   ]
  },
  {
   "cell_type": "code",
   "execution_count": 78,
   "metadata": {
    "editable": true
   },
   "outputs": [],
   "source": [
    "# filter by only United States \n",
    "temp_df_usa = temp_df.filter(temp_df.Country == 'United States')"
   ]
  },
  {
   "cell_type": "code",
   "execution_count": 79,
   "metadata": {
    "editable": true
   },
   "outputs": [
    {
     "data": {
      "text/plain": [
       "DataFrame[dt: string, AverageTemperature: string, AverageTemperatureUncertainty: string, City: string, Country: string, Latitude: string, Longitude: string]"
      ]
     },
     "execution_count": 79,
     "metadata": {},
     "output_type": "execute_result"
    }
   ],
   "source": [
    "temp_df_usa"
   ]
  },
  {
   "cell_type": "code",
   "execution_count": 80,
   "metadata": {
    "editable": true
   },
   "outputs": [],
   "source": [
    "# rename columns \n",
    "new_cols = ['dt','avg_temp','avg_temp_uncer','city','country','lat','long']\n",
    "\n",
    "temp_df_usa= rename_columns(temp_df_usa,new_cols)"
   ]
  },
  {
   "cell_type": "code",
   "execution_count": 81,
   "metadata": {
    "editable": true
   },
   "outputs": [],
   "source": [
    "# convert dt to date_time\n",
    "temp_df_usa = temp_df_usa.withColumn(\"dt\",to_date(F.col(\"dt\"),'yyyy-MM-dd'))\n",
    "\n"
   ]
  },
  {
   "cell_type": "code",
   "execution_count": 82,
   "metadata": {
    "editable": true
   },
   "outputs": [],
   "source": [
    "# convert it to float\n",
    "float_cols = [\"avg_temp\",\"avg_temp_uncer\"]\n",
    "\n",
    "temp_df_usa = convert_to_target_type(temp_df_usa, float_cols, \"float\")"
   ]
  },
  {
   "cell_type": "code",
   "execution_count": 83,
   "metadata": {
    "editable": true
   },
   "outputs": [],
   "source": [
    "# get year, month columns \n",
    "temp_df_usa = temp_df_usa.withColumn(\"year\",year(F.col(\"dt\")))\n",
    "temp_df_usa = temp_df_usa.withColumn(\"month\",month(F.col(\"dt\")))\n",
    "\n",
    "# add id column \n",
    "temp_df_usa = temp_df_usa.withColumn('temp_id',monotonically_increasing_id())"
   ]
  },
  {
   "cell_type": "code",
   "execution_count": 84,
   "metadata": {
    "editable": true
   },
   "outputs": [],
   "source": [
    "# drop dt \n",
    "dim_temp = temp_df_usa.drop('dt')"
   ]
  },
  {
   "cell_type": "code",
   "execution_count": 92,
   "metadata": {
    "editable": true
   },
   "outputs": [
    {
     "name": "stdout",
     "output_type": "stream",
     "text": [
      "+--------+--------------+-------+-------------+------+-------+----+-----+-------+\n",
      "|avg_temp|avg_temp_uncer|   city|      country|   lat|   long|year|month|temp_id|\n",
      "+--------+--------------+-------+-------------+------+-------+----+-----+-------+\n",
      "|  26.553|         2.291|Abilene|United States|32.95N|100.53W|1821|    7|      0|\n",
      "|  17.284|         3.631|Abilene|United States|32.95N|100.53W|1827|    4|      1|\n",
      "|   5.296|         2.678|Abilene|United States|32.95N|100.53W|1832|    1|      2|\n",
      "+--------+--------------+-------+-------------+------+-------+----+-----+-------+\n",
      "only showing top 3 rows\n",
      "\n"
     ]
    }
   ],
   "source": [
    "dim_temp.show(3)"
   ]
  },
  {
   "cell_type": "code",
   "execution_count": 85,
   "metadata": {
    "editable": true
   },
   "outputs": [
    {
     "name": "stdout",
     "output_type": "stream",
     "text": [
      "+--------+--------------+----+-------+---+----+----+-----+-------+\n",
      "|avg_temp|avg_temp_uncer|city|country|lat|long|year|month|temp_id|\n",
      "+--------+--------------+----+-------+---+----+----+-----+-------+\n",
      "+--------+--------------+----+-------+---+----+----+-----+-------+\n",
      "\n"
     ]
    }
   ],
   "source": [
    "# checking 2016 \n",
    "dim_temp.filter(temp_df_usa.year == 2016).show()\n"
   ]
  },
  {
   "cell_type": "code",
   "execution_count": 94,
   "metadata": {
    "editable": true
   },
   "outputs": [
    {
     "data": {
      "text/plain": [
       "DataFrame[avg_temp: float, avg_temp_uncer: float, city: string, country: string, lat: string, long: string, year: int, month: int, temp_id: bigint]"
      ]
     },
     "execution_count": 94,
     "metadata": {},
     "output_type": "execute_result"
    }
   ],
   "source": [
    "dim_temp"
   ]
  },
  {
   "cell_type": "code",
   "execution_count": 95,
   "metadata": {
    "editable": true
   },
   "outputs": [],
   "source": [
    "# write temperature data frame \n",
    "dim_temp.write.parquet(\"./dim_temp\",mode=\"overwrite\")"
   ]
  },
  {
   "cell_type": "markdown",
   "metadata": {
    "editable": true
   },
   "source": [
    "_ _ _"
   ]
  },
  {
   "cell_type": "markdown",
   "metadata": {
    "editable": true
   },
   "source": [
    "### Create Data model: Dimension-country-code"
   ]
  },
  {
   "cell_type": "code",
   "execution_count": 101,
   "metadata": {
    "editable": true
   },
   "outputs": [
    {
     "data": {
      "text/html": [
       "<div>\n",
       "<style scoped>\n",
       "    .dataframe tbody tr th:only-of-type {\n",
       "        vertical-align: middle;\n",
       "    }\n",
       "\n",
       "    .dataframe tbody tr th {\n",
       "        vertical-align: top;\n",
       "    }\n",
       "\n",
       "    .dataframe thead th {\n",
       "        text-align: right;\n",
       "    }\n",
       "</style>\n",
       "<table border=\"1\" class=\"dataframe\">\n",
       "  <thead>\n",
       "    <tr style=\"text-align: right;\">\n",
       "      <th></th>\n",
       "      <th>code</th>\n",
       "      <th>country</th>\n",
       "    </tr>\n",
       "  </thead>\n",
       "  <tbody>\n",
       "    <tr>\n",
       "      <th>0</th>\n",
       "      <td>582</td>\n",
       "      <td>MEXICO Air Sea, and Not Reported (I-94, no lan...</td>\n",
       "    </tr>\n",
       "    <tr>\n",
       "      <th>1</th>\n",
       "      <td>236</td>\n",
       "      <td>AFGHANISTAN</td>\n",
       "    </tr>\n",
       "    <tr>\n",
       "      <th>2</th>\n",
       "      <td>101</td>\n",
       "      <td>ALBANIA</td>\n",
       "    </tr>\n",
       "    <tr>\n",
       "      <th>3</th>\n",
       "      <td>316</td>\n",
       "      <td>ALGERIA</td>\n",
       "    </tr>\n",
       "    <tr>\n",
       "      <th>4</th>\n",
       "      <td>102</td>\n",
       "      <td>ANDORRA</td>\n",
       "    </tr>\n",
       "    <tr>\n",
       "      <th>5</th>\n",
       "      <td>324</td>\n",
       "      <td>ANGOLA</td>\n",
       "    </tr>\n",
       "    <tr>\n",
       "      <th>6</th>\n",
       "      <td>529</td>\n",
       "      <td>ANGUILLA</td>\n",
       "    </tr>\n",
       "    <tr>\n",
       "      <th>7</th>\n",
       "      <td>518</td>\n",
       "      <td>ANTIGUA-BARBUDA</td>\n",
       "    </tr>\n",
       "    <tr>\n",
       "      <th>8</th>\n",
       "      <td>687</td>\n",
       "      <td>ARGENTINA</td>\n",
       "    </tr>\n",
       "    <tr>\n",
       "      <th>9</th>\n",
       "      <td>151</td>\n",
       "      <td>ARMENIA</td>\n",
       "    </tr>\n",
       "    <tr>\n",
       "      <th>10</th>\n",
       "      <td>532</td>\n",
       "      <td>ARUBA</td>\n",
       "    </tr>\n",
       "    <tr>\n",
       "      <th>11</th>\n",
       "      <td>438</td>\n",
       "      <td>AUSTRALIA</td>\n",
       "    </tr>\n",
       "    <tr>\n",
       "      <th>12</th>\n",
       "      <td>103</td>\n",
       "      <td>AUSTRIA</td>\n",
       "    </tr>\n",
       "    <tr>\n",
       "      <th>13</th>\n",
       "      <td>152</td>\n",
       "      <td>AZERBAIJAN</td>\n",
       "    </tr>\n",
       "    <tr>\n",
       "      <th>14</th>\n",
       "      <td>512</td>\n",
       "      <td>BAHAMAS</td>\n",
       "    </tr>\n",
       "    <tr>\n",
       "      <th>15</th>\n",
       "      <td>298</td>\n",
       "      <td>BAHRAIN</td>\n",
       "    </tr>\n",
       "    <tr>\n",
       "      <th>16</th>\n",
       "      <td>274</td>\n",
       "      <td>BANGLADESH</td>\n",
       "    </tr>\n",
       "    <tr>\n",
       "      <th>17</th>\n",
       "      <td>513</td>\n",
       "      <td>BARBADOS</td>\n",
       "    </tr>\n",
       "    <tr>\n",
       "      <th>18</th>\n",
       "      <td>104</td>\n",
       "      <td>BELGIUM</td>\n",
       "    </tr>\n",
       "    <tr>\n",
       "      <th>19</th>\n",
       "      <td>581</td>\n",
       "      <td>BELIZE</td>\n",
       "    </tr>\n",
       "    <tr>\n",
       "      <th>20</th>\n",
       "      <td>386</td>\n",
       "      <td>BENIN</td>\n",
       "    </tr>\n",
       "    <tr>\n",
       "      <th>21</th>\n",
       "      <td>509</td>\n",
       "      <td>BERMUDA</td>\n",
       "    </tr>\n",
       "    <tr>\n",
       "      <th>22</th>\n",
       "      <td>153</td>\n",
       "      <td>BELARUS</td>\n",
       "    </tr>\n",
       "    <tr>\n",
       "      <th>23</th>\n",
       "      <td>242</td>\n",
       "      <td>BHUTAN</td>\n",
       "    </tr>\n",
       "    <tr>\n",
       "      <th>24</th>\n",
       "      <td>688</td>\n",
       "      <td>BOLIVIA</td>\n",
       "    </tr>\n",
       "    <tr>\n",
       "      <th>25</th>\n",
       "      <td>717</td>\n",
       "      <td>BONAIRE, ST EUSTATIUS, SABA</td>\n",
       "    </tr>\n",
       "    <tr>\n",
       "      <th>26</th>\n",
       "      <td>164</td>\n",
       "      <td>BOSNIA-HERZEGOVINA</td>\n",
       "    </tr>\n",
       "    <tr>\n",
       "      <th>27</th>\n",
       "      <td>336</td>\n",
       "      <td>BOTSWANA</td>\n",
       "    </tr>\n",
       "    <tr>\n",
       "      <th>28</th>\n",
       "      <td>689</td>\n",
       "      <td>BRAZIL</td>\n",
       "    </tr>\n",
       "    <tr>\n",
       "      <th>29</th>\n",
       "      <td>525</td>\n",
       "      <td>BRITISH VIRGIN ISLANDS</td>\n",
       "    </tr>\n",
       "    <tr>\n",
       "      <th>...</th>\n",
       "      <td>...</td>\n",
       "      <td>...</td>\n",
       "    </tr>\n",
       "    <tr>\n",
       "      <th>259</th>\n",
       "      <td>999</td>\n",
       "      <td>INVALID: UNKNOWN</td>\n",
       "    </tr>\n",
       "    <tr>\n",
       "      <th>260</th>\n",
       "      <td>239</td>\n",
       "      <td>INVALID: UNKNOWN COUNTRY</td>\n",
       "    </tr>\n",
       "    <tr>\n",
       "      <th>261</th>\n",
       "      <td>134</td>\n",
       "      <td>INVALID: USSR</td>\n",
       "    </tr>\n",
       "    <tr>\n",
       "      <th>262</th>\n",
       "      <td>506</td>\n",
       "      <td>INVALID: U.S. VIRGIN ISLANDS</td>\n",
       "    </tr>\n",
       "    <tr>\n",
       "      <th>263</th>\n",
       "      <td>755</td>\n",
       "      <td>INVALID: WAKE ISLAND</td>\n",
       "    </tr>\n",
       "    <tr>\n",
       "      <th>264</th>\n",
       "      <td>311</td>\n",
       "      <td>Collapsed Tanzania (should not show)</td>\n",
       "    </tr>\n",
       "    <tr>\n",
       "      <th>265</th>\n",
       "      <td>741</td>\n",
       "      <td>Collapsed Curacao (should not show)</td>\n",
       "    </tr>\n",
       "    <tr>\n",
       "      <th>266</th>\n",
       "      <td>54</td>\n",
       "      <td>No Country Code (54)</td>\n",
       "    </tr>\n",
       "    <tr>\n",
       "      <th>267</th>\n",
       "      <td>100</td>\n",
       "      <td>No Country Code (100)</td>\n",
       "    </tr>\n",
       "    <tr>\n",
       "      <th>268</th>\n",
       "      <td>187</td>\n",
       "      <td>No Country Code (187)</td>\n",
       "    </tr>\n",
       "    <tr>\n",
       "      <th>269</th>\n",
       "      <td>190</td>\n",
       "      <td>No Country Code (190)</td>\n",
       "    </tr>\n",
       "    <tr>\n",
       "      <th>270</th>\n",
       "      <td>200</td>\n",
       "      <td>No Country Code (200)</td>\n",
       "    </tr>\n",
       "    <tr>\n",
       "      <th>271</th>\n",
       "      <td>219</td>\n",
       "      <td>No Country Code (219)</td>\n",
       "    </tr>\n",
       "    <tr>\n",
       "      <th>272</th>\n",
       "      <td>238</td>\n",
       "      <td>No Country Code (238)</td>\n",
       "    </tr>\n",
       "    <tr>\n",
       "      <th>273</th>\n",
       "      <td>277</td>\n",
       "      <td>No Country Code (277)</td>\n",
       "    </tr>\n",
       "    <tr>\n",
       "      <th>274</th>\n",
       "      <td>293</td>\n",
       "      <td>No Country Code (293)</td>\n",
       "    </tr>\n",
       "    <tr>\n",
       "      <th>275</th>\n",
       "      <td>300</td>\n",
       "      <td>No Country Code (300)</td>\n",
       "    </tr>\n",
       "    <tr>\n",
       "      <th>276</th>\n",
       "      <td>319</td>\n",
       "      <td>No Country Code (319)</td>\n",
       "    </tr>\n",
       "    <tr>\n",
       "      <th>277</th>\n",
       "      <td>365</td>\n",
       "      <td>No Country Code (365)</td>\n",
       "    </tr>\n",
       "    <tr>\n",
       "      <th>278</th>\n",
       "      <td>395</td>\n",
       "      <td>No Country Code (395)</td>\n",
       "    </tr>\n",
       "    <tr>\n",
       "      <th>279</th>\n",
       "      <td>400</td>\n",
       "      <td>No Country Code (400)</td>\n",
       "    </tr>\n",
       "    <tr>\n",
       "      <th>280</th>\n",
       "      <td>485</td>\n",
       "      <td>No Country Code (485)</td>\n",
       "    </tr>\n",
       "    <tr>\n",
       "      <th>281</th>\n",
       "      <td>503</td>\n",
       "      <td>No Country Code (503)</td>\n",
       "    </tr>\n",
       "    <tr>\n",
       "      <th>282</th>\n",
       "      <td>589</td>\n",
       "      <td>No Country Code (589)</td>\n",
       "    </tr>\n",
       "    <tr>\n",
       "      <th>283</th>\n",
       "      <td>592</td>\n",
       "      <td>No Country Code (592)</td>\n",
       "    </tr>\n",
       "    <tr>\n",
       "      <th>284</th>\n",
       "      <td>791</td>\n",
       "      <td>No Country Code (791)</td>\n",
       "    </tr>\n",
       "    <tr>\n",
       "      <th>285</th>\n",
       "      <td>849</td>\n",
       "      <td>No Country Code (849)</td>\n",
       "    </tr>\n",
       "    <tr>\n",
       "      <th>286</th>\n",
       "      <td>914</td>\n",
       "      <td>No Country Code (914)</td>\n",
       "    </tr>\n",
       "    <tr>\n",
       "      <th>287</th>\n",
       "      <td>944</td>\n",
       "      <td>No Country Code (944)</td>\n",
       "    </tr>\n",
       "    <tr>\n",
       "      <th>288</th>\n",
       "      <td>996</td>\n",
       "      <td>No Country Code (996)</td>\n",
       "    </tr>\n",
       "  </tbody>\n",
       "</table>\n",
       "<p>289 rows × 2 columns</p>\n",
       "</div>"
      ],
      "text/plain": [
       "    code                                            country\n",
       "0    582  MEXICO Air Sea, and Not Reported (I-94, no lan...\n",
       "1    236                                        AFGHANISTAN\n",
       "2    101                                            ALBANIA\n",
       "3    316                                            ALGERIA\n",
       "4    102                                            ANDORRA\n",
       "5    324                                             ANGOLA\n",
       "6    529                                           ANGUILLA\n",
       "7    518                                    ANTIGUA-BARBUDA\n",
       "8    687                                          ARGENTINA\n",
       "9    151                                            ARMENIA\n",
       "10   532                                              ARUBA\n",
       "11   438                                          AUSTRALIA\n",
       "12   103                                            AUSTRIA\n",
       "13   152                                         AZERBAIJAN\n",
       "14   512                                            BAHAMAS\n",
       "15   298                                            BAHRAIN\n",
       "16   274                                         BANGLADESH\n",
       "17   513                                           BARBADOS\n",
       "18   104                                            BELGIUM\n",
       "19   581                                             BELIZE\n",
       "20   386                                              BENIN\n",
       "21   509                                            BERMUDA\n",
       "22   153                                            BELARUS\n",
       "23   242                                             BHUTAN\n",
       "24   688                                            BOLIVIA\n",
       "25   717                        BONAIRE, ST EUSTATIUS, SABA\n",
       "26   164                                 BOSNIA-HERZEGOVINA\n",
       "27   336                                           BOTSWANA\n",
       "28   689                                             BRAZIL\n",
       "29   525                             BRITISH VIRGIN ISLANDS\n",
       "..   ...                                                ...\n",
       "259  999                                   INVALID: UNKNOWN\n",
       "260  239                           INVALID: UNKNOWN COUNTRY\n",
       "261  134                                      INVALID: USSR\n",
       "262  506                       INVALID: U.S. VIRGIN ISLANDS\n",
       "263  755                               INVALID: WAKE ISLAND\n",
       "264  311               Collapsed Tanzania (should not show)\n",
       "265  741                Collapsed Curacao (should not show)\n",
       "266   54                               No Country Code (54)\n",
       "267  100                              No Country Code (100)\n",
       "268  187                              No Country Code (187)\n",
       "269  190                              No Country Code (190)\n",
       "270  200                              No Country Code (200)\n",
       "271  219                              No Country Code (219)\n",
       "272  238                              No Country Code (238)\n",
       "273  277                              No Country Code (277)\n",
       "274  293                              No Country Code (293)\n",
       "275  300                              No Country Code (300)\n",
       "276  319                              No Country Code (319)\n",
       "277  365                              No Country Code (365)\n",
       "278  395                              No Country Code (395)\n",
       "279  400                              No Country Code (400)\n",
       "280  485                              No Country Code (485)\n",
       "281  503                              No Country Code (503)\n",
       "282  589                              No Country Code (589)\n",
       "283  592                              No Country Code (592)\n",
       "284  791                              No Country Code (791)\n",
       "285  849                              No Country Code (849)\n",
       "286  914                              No Country Code (914)\n",
       "287  944                              No Country Code (944)\n",
       "288  996                              No Country Code (996)\n",
       "\n",
       "[289 rows x 2 columns]"
      ]
     },
     "execution_count": 101,
     "metadata": {},
     "output_type": "execute_result"
    }
   ],
   "source": [
    "df_country_code"
   ]
  },
  {
   "cell_type": "code",
   "execution_count": 94,
   "metadata": {
    "editable": true
   },
   "outputs": [
    {
     "name": "stdout",
     "output_type": "stream",
     "text": [
      "<class 'pandas.core.frame.DataFrame'>\n",
      "RangeIndex: 289 entries, 0 to 288\n",
      "Data columns (total 2 columns):\n",
      "code       289 non-null object\n",
      "country    289 non-null object\n",
      "dtypes: object(2)\n",
      "memory usage: 4.6+ KB\n"
     ]
    }
   ],
   "source": [
    "df_country_code.info()"
   ]
  },
  {
   "cell_type": "code",
   "execution_count": 98,
   "metadata": {
    "editable": true
   },
   "outputs": [],
   "source": [
    "# convert code column's dtype into int \n",
    "df_country_code['code'] = df_country_code['code'].astype('int')"
   ]
  },
  {
   "cell_type": "code",
   "execution_count": 99,
   "metadata": {
    "editable": true
   },
   "outputs": [
    {
     "name": "stdout",
     "output_type": "stream",
     "text": [
      "<class 'pandas.core.frame.DataFrame'>\n",
      "RangeIndex: 289 entries, 0 to 288\n",
      "Data columns (total 2 columns):\n",
      "code       289 non-null int64\n",
      "country    289 non-null object\n",
      "dtypes: int64(1), object(1)\n",
      "memory usage: 4.6+ KB\n"
     ]
    }
   ],
   "source": [
    "df_country_code.info()"
   ]
  },
  {
   "cell_type": "code",
   "execution_count": 104,
   "metadata": {
    "editable": true
   },
   "outputs": [
    {
     "data": {
      "text/plain": [
       "code       289\n",
       "country    289\n",
       "dtype: int64"
      ]
     },
     "execution_count": 104,
     "metadata": {},
     "output_type": "execute_result"
    }
   ],
   "source": [
    "df_country_code.count()"
   ]
  },
  {
   "cell_type": "code",
   "execution_count": 101,
   "metadata": {
    "editable": true,
    "scrolled": true
   },
   "outputs": [],
   "source": [
    "# save country_code table as parquet \n",
    "df_country_code.to_csv(\"./dim_country\")"
   ]
  },
  {
   "cell_type": "code",
   "execution_count": null,
   "metadata": {
    "editable": true
   },
   "outputs": [],
   "source": []
  },
  {
   "cell_type": "markdown",
   "metadata": {
    "editable": true
   },
   "source": [
    "_ __"
   ]
  },
  {
   "cell_type": "markdown",
   "metadata": {
    "editable": true
   },
   "source": [
    "### Create Data model: dimension- citycode Table"
   ]
  },
  {
   "cell_type": "code",
   "execution_count": 102,
   "metadata": {
    "editable": true
   },
   "outputs": [
    {
     "data": {
      "text/html": [
       "<div>\n",
       "<style scoped>\n",
       "    .dataframe tbody tr th:only-of-type {\n",
       "        vertical-align: middle;\n",
       "    }\n",
       "\n",
       "    .dataframe tbody tr th {\n",
       "        vertical-align: top;\n",
       "    }\n",
       "\n",
       "    .dataframe thead th {\n",
       "        text-align: right;\n",
       "    }\n",
       "</style>\n",
       "<table border=\"1\" class=\"dataframe\">\n",
       "  <thead>\n",
       "    <tr style=\"text-align: right;\">\n",
       "      <th></th>\n",
       "      <th>code</th>\n",
       "      <th>city</th>\n",
       "    </tr>\n",
       "  </thead>\n",
       "  <tbody>\n",
       "    <tr>\n",
       "      <th>0</th>\n",
       "      <td>ALC</td>\n",
       "      <td>ALCAN, AK</td>\n",
       "    </tr>\n",
       "    <tr>\n",
       "      <th>1</th>\n",
       "      <td>ANC</td>\n",
       "      <td>ANCHORAGE, AK</td>\n",
       "    </tr>\n",
       "    <tr>\n",
       "      <th>2</th>\n",
       "      <td>BAR</td>\n",
       "      <td>BAKER AAF - BAKER ISLAND, AK</td>\n",
       "    </tr>\n",
       "    <tr>\n",
       "      <th>3</th>\n",
       "      <td>DAC</td>\n",
       "      <td>DALTONS CACHE, AK</td>\n",
       "    </tr>\n",
       "    <tr>\n",
       "      <th>4</th>\n",
       "      <td>PIZ</td>\n",
       "      <td>DEW STATION PT LAY DEW, AK</td>\n",
       "    </tr>\n",
       "  </tbody>\n",
       "</table>\n",
       "</div>"
      ],
      "text/plain": [
       "  code                          city\n",
       "0  ALC                     ALCAN, AK\n",
       "1  ANC                 ANCHORAGE, AK\n",
       "2  BAR  BAKER AAF - BAKER ISLAND, AK\n",
       "3  DAC             DALTONS CACHE, AK\n",
       "4  PIZ    DEW STATION PT LAY DEW, AK"
      ]
     },
     "execution_count": 102,
     "metadata": {},
     "output_type": "execute_result"
    }
   ],
   "source": [
    "df_city_code.head()"
   ]
  },
  {
   "cell_type": "code",
   "execution_count": 103,
   "metadata": {
    "editable": true
   },
   "outputs": [
    {
     "data": {
      "text/plain": [
       "code    660\n",
       "city    660\n",
       "dtype: int64"
      ]
     },
     "execution_count": 103,
     "metadata": {},
     "output_type": "execute_result"
    }
   ],
   "source": [
    "df_city_code.count()"
   ]
  },
  {
   "cell_type": "code",
   "execution_count": 105,
   "metadata": {
    "editable": true
   },
   "outputs": [],
   "source": [
    "# write as csv \n",
    "df_city_code.to_csv(\"./dim_city\")"
   ]
  },
  {
   "cell_type": "markdown",
   "metadata": {
    "editable": true
   },
   "source": [
    "### Create Data model: Dimension - State Table"
   ]
  },
  {
   "cell_type": "code",
   "execution_count": 106,
   "metadata": {
    "editable": true
   },
   "outputs": [
    {
     "data": {
      "text/plain": [
       "(  code       state\n",
       " 0   AL     ALABAMA\n",
       " 1   AK      ALASKA\n",
       " 2   AZ     ARIZONA\n",
       " 3   AR    ARKANSAS\n",
       " 4   CA  CALIFORNIA, code     55\n",
       " state    55\n",
       " dtype: int64)"
      ]
     },
     "execution_count": 106,
     "metadata": {},
     "output_type": "execute_result"
    }
   ],
   "source": [
    "df_state_code.head(), df_state_code.count()"
   ]
  },
  {
   "cell_type": "code",
   "execution_count": 108,
   "metadata": {
    "editable": true
   },
   "outputs": [],
   "source": [
    "# write as csv \n",
    "df_state_code.to_csv(\"./dim_state\")"
   ]
  },
  {
   "cell_type": "markdown",
   "metadata": {
    "editable": true
   },
   "source": [
    "___"
   ]
  },
  {
   "cell_type": "markdown",
   "metadata": {
    "editable": true
   },
   "source": [
    "### Create Data model: Dimension - Visa Table"
   ]
  },
  {
   "cell_type": "code",
   "execution_count": 109,
   "metadata": {
    "editable": true
   },
   "outputs": [
    {
     "data": {
      "text/plain": [
       "DataFrame[cicid: double, i94yr: double, i94mon: double, i94cit: double, i94res: double, i94port: string, arrdate: double, i94mode: double, i94addr: string, depdate: double, i94bir: double, i94visa: double, count: double, dtadfile: string, entdepa: string, entdepd: string, entdepu: string, matflag: string, biryear: double, dtaddto: string, gender: string, airline: string, admnum: double, fltno: string, visatype: string]"
      ]
     },
     "execution_count": 109,
     "metadata": {},
     "output_type": "execute_result"
    }
   ],
   "source": [
    "# checking immigration dataset to get columns related to visa\n",
    "immigration_df"
   ]
  },
  {
   "cell_type": "code",
   "execution_count": 87,
   "metadata": {
    "editable": true
   },
   "outputs": [
    {
     "name": "stdout",
     "output_type": "stream",
     "text": [
      "+--------+-------+\n",
      "|visatype|i94visa|\n",
      "+--------+-------+\n",
      "|      CP|    2.0|\n",
      "|     CPL|    2.0|\n",
      "|     GMB|    1.0|\n",
      "|     SBP|    2.0|\n",
      "|      B1|    1.0|\n",
      "|       I|    1.0|\n",
      "|      F2|    3.0|\n",
      "|      E1|    1.0|\n",
      "|      M2|    3.0|\n",
      "|      WB|    1.0|\n",
      "|      WT|    2.0|\n",
      "|      E2|    1.0|\n",
      "|      M1|    3.0|\n",
      "|     GMT|    2.0|\n",
      "|      B2|    2.0|\n",
      "|      I1|    1.0|\n",
      "|      F1|    3.0|\n",
      "+--------+-------+\n",
      "\n"
     ]
    }
   ],
   "source": [
    "# create visatype df from visatype column \n",
    "df_visatype = immigration_df.select(['visatype','i94visa']).distinct()\n",
    "df_visatype.show()"
   ]
  },
  {
   "cell_type": "code",
   "execution_count": 88,
   "metadata": {
    "editable": true
   },
   "outputs": [],
   "source": [
    "# get_visa_type2\n",
    "def get_visa_group(visa):\n",
    "    \"\"\"\n",
    "        change i94visa to visa group\n",
    "    \"\"\"\n",
    "    visatype2 = ''\n",
    "    if visa == 1.0:\n",
    "        visatype2= 'Business'\n",
    "    elif visa == 2.0:\n",
    "        visatype2 = 'Pleasure'\n",
    "    elif visa == 3.0:\n",
    "        visatype2 = \"Student\"\n",
    "    return visatype2"
   ]
  },
  {
   "cell_type": "code",
   "execution_count": 89,
   "metadata": {
    "editable": true
   },
   "outputs": [],
   "source": [
    "# set udf to create visagroup function\n",
    "get_visa_group_udf = udf(lambda x:get_visa_group(x))"
   ]
  },
  {
   "cell_type": "code",
   "execution_count": 90,
   "metadata": {
    "editable": true
   },
   "outputs": [],
   "source": [
    "# create visa_group on visatype dataframe \n",
    "df_visatype = df_visatype.withColumn('visa_group',get_visa_group_udf('i94visa'))\n",
    "# rename on visatype to visa_type \n",
    "df_visatype = df_visatype.withColumnRenamed(\"visatype\",\"visa_type\")\\\n",
    "    .withColumnRenamed(\"i94visa\",\"visa_code\")\n",
    "\n",
    "# add an id to visatype\n",
    "df_visatype = df_visatype.withColumn(\"visa_type_key\",monotonically_increasing_id())"
   ]
  },
  {
   "cell_type": "code",
   "execution_count": 114,
   "metadata": {
    "editable": true
   },
   "outputs": [
    {
     "name": "stdout",
     "output_type": "stream",
     "text": [
      "+---------+---------+----------+-------------+\n",
      "|visa_type|visa_code|visa_group|visa_type_key|\n",
      "+---------+---------+----------+-------------+\n",
      "|       CP|      2.0|  Pleasure|  60129542144|\n",
      "|      CPL|      2.0|  Pleasure| 335007449088|\n",
      "|      GMB|      1.0|  Business| 395136991232|\n",
      "|      SBP|      2.0|  Pleasure| 541165879296|\n",
      "|       B1|      1.0|  Business| 566935683072|\n",
      "|        I|      1.0|  Business| 764504178688|\n",
      "|       F2|      3.0|   Student| 816043786240|\n",
      "|       E1|      1.0|  Business| 987842478080|\n",
      "|       M2|      3.0|   Student|1056561954816|\n",
      "|       WB|      1.0|  Business|1099511627776|\n",
      "|       WT|      2.0|  Pleasure|1142461300736|\n",
      "|       E2|      1.0|  Business|1176821039104|\n",
      "|       M1|      3.0|   Student|1314259992576|\n",
      "|      GMT|      2.0|  Pleasure|1314259992577|\n",
      "|       B2|      2.0|  Pleasure|1331439861760|\n",
      "|       I1|      1.0|  Business|1443109011456|\n",
      "|       F1|      3.0|   Student|1529008357376|\n",
      "+---------+---------+----------+-------------+\n",
      "\n"
     ]
    }
   ],
   "source": [
    "df_visatype.show()"
   ]
  },
  {
   "cell_type": "code",
   "execution_count": 105,
   "metadata": {
    "editable": true
   },
   "outputs": [
    {
     "data": {
      "text/plain": [
       "DataFrame[visa_type: string, visa_code: double, visa_group: string, visa_type_key: bigint]"
      ]
     },
     "execution_count": 105,
     "metadata": {},
     "output_type": "execute_result"
    }
   ],
   "source": [
    "df_visatype"
   ]
  },
  {
   "cell_type": "code",
   "execution_count": 195,
   "metadata": {
    "editable": true
   },
   "outputs": [],
   "source": [
    "# save visatype dataframe as dim_visa\n",
    "df_visatype.write.parquet(\"./dim_visa\",mode='overwrite')"
   ]
  },
  {
   "cell_type": "markdown",
   "metadata": {
    "editable": true
   },
   "source": [
    "___"
   ]
  },
  {
   "cell_type": "markdown",
   "metadata": {
    "editable": true
   },
   "source": [
    "#### 4.2 Data Quality Checks\n",
    "Explain the data quality checks you'll perform to ensure the pipeline ran as expected. These could include:\n",
    " * Integrity constraints on the relational database (e.g., unique key, data type, etc.)\n",
    " * Unit tests for the scripts to ensure they are doing the right thing\n",
    " * Source/Count checks to ensure completeness\n",
    " \n",
    "Run Quality Checks"
   ]
  },
  {
   "cell_type": "markdown",
   "metadata": {
    "editable": true
   },
   "source": [
    "- Data Quality Checks:\n",
    "    1. Data schema of every dimensional table matchs data model \n",
    "    2. No empty table after running ETL data pipeline"
   ]
  },
  {
   "cell_type": "code",
   "execution_count": 97,
   "metadata": {
    "editable": true
   },
   "outputs": [],
   "source": [
    "# Perform quality checks here\n",
    "def quality_checks(df, table_name):\n",
    "    \"\"\"\n",
    "    Check count of dataframe correspond to table\n",
    "    \n",
    "        df: spark dataframe to check counts on\n",
    "        table_name: corresponding name of table\n",
    "    \"\"\"\n",
    "    total_count = df.count()\n",
    "\n",
    "    if total_count == 0:\n",
    "        print(f\"Data quality check failed for {table_name} with zero records!\")\n",
    "    else:\n",
    "        print(f\"Data quality check passed for {table_name} with {total_count:,} records.\")\n",
    "    return 0"
   ]
  },
  {
   "cell_type": "code",
   "execution_count": 107,
   "metadata": {
    "editable": true
   },
   "outputs": [
    {
     "name": "stdout",
     "output_type": "stream",
     "text": [
      "Data quality check passed for fact_immigration with 3,096,313 records.\n",
      "Data quality check passed for dim_airline with 3,096,313 records.\n",
      "Data quality check passed for dim_demography with 2,875 records.\n",
      "Data quality check passed for dim_temperature with 639,649 records.\n",
      "Data quality check passed for dim_visatype with 17 records.\n"
     ]
    }
   ],
   "source": [
    "# run quality_check function \n",
    "table_dict = {\n",
    "    'fact_immigration': fact_immigration_df,\n",
    "    'dim_airline': dim_immi_airline,\n",
    "    'dim_demography':dim_demog_df,\n",
    "    'dim_temperature':dim_temp,\n",
    "    'dim_visatype':df_visatype\n",
    "}\n",
    "\n",
    "for table_name, table_df in table_dict.items():\n",
    "    quality_checks(table_df,table_name)"
   ]
  },
  {
   "cell_type": "code",
   "execution_count": 108,
   "metadata": {
    "editable": true
   },
   "outputs": [],
   "source": [
    "# Perform quality checks here\n",
    "def label_quality_checks(df, table_name):\n",
    "    \"\"\"\n",
    "    Check count of dataframe correspond to table\n",
    "    \n",
    "        df: pandas dataframe to check counts on\n",
    "        table_name: corresponding name of table\n",
    "    \"\"\"\n",
    "    total_count = df.count()[0]\n",
    "\n",
    "    if total_count == 0:\n",
    "        print(f\"Data quality check failed for {table_name} with zero records!\")\n",
    "    else:\n",
    "        print(f\"Data quality check passed for {table_name} with {total_count} records.\")\n",
    "    return 0"
   ]
  },
  {
   "cell_type": "code",
   "execution_count": 110,
   "metadata": {
    "editable": true
   },
   "outputs": [
    {
     "name": "stdout",
     "output_type": "stream",
     "text": [
      "Data quality check passed for dim_country with 289 records.\n",
      "Data quality check passed for dim_city with 660 records.\n",
      "Data quality check passed for dim_state with 55 records.\n"
     ]
    }
   ],
   "source": [
    "# run quality_check function \n",
    "label_dict = {\n",
    "    'dim_country': df_country_code, \n",
    "    'dim_city': df_city_code, \n",
    "    'dim_state': df_state_code\n",
    "}\n",
    "\n",
    "for table_name, table_df in label_dict.items():\n",
    "    label_quality_checks(table_df,table_name)"
   ]
  },
  {
   "cell_type": "code",
   "execution_count": null,
   "metadata": {
    "editable": true
   },
   "outputs": [],
   "source": []
  },
  {
   "cell_type": "markdown",
   "metadata": {
    "editable": true
   },
   "source": [
    "### 4.3 Data Dictionary"
   ]
  },
  {
   "cell_type": "markdown",
   "metadata": {
    "editable": true
   },
   "source": [
    "#### Fact-immigration\n",
    "\n",
    "- `immigration_id` = primary key of immigration table \n",
    "- `cic_id` = unique record id \n",
    "- `year` = 4 digit year \n",
    "- `month` = digit month \n",
    "- `country_code` = country code of residence \n",
    "- `city_code` = arrival city code \n",
    "- `arrive_date` = arrival date in the USA \n",
    "- `depart_date` = departure date from the USA \n",
    "- `state_code` = arrival state code of USA \n",
    "- `gender` = gender \n",
    "- `visa_type` = class of visa admission\n",
    "- `flight_num` = flight number"
   ]
  },
  {
   "cell_type": "markdown",
   "metadata": {
    "editable": true
   },
   "source": [
    "#### Dimension-demography Table\n",
    "\n",
    "- `demog_id` = primary key of table\n",
    "- `city` = City Name \n",
    "- `State` = US state \n",
    "- `median_age` = Median age of the population \n",
    "- `male` = Count of male population \n",
    "- `female` = count of female population \n",
    "- `total` = Count of total population\n",
    "- `veteran` = Count of total veterans \n",
    "- `foreign_born` = Count of residents of the city that were not born in the city \n",
    "- `avg_house_size` = Average city household size \n",
    "- `state_code` = Code of the US state \n",
    "- `race` = Respondent race \n",
    "- `count` = Count of city's individual per race"
   ]
  },
  {
   "cell_type": "markdown",
   "metadata": {
    "editable": true
   },
   "source": [
    "#### Dimension-Temperature Table\n",
    "- `temp_id` = primary key of temperature table \n",
    "- `avg_temp` = average temperature \n",
    "- `avg_temp_uncer` = average temperature of uncertainty\n",
    "- `city` = city name \n",
    "- `country` = country name \n",
    "- `lat` = latitude \n",
    "- `long`= longitude \n",
    "- `year` = digit year \n",
    "- ` month` = digit month"
   ]
  },
  {
   "cell_type": "markdown",
   "metadata": {
    "editable": true
   },
   "source": [
    "#### Dimension-Airline Table\n",
    "- `immi_airline_id` = primary key of AIrline Table \n",
    "- `cic_id` = unique record of immigration dataset \n",
    "- `airline` = the code of airline \n",
    "- `admission_num` = addmission number of immigration \n",
    "- `flight_num` = flight number"
   ]
  },
  {
   "cell_type": "markdown",
   "metadata": {
    "editable": true
   },
   "source": [
    "#### Dimension-Visa Table\n",
    "\n",
    "- `visa_type_key` = primary key of visa table \n",
    "- `visa_type` = code of visa type \n",
    "- `visa_code` = numeric code of reason of immigration to USA\n",
    "- `visa_group` = reason of immigration"
   ]
  },
  {
   "cell_type": "markdown",
   "metadata": {
    "editable": true
   },
   "source": [
    "#### Dimension-country Table \n",
    "- `code` = global country code \n",
    "- `country` = country name\n",
    "#### Dimension-state table \n",
    "- `code` = state code of U.S\n",
    "- `state` = state name \n",
    "#### Dimension-city table \n",
    "- `code` = city code of U.S\n",
    "- `city` = city name of U.S"
   ]
  },
  {
   "cell_type": "code",
   "execution_count": null,
   "metadata": {
    "editable": true
   },
   "outputs": [],
   "source": []
  },
  {
   "cell_type": "code",
   "execution_count": null,
   "metadata": {
    "editable": true
   },
   "outputs": [],
   "source": []
  },
  {
   "cell_type": "code",
   "execution_count": null,
   "metadata": {
    "editable": true
   },
   "outputs": [],
   "source": []
  },
  {
   "cell_type": "code",
   "execution_count": null,
   "metadata": {
    "editable": true
   },
   "outputs": [],
   "source": []
  },
  {
   "cell_type": "markdown",
   "metadata": {
    "editable": true
   },
   "source": [
    "## Step 5: Complete Project Write Up\n"
   ]
  },
  {
   "cell_type": "markdown",
   "metadata": {
    "editable": true
   },
   "source": [
    "### Tools and Technologies \n",
    "1. AWS S3 Bucket for Data Lake and Data warehouse \n",
    "2. Pandas for exploratory data analysis on small dataset \n",
    "3. PySpark for data processing to transform staging table to fact-dimension table on larget dataset"
   ]
  },
  {
   "cell_type": "markdown",
   "metadata": {
    "editable": true
   },
   "source": [
    "### Data Update Frequency \n",
    "1. I94 Immigration dataset and Temperature dataset is updated monthly, then dimension tables on data warehouse, data lake should be updated monthly "
   ]
  },
  {
   "cell_type": "markdown",
   "metadata": {
    "editable": true
   },
   "source": [
    "### Future Desing Considerations\n",
    "1. IF the data was increased by 100x:\n",
    "    - If Spark with standalone server mode can not process 100x dataset, we could consider to use \n",
    "        AWS EMR cluster with increasing number of node on AWS EMR cluster.\n",
    "2. IF The data populates a dashboard that must be updated on a daily basis by 7am every day:\n",
    "    - To automate data processing, we could consider to build up ETL data pipeline to scheduling the task.\n",
    "3. IF  the database needed to be accessed by 100+ people:\n",
    "    - We could consider to put the database on Aws Redshift as Data Warehouse."
   ]
  },
  {
   "cell_type": "code",
   "execution_count": null,
   "metadata": {
    "editable": true
   },
   "outputs": [],
   "source": []
  },
  {
   "cell_type": "code",
   "execution_count": null,
   "metadata": {
    "editable": true
   },
   "outputs": [],
   "source": []
  }
 ],
 "metadata": {
  "kernelspec": {
   "display_name": "Python 3",
   "language": "python",
   "name": "python3"
  },
  "language_info": {
   "codemirror_mode": {
    "name": "ipython",
    "version": 3
   },
   "file_extension": ".py",
   "mimetype": "text/x-python",
   "name": "python",
   "nbconvert_exporter": "python",
   "pygments_lexer": "ipython3",
   "version": "3.6.3"
  }
 },
 "nbformat": 4,
 "nbformat_minor": 4
}
